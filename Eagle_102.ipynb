{
 "cells": [
  {
   "cell_type": "markdown",
   "metadata": {},
   "source": [
    "# Eagle 102\n",
    "Try forecasting on all buildings (separately) from one site."
   ]
  },
  {
   "cell_type": "code",
   "execution_count": 1,
   "metadata": {},
   "outputs": [],
   "source": [
    "DATAPATH=''\n",
    "try:\n",
    "    # On Google Drive, set path to my drive / data directory.\n",
    "    from google.colab import drive\n",
    "    IN_COLAB = True\n",
    "    PATH='/content/drive/'\n",
    "    drive.mount(PATH)\n",
    "    DATAPATH=PATH+'My Drive/data/'  # must end in \"/\"\n",
    "except:\n",
    "    # On home computer, set path to local data directory.\n",
    "    IN_COLAB = False\n",
    "    DATAPATH='data/'  # must end in \"/\"\n",
    "\n",
    "ZIP_FILE='BuildingData.zip'\n",
    "ZIP_PATH = DATAPATH+ZIP_FILE\n",
    "STEAM_FILE='steam.csv'\n",
    "WEATHER_FILE='weather.csv'\n",
    "MODEL_FILE='Model'  # will be used later to save models"
   ]
  },
  {
   "cell_type": "code",
   "execution_count": 2,
   "metadata": {},
   "outputs": [],
   "source": [
    "from os import listdir\n",
    "import csv\n",
    "from zipfile import ZipFile\n",
    "import numpy as np\n",
    "import pandas as pd\n",
    "from pandas.plotting import autocorrelation_plot\n",
    "from scipy import stats  # mode\n",
    "\n",
    "from sklearn.preprocessing import StandardScaler\n",
    "from sklearn.linear_model import LinearRegression\n",
    "from sklearn.metrics import mean_squared_error\n",
    "\n",
    "import matplotlib.pyplot as plt\n",
    "from matplotlib import colors\n",
    "mycmap = colors.ListedColormap(['red','blue'])  # list color for label 0 then 1\n",
    "np.set_printoptions(precision=2)"
   ]
  },
  {
   "cell_type": "code",
   "execution_count": 3,
   "metadata": {},
   "outputs": [],
   "source": [
    "def read_zip_to_panda(zip_filename,csv_filename):\n",
    "    zip_handle = ZipFile(zip_filename)\n",
    "    csv_handle = zip_handle.open(csv_filename)\n",
    "    panda = pd.read_csv(csv_handle)\n",
    "    return panda\n",
    "def fix_date_type(panda):\n",
    "    # Convert the given timestamp column to the pandas datetime data type.\n",
    "    panda['timestamp'] = pd.to_datetime(panda['timestamp'], infer_datetime_format = True)\n",
    "    indexed = panda.set_index(['timestamp'])\n",
    "    return indexed\n",
    "def get_site_timeseries(panda,site):\n",
    "    # Assume the panda dataframe has a datetime column.\n",
    "    # (If not, call fix_date_type() before this.)\n",
    "    # Extract the timeseries for one site.\n",
    "    # Convert the datetime column to a DatetimeIndex.\n",
    "    site_df = panda[panda['site_id']==site]\n",
    "    temp_col = site_df['date']\n",
    "    temp_val = temp_col.values\n",
    "    temp_ndx = pd.DatetimeIndex(temp_val)\n",
    "    dropped = site_df.drop('date',axis=1)\n",
    "    panda = dropped.set_index(temp_ndx)\n",
    "    return panda"
   ]
  },
  {
   "cell_type": "code",
   "execution_count": 9,
   "metadata": {},
   "outputs": [],
   "source": [
    "SITE = 'Eagle'\n",
    "METER = 'steam'\n",
    "BLDG = 'Eagle_education_Peter'\n",
    "wet_df = read_zip_to_panda(ZIP_PATH,WEATHER_FILE)\n",
    "wet_df = fix_date_type(wet_df)\n",
    "stm_df = read_zip_to_panda(ZIP_PATH,STEAM_FILE)\n",
    "stm_df = fix_date_type(stm_df)\n",
    "site_specific_weather = wet_df.loc[wet_df['site_id'] == SITE]\n",
    "all_buildings = [x for x in stm_df.columns if x.startswith(SITE)]"
   ]
  },
  {
   "cell_type": "code",
   "execution_count": 33,
   "metadata": {
    "scrolled": false
   },
   "outputs": [
    {
     "name": "stdout",
     "output_type": "stream",
     "text": [
      "CORR,      MEAN,      RMSE,  BLDG\n",
      "-0.8136    2032.67     990.13 Eagle_education_Sherrill\n",
      "-0.8031    3153.28    1251.29 Eagle_education_Peter\n",
      "-0.7151     477.70     380.29 Eagle_health_Athena\n",
      "-0.6993    1199.41     587.77 Eagle_education_Roman\n",
      "-0.6932     712.07     405.44 Eagle_education_Norah\n",
      "-0.6926     327.97     147.77 Eagle_health_Reuben\n",
      "-0.6588     745.06     339.12 Eagle_education_Raul\n",
      "-0.6195      57.05      34.35 Eagle_education_Petra\n",
      "-0.5979    1638.69    1290.19 Eagle_education_Brooke\n",
      "-0.5770     103.18      50.95 Eagle_education_Shana\n",
      "-0.5770      87.21      43.06 Eagle_office_Phyllis\n",
      "-0.5770     694.98     343.15 Eagle_education_Alberto\n",
      "-0.5770      35.89      17.72 Eagle_office_Mandi\n",
      "-0.5745    1084.29     458.38 Eagle_health_Reba\n",
      "-0.5659     192.41      91.11 Eagle_health_Jodi\n",
      "-0.5644     182.08     141.84 Eagle_public_Alvin\n",
      "-0.5471     216.03     267.23 Eagle_assembly_Herbert\n",
      "-0.5345     103.71      83.60 Eagle_lodging_Tressa\n",
      "-0.5314     148.74     126.38 Eagle_education_Teresa\n",
      "-0.5295      92.83      77.18 Eagle_lodging_Dawn\n",
      "-0.4807     108.03     134.90 Eagle_education_Cassie\n",
      "-0.4531     336.47     128.25 Eagle_office_Francis\n",
      "-0.4357    1037.69     368.02 Eagle_office_Chauncey\n",
      "-0.4295      22.57      58.43 Eagle_lodging_Casey\n",
      "-0.4246      91.28     103.39 Eagle_lodging_Trina\n",
      "-0.4212      81.97      71.13 Eagle_lodging_Edgardo\n",
      "-0.4020     101.60     107.50 Eagle_office_Freida\n",
      "-0.3997      15.76      89.62 Eagle_education_Jewell\n",
      "-0.3844      62.02      64.24 Eagle_office_Sheree\n",
      "-0.3327      36.93      14.64 Eagle_office_Lamont\n",
      "    nan       0.00       0.00 Eagle_office_Henriette\n",
      "-0.4636     122.35      82.94 Eagle_health_Vincenza\n",
      "-0.4173     276.26     215.53 Eagle_food_Kay\n",
      "-0.4109     390.78     135.35 Eagle_office_Norbert\n",
      "-0.3327     272.96     108.23 Eagle_office_Nereida\n",
      "-0.3327     121.46      48.16 Eagle_office_Remedios\n",
      "-0.3226     226.32      94.14 Eagle_education_Will\n",
      "-0.3223     659.66     672.49 Eagle_health_Gregoria\n",
      "-0.3050      56.51      95.40 Eagle_office_Dallas\n",
      "-0.2932      46.46      30.16 Eagle_education_Eileen\n",
      "-0.2727     174.62     147.61 Eagle_office_Tia\n",
      "-0.2389     165.88     149.25 Eagle_office_Patrice\n",
      "-0.1951    1004.16    1499.09 Eagle_education_Shante\n",
      "-0.1425      43.44     199.01 Eagle_lodging_Blake\n",
      " 0.4329       0.11       0.04 Eagle_education_Wesley\n"
     ]
    }
   ],
   "source": [
    "cors = []\n",
    "for BLDG in all_buildings:\n",
    "    bldg_specific_steam = stm_df[[BLDG]]    \n",
    "    one_bldg_df = pd.concat([bldg_specific_steam,site_specific_weather],axis=1)\n",
    "    one_bldg_df = one_bldg_df.drop(['site_id'],axis=1)\n",
    "    one_bldg_df = one_bldg_df.rename(columns={BLDG : METER})\n",
    "    mean = one_bldg_df[METER].mean()\n",
    "    cor = one_bldg_df.corr().iloc[0][3]\n",
    "    # Linear Regression\n",
    "    X = one_bldg_df.drop(METER,axis=1).fillna(0)\n",
    "    y = one_bldg_df[METER].fillna(0)\n",
    "    split = 900\n",
    "    X_train = X.iloc[0:split]\n",
    "    y_train = y.iloc[0:split]\n",
    "    linreg = LinearRegression()\n",
    "    linreg.fit(X_train,y_train)\n",
    "    X_test = X.iloc[split:]\n",
    "    y_test = y.iloc[split:]\n",
    "    y_pred = linreg.predict(X_test)\n",
    "    rmse = mean_squared_error(y_test,y_pred,squared=False)\n",
    "    #\n",
    "    cors.append([cor,mean,rmse,BLDG])\n",
    "\n",
    "print(\"CORR,      MEAN,      RMSE,  BLDG\")\n",
    "for cor in sorted(cors):\n",
    "    print(\"%7.4f %10.2f %10.2f %s\"%(cor[0],cor[1],cor[2],cor[3]))"
   ]
  },
  {
   "cell_type": "code",
   "execution_count": null,
   "metadata": {},
   "outputs": [],
   "source": []
  }
 ],
 "metadata": {
  "kernelspec": {
   "display_name": "Python 3",
   "language": "python",
   "name": "python3"
  },
  "language_info": {
   "codemirror_mode": {
    "name": "ipython",
    "version": 3
   },
   "file_extension": ".py",
   "mimetype": "text/x-python",
   "name": "python",
   "nbconvert_exporter": "python",
   "pygments_lexer": "ipython3",
   "version": "3.9.1"
  }
 },
 "nbformat": 4,
 "nbformat_minor": 2
}
