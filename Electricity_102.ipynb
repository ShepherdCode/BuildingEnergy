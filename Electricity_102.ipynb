{
 "cells": [
  {
   "cell_type": "markdown",
   "metadata": {},
   "source": [
    "# Apply ARIMA to the Electricity Dataset\n",
    "Assume user downloaded archive.zip from Kaggle,\n",
    "renamed the file BuildingData.zip,\n",
    "and stored the file in the data subdirectory.\n",
    "Assume the zip file contains the electricity_cleaned.csv file.  "
   ]
  },
  {
   "cell_type": "code",
   "execution_count": 1,
   "metadata": {},
   "outputs": [],
   "source": [
    "DATAPATH=''\n",
    "try:\n",
    "    # On Google Drive, set path to my drive / data directory.\n",
    "    from google.colab import drive\n",
    "    IN_COLAB = True\n",
    "    PATH='/content/drive/'\n",
    "    drive.mount(PATH)\n",
    "    DATAPATH=PATH+'My Drive/data/'  # must end in \"/\"\n",
    "except:\n",
    "    # On home computer, set path to local data directory.\n",
    "    IN_COLAB = False\n",
    "    DATAPATH='C:/'  # must end in \"/\"\n",
    "\n",
    "ZIP_FILE='BuildingData.zip'\n",
    "ZIP_PATH = DATAPATH+ZIP_FILE\n",
    "ELEC_FILE='electricity_cleaned.csv'\n",
    "MODEL_FILE='Model'  # will be used later to save models"
   ]
  },
  {
   "cell_type": "code",
   "execution_count": null,
   "metadata": {},
   "outputs": [],
   "source": [
    "from os import listdir\n",
    "import csv\n",
    "from zipfile import ZipFile\n",
    "import numpy as np\n",
    "import pandas as pd\n",
    "from pandas.plotting import autocorrelation_plot\n",
    "\n",
    "from sklearn.decomposition import PCA, KernelPCA\n",
    "from sklearn.preprocessing import StandardScaler\n",
    "\n",
    "from statsmodels.tsa.arima.model import ARIMA\n",
    "\n",
    "import matplotlib.pyplot as plt\n",
    "from matplotlib import colors\n",
    "mycmap = colors.ListedColormap(['red','blue'])  # list color for label 0 then 1\n",
    "np.set_printoptions(precision=2)"
   ]
  },
  {
   "cell_type": "code",
   "execution_count": null,
   "metadata": {},
   "outputs": [],
   "source": [
    "def read_zip_to_panda(zip_filename,csv_filename):\n",
    "    zip_handle = ZipFile(zip_filename)\n",
    "    csv_handle = zip_handle.open(csv_filename)\n",
    "    panda = pd.read_csv(csv_handle)\n",
    "    return panda\n",
    "def fix_date_type(panda):\n",
    "    # Convert the given timestamp column to the pandas datetime data type.\n",
    "    panda['timestamp'] = pd.to_datetime(panda['timestamp'], infer_datetime_format = True)\n",
    "    indexed = panda.set_index(['timestamp'])\n",
    "    return indexed\n",
    "def get_building_timeseries(panda,building):\n",
    "    # Assume the panda dataframe has a datetime column.\n",
    "    # (If not, call fix_date_type() before this.)\n",
    "    # Extract the timeseries for one site.\n",
    "    # Convert the datetime column to a DatetimeIndex.\n",
    "    site_df = panda[panda['site_id']==site]\n",
    "    temp_col = site_df['date']\n",
    "    temp_val = temp_col.values\n",
    "    temp_ndx = pd.DatetimeIndex(temp_val)\n",
    "    dropped = building_df.drop('date',axis=1)\n",
    "    panda = dropped.set_index(temp_ndx)\n",
    "    return panda"
   ]
  },
  {
   "cell_type": "code",
   "execution_count": null,
   "metadata": {},
   "outputs": [],
   "source": [
    "elec_df = read_zip_to_panda(ZIP_PATH,ELEC_FILE)\n",
    "elec_df = fix_date_type(elec_df)\n",
    "elec_df.info()"
   ]
  },
  {
   "cell_type": "code",
   "execution_count": null,
   "metadata": {},
   "outputs": [],
   "source": []
  },
  {
   "cell_type": "code",
   "execution_count": null,
   "metadata": {},
   "outputs": [],
   "source": [
    "#Convert the DataTime\n",
    "#elec_df['timestamp'] = pd.to_datetime(elec_df['timestamp'], infer_datetime_format = True)\n",
    "#indexed_elec_df = elec_df.set_index(['timestamp'])"
   ]
  },
  {
   "cell_type": "code",
   "execution_count": null,
   "metadata": {},
   "outputs": [],
   "source": []
  },
  {
   "cell_type": "code",
   "execution_count": null,
   "metadata": {},
   "outputs": [],
   "source": [
    "park_cols = [c for c in elec_df.columns if 'Gator' in c]\n",
    "print(park_cols)"
   ]
  },
  {
   "cell_type": "code",
   "execution_count": null,
   "metadata": {},
   "outputs": [],
   "source": [
    "cols=elec_df.columns\n",
    "all_sites=[s.split('_')[0] for s in cols]  # Site is first part of building name like Hog_parking_Linda\n",
    "uniq_sites = [x for x in set(all_sites)]\n",
    "site_counts = [[x,all_sites.count(x)] for x in set(all_sites)]\n",
    "print(\"Note we only have a few sites!\")\n",
    "print(\"Buildings per site:\\n\",site_counts)"
   ]
  },
  {
   "cell_type": "code",
   "execution_count": null,
   "metadata": {},
   "outputs": [],
   "source": [
    "buildings = elec_df.filter(like='Fox')\n"
   ]
  },
  {
   "cell_type": "code",
   "execution_count": null,
   "metadata": {},
   "outputs": [],
   "source": [
    "list_buildings= list(elec_df)\n"
   ]
  },
  {
   "cell_type": "code",
   "execution_count": null,
   "metadata": {},
   "outputs": [],
   "source": [
    "# Plot temperature time series for one column (building). \n",
    "show_all_plots = False\n",
    "if show_all_plots:\n",
    "    cols=elec_df.columns\n",
    "    uniq_sites = [x for x in set(all_sites)]\n",
    "    for site in uniq_sites:\n",
    "        for bldg in cols:\n",
    "            if bldg.startswith(site):\n",
    "                temp_df = stm_df[bldg]\n",
    "                temp_df.plot(figsize=(20,5))\n",
    "        plt.title(\"Steam for site \"+site)\n",
    "        plt.show()"
   ]
  },
  {
   "cell_type": "code",
   "execution_count": null,
   "metadata": {},
   "outputs": [],
   "source": []
  },
  {
   "cell_type": "markdown",
   "metadata": {},
   "source": [
    "## Drill Down\n",
    "Number of buildings for Bull = 4; Moose = 6; Rat = 7; Eagle = 19; Wolf = 33; Bear = 34; Peacock = 35; Robin = 50; Lamb = 77; Fox and Hog= 116. "
   ]
  },
  {
   "cell_type": "code",
   "execution_count": null,
   "metadata": {},
   "outputs": [],
   "source": [
    "# Plot temperature time series for one column (building). \n",
    "cols=elec_df.columns\n",
    "uniq_sites = [x for x in set(all_sites)]\n",
    "show_legend = False\n",
    "for site in uniq_sites:\n",
    "    suitable_bldgs=[]\n",
    "    for bldg in cols:\n",
    "        if bldg.startswith(site):  # and 'education' in bldg and bldg.endswith('ll'):\n",
    "            temp_df = elec_df[bldg]\n",
    "            smooth = temp_df.resample(\"1D\").mean()  \n",
    "            count_nan=np.isnan(smooth).sum()\n",
    "            count_zero=smooth.isin([0]).sum()\n",
    "            if count_nan<=0 and count_zero<=5:\n",
    "                suitable_bldgs.append(bldg)\n",
    "                np.seterr(divide = 'ignore') \n",
    "                logs = np.log(smooth)\n",
    "                logs.plot(figsize=(20,10))\n",
    "                np.seterr(divide = 'warn') \n",
    "    num_bldg = len(suitable_bldgs)\n",
    "    if num_bldg>0:\n",
    "        plt.title(\"Electricity for selected buildings at site \"+site)\n",
    "        if show_legend:\n",
    "            plt.legend()\n",
    "        plt.show()\n",
    "        print(\"Site\",site,\"has good steam data from\",num_bldg,\"buildings:\\n\",suitable_bldgs)\n"
   ]
  },
  {
   "cell_type": "code",
   "execution_count": null,
   "metadata": {},
   "outputs": [],
   "source": []
  },
  {
   "cell_type": "code",
   "execution_count": null,
   "metadata": {},
   "outputs": [],
   "source": []
  },
  {
   "cell_type": "code",
   "execution_count": null,
   "metadata": {},
   "outputs": [],
   "source": []
  },
  {
   "cell_type": "code",
   "execution_count": null,
   "metadata": {},
   "outputs": [],
   "source": [
    "# See the Electricity_100 notebook for basic stats."
   ]
  },
  {
   "cell_type": "code",
   "execution_count": null,
   "metadata": {},
   "outputs": [],
   "source": [
    "# Not done: start ARIMA analysis."
   ]
  }
 ],
 "metadata": {
  "kernelspec": {
   "display_name": "Python 3",
   "language": "python",
   "name": "python3"
  },
  "language_info": {
   "codemirror_mode": {
    "name": "ipython",
    "version": 3
   },
   "file_extension": ".py",
   "mimetype": "text/x-python",
   "name": "python",
   "nbconvert_exporter": "python",
   "pygments_lexer": "ipython3",
   "version": "3.9.1"
  }
 },
 "nbformat": 4,
 "nbformat_minor": 2
}
