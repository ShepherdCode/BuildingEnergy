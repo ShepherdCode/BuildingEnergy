{
 "cells": [
  {
   "cell_type": "code",
   "execution_count": 1,
   "id": "likely-football",
   "metadata": {},
   "outputs": [],
   "source": [
    "DATAPATH=''\n",
    "try:\n",
    "    # On Google Drive, set path to my drive / data directory.\n",
    "    from google.colab import drive\n",
    "    IN_COLAB = True\n",
    "    PATH='/content/drive/'\n",
    "    drive.mount(PATH)\n",
    "    DATAPATH=PATH+'My Drive/data/'  # must end in \"/\"\n",
    "except:\n",
    "    # On home computer, set path to local data directory.\n",
    "    IN_COLAB = False\n",
    "    DATAPATH='C:/'  # must end in \"/\"\n",
    "\n",
    "ZIP_FILE='BuildingData.zip'\n",
    "ZIP_PATH = DATAPATH+ZIP_FILE\n",
    "STEAM_FILE='steam.csv'\n",
    "MODEL_FILE='Model'  # will be used later to save models"
   ]
  },
  {
   "cell_type": "code",
   "execution_count": 2,
   "id": "reported-party",
   "metadata": {},
   "outputs": [],
   "source": [
    "from os import listdir\n",
    "import csv\n",
    "from zipfile import ZipFile\n",
    "import numpy as np\n",
    "import pandas as pd\n",
    "from pandas.plotting import autocorrelation_plot\n",
    "\n",
    "from sklearn.decomposition import PCA, KernelPCA\n",
    "from sklearn.preprocessing import StandardScaler\n",
    "\n",
    "import statsmodels.api as sm\n",
    "from statsmodels.tsa.arima.model import ARIMA\n",
    "from pmdarima import auto_arima\n",
    "from sklearn.metrics import mean_squared_error\n",
    "from statsmodels.tsa.stattools import adfuller,acf,pacf\n",
    "from statsmodels.tsa.seasonal import seasonal_decompose\n",
    "from statsmodels.tools.eval_measures import rmse\n",
    "from math import sqrt\n",
    "\n",
    "import warnings\n",
    "warnings.filterwarnings('ignore')\n",
    "\n",
    "import matplotlib.pyplot as plt\n",
    "from matplotlib import colors\n",
    "mycmap = colors.ListedColormap(['red','blue'])  # list color for label 0 then 1\n",
    "np.set_printoptions(precision=2)"
   ]
  },
  {
   "cell_type": "code",
   "execution_count": 3,
   "id": "liquid-compression",
   "metadata": {},
   "outputs": [],
   "source": [
    "def read_zip_to_panda(zip_filename,csv_filename):\n",
    "    zip_handle = ZipFile(zip_filename)\n",
    "    csv_handle = zip_handle.open(csv_filename)\n",
    "    panda = pd.read_csv(csv_handle)\n",
    "    return panda\n",
    "def fix_date_type(panda):\n",
    "    # Convert the given timestamp column to the pandas datetime data type.\n",
    "    panda['timestamp'] = pd.to_datetime(panda['timestamp'], infer_datetime_format = True)\n",
    "    indexed = panda.set_index(['timestamp'])\n",
    "    return indexed\n",
    "def get_site_timeseries(panda,site):\n",
    "    # Assume the panda dataframe has a datetime column.\n",
    "    # (If not, call fix_date_type() before this.)\n",
    "    # Extract the timeseries for one site.\n",
    "    # Convert the datetime column to a DatetimeIndex.\n",
    "    site_df = panda[panda['site_id']==site]\n",
    "    temp_col = site_df['date']\n",
    "    temp_val = temp_col.values\n",
    "    temp_ndx = pd.DatetimeIndex(temp_val)\n",
    "    dropped = site_df.drop('date',axis=1)\n",
    "    panda = dropped.set_index(temp_ndx)\n",
    "    return panda"
   ]
  },
  {
   "cell_type": "code",
   "execution_count": null,
   "id": "nutritional-locator",
   "metadata": {},
   "outputs": [],
   "source": [
    "steam_df = read_zip_to_panda(ZIP_PATH,STEAM_FILE)\n",
    "steam_df = fix_date_type(steam_df)\n",
    "steam_df.info()"
   ]
  },
  {
   "cell_type": "code",
   "execution_count": null,
   "id": "stopped-webster",
   "metadata": {},
   "outputs": [],
   "source": [
    "buildings = [c for c in steam_df.columns if 'Eagle' in c]\n",
    "print(buildings)"
   ]
  },
  {
   "cell_type": "code",
   "execution_count": null,
   "id": "vulnerable-kitty",
   "metadata": {},
   "outputs": [],
   "source": [
    "# Before analyzing the entire dataset, we look at this subset.\n",
    "SITE = 'Eagle'\n",
    "METER = 'steam'\n",
    "\n",
    "stm_df = read_zip_to_panda(ZIP_PATH,STEAM_FILE)\n",
    "stm_df = fix_date_type(stm_df)\n",
    "stm_df = stm_df.fillna(4)\n",
    "#site_specific_weather = stm_df.loc[stm_df['site_id'] == SITE]\n",
    "all_buildings = [x for x in stm_df.columns if x.startswith(SITE)]"
   ]
  },
  {
   "cell_type": "markdown",
   "id": "breeding-emergency",
   "metadata": {},
   "source": [
    "## Check Stationarity"
   ]
  },
  {
   "cell_type": "code",
   "execution_count": null,
   "id": "emerging-nursing",
   "metadata": {},
   "outputs": [],
   "source": [
    "\n",
    "for BLDG in all_buildings:\n",
    "    print(\"Building\",BLDG)\n",
    "    # Get steam usage for one building.\n",
    "    bldg_specific_steam = stm_df[BLDG]\n",
    "    bldg_specific_steam= pd.DataFrame(bldg_specific_steam)\n",
    "    bldg_specific_steam = bldg_specific_steam.fillna(0)\n",
    "    #Perform Building Dickey-Fuller test:\n",
    "    print ('Results of Dickey-Fuller Test: \\n the test statistic is less than critical value, reject the null hypothesis')\n",
    "    dftest = adfuller(bldg_specific_steam, autolag = 'AIC') #AIC gives the information about time series \n",
    "    dfoutput= pd.Series (dftest[0:4], index= ['Test Statistic','p-value: \\n p-value is smaller than 0.05','#lags used', 'Number of Observations Used'])\n",
    "    for key, value in dftest [4].items ():\n",
    "        dfoutput ['Critical Value (%s)' %key] = value\n",
    "\n",
    "    print (dfoutput)\n",
    "    #Determine the rolling statistic\n",
    "    rolmean = bldg_specific_steam.rolling(window = 24).mean()\n",
    "    rolstd = bldg_specific_steam.rolling(window = 24).std()\n",
    "\n",
    "    #Checking the Stationarity\n",
    "    #Plot rolling statistics\n",
    "    plt.figure(figsize=(20,10))\n",
    "    orig = plt.plot (bldg_specific_steam, color = 'blue',label = (BLDG))\n",
    "    mean = plt.plot (rolmean, color = 'red',label = 'Rolling Mean')\n",
    "    std = plt.plot (rolstd, color = 'black',label = 'Rolling std')\n",
    "    plt.legend (loc ='best')\n",
    "    plt.title ('Rolling Mean & Standard Deviation')\n",
    "    plt.show (block = False)\n",
    "print(bldg_specific_steam)\n"
   ]
  },
  {
   "cell_type": "markdown",
   "id": "earlier-letters",
   "metadata": {},
   "source": [
    "## Automatic Time Series Decomposition"
   ]
  },
  {
   "cell_type": "code",
   "execution_count": null,
   "id": "indirect-lightweight",
   "metadata": {},
   "outputs": [],
   "source": [
    "\n",
    "stm_df = stm_df.fillna(4)\n",
    "\n",
    "for time_series in all_buildings:\n",
    "    bldg_specific_steam = stm_df[time_series]\n",
    "    bldg_specific_steam= pd.DataFrame(bldg_specific_steam)\n",
    "    decomposition = seasonal_decompose (bldg_specific_steam.values,period = 24*30, model = 'additive') \n",
    "    decomposition.plot()\n",
    "    plt.title(time_series)\n",
    "    plt.tight_layout()\n",
    "\n",
    "print('The result:')\n",
    "print(decomposition.observed)\n",
    "print(decomposition.trend)\n",
    "print(decomposition.seasonal)\n",
    "print(decomposition.resid)\n",
    "\n",
    "\n"
   ]
  },
  {
   "cell_type": "markdown",
   "id": "valuable-lawrence",
   "metadata": {},
   "source": [
    "## Build ARIMA"
   ]
  },
  {
   "cell_type": "markdown",
   "id": "manual-treasury",
   "metadata": {},
   "source": [
    "## Determine the order of AR, I and MA component \n",
    "AR = p = period for autoregressive model (regression the past lag value, PACF method),\n",
    "<br>\n",
    "Integrated = d = order of autoregression (differenced value from present and previous to eliminate the effects of seasonality; removing the trend and seasonality to make it stationary)\n",
    "<br>\n",
    "MA = q = periods in moving average (present value is not only depended on the past value but the error lag value as well, use the ACF method)\n",
    "<br>\n",
    "Using AFC autocorreclation plot and PACF partial autocorrelatioin plot"
   ]
  },
  {
   "cell_type": "markdown",
   "id": "nasty-discount",
   "metadata": {},
   "source": [
    "for BLDG in all_buildings:\n",
    " \n",
    "    bldg_specific_steam = stm_df[BLDG]\n",
    "    bldg_specific_steam= pd.DataFrame(bldg_specific_steam)\n",
    "    fig = plt.figure(figsize = (20,6))\n",
    "    building_acf = fig.add_subplot(211)\n",
    "    acf_plot = sm.graphics.tsa.plot_acf (bldg_specific_steam.dropna(),lags = 40, ax = building_acf )\n",
    "    building_pacf = fig.add_subplot(212)\n",
    "    pacf_plot = sm.graphics.tsa.plot_pacf (bldg_specific_steam.dropna(),lags = 40, ax = building_pacf )"
   ]
  },
  {
   "cell_type": "code",
   "execution_count": null,
   "id": "sharp-shower",
   "metadata": {},
   "outputs": [],
   "source": [
    "for BLDG in all_buildings:\n",
    " \n",
    "    bldg_specific_steam = stm_df[BLDG]\n",
    "    bldg_specific_steam= pd.DataFrame(bldg_specific_steam)\n",
    "    print(bldg_specific_steam)\n",
    "    size = int(len(bldg_specific_steam) * 0.85)\n",
    "    train, test = bldg_specific_steam[0:size], bldg_specific_steam[size:len(bldg_specific_steam)]\n",
    "    train_building = [x for x in train]\n",
    "    predictions = list()\n",
    "  \n",
    "    for t in range(len(test)):\n",
    "        model = ARIMA(train, order=(3,1,5))\n",
    "        results_ARIMA = model.fit()\n",
    "        predictions = results_ARIMA.predict(start = len (train), end = len(bldg_specific_steam)-1, typ = 'levels'). rename ('ARIMA predictions')\n",
    "        print(predictions)\n",
    "        rmse = sqrt(mean_squared_error(test, predictions))\n",
    "       \n",
    "        \n",
    "        \n",
    "rmse = sqrt(mean_squared_error(test, predictions))\n",
    "print('Test RMSE: %.3f' % rmse)\n",
    "\n",
    "\n",
    "\n"
   ]
  },
  {
   "cell_type": "code",
   "execution_count": null,
   "id": "legal-kernel",
   "metadata": {},
   "outputs": [],
   "source": [
    "\n"
   ]
  },
  {
   "cell_type": "code",
   "execution_count": null,
   "id": "aggressive-morris",
   "metadata": {},
   "outputs": [],
   "source": []
  }
 ],
 "metadata": {
  "kernelspec": {
   "display_name": "Python 3",
   "language": "python",
   "name": "python3"
  },
  "language_info": {
   "codemirror_mode": {
    "name": "ipython",
    "version": 3
   },
   "file_extension": ".py",
   "mimetype": "text/x-python",
   "name": "python",
   "nbconvert_exporter": "python",
   "pygments_lexer": "ipython3",
   "version": "3.9.1"
  }
 },
 "nbformat": 4,
 "nbformat_minor": 5
}
