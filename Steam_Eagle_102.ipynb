{
 "cells": [
  {
   "cell_type": "markdown",
   "metadata": {},
   "source": [
    "# Eagle 102\n",
    "Try forecasting on all buildings (separately) from one site."
   ]
  },
  {
   "cell_type": "code",
   "execution_count": 1,
   "metadata": {},
   "outputs": [],
   "source": [
    "DATAPATH=''\n",
    "try:\n",
    "    # On Google Drive, set path to my drive / data directory.\n",
    "    from google.colab import drive\n",
    "    IN_COLAB = True\n",
    "    PATH='/content/drive/'\n",
    "    drive.mount(PATH)\n",
    "    DATAPATH=PATH+'My Drive/data/'  # must end in \"/\"\n",
    "except:\n",
    "    # On home computer, set path to local data directory.\n",
    "    IN_COLAB = False\n",
    "    DATAPATH='data/'  # must end in \"/\"\n",
    "\n",
    "ZIP_FILE='BuildingData.zip'\n",
    "ZIP_PATH = DATAPATH+ZIP_FILE\n",
    "STEAM_FILE='steam.csv'\n",
    "WEATHER_FILE='weather.csv'\n",
    "MODEL_FILE='Model'  # will be used later to save models"
   ]
  },
  {
   "cell_type": "code",
   "execution_count": 2,
   "metadata": {},
   "outputs": [],
   "source": [
    "from os import listdir\n",
    "import csv\n",
    "from zipfile import ZipFile\n",
    "import numpy as np\n",
    "import pandas as pd\n",
    "from pandas.plotting import autocorrelation_plot\n",
    "from scipy import stats  # mode\n",
    "\n",
    "from sklearn.preprocessing import StandardScaler\n",
    "from sklearn.linear_model import LinearRegression\n",
    "from sklearn.metrics import mean_squared_error\n",
    "\n",
    "import matplotlib.pyplot as plt\n",
    "from matplotlib import colors\n",
    "mycmap = colors.ListedColormap(['red','blue'])  # list color for label 0 then 1\n",
    "np.set_printoptions(precision=2)"
   ]
  },
  {
   "cell_type": "code",
   "execution_count": 3,
   "metadata": {},
   "outputs": [],
   "source": [
    "def read_zip_to_panda(zip_filename,csv_filename):\n",
    "    zip_handle = ZipFile(zip_filename)\n",
    "    csv_handle = zip_handle.open(csv_filename)\n",
    "    panda = pd.read_csv(csv_handle)\n",
    "    return panda\n",
    "def fix_date_type(panda):\n",
    "    # Convert the given timestamp column to the pandas datetime data type.\n",
    "    panda['timestamp'] = pd.to_datetime(panda['timestamp'], infer_datetime_format = True)\n",
    "    indexed = panda.set_index(['timestamp'])\n",
    "    return indexed\n",
    "def get_site_timeseries(panda,site):\n",
    "    # Assume the panda dataframe has a datetime column.\n",
    "    # (If not, call fix_date_type() before this.)\n",
    "    # Extract the timeseries for one site.\n",
    "    # Convert the datetime column to a DatetimeIndex.\n",
    "    site_df = panda[panda['site_id']==site]\n",
    "    temp_col = site_df['date']\n",
    "    temp_val = temp_col.values\n",
    "    temp_ndx = pd.DatetimeIndex(temp_val)\n",
    "    dropped = site_df.drop('date',axis=1)\n",
    "    panda = dropped.set_index(temp_ndx)\n",
    "    return panda"
   ]
  },
  {
   "cell_type": "code",
   "execution_count": 4,
   "metadata": {},
   "outputs": [],
   "source": [
    "SITE = 'Eagle'\n",
    "METER = 'steam'\n",
    "BLDG = 'Eagle_education_Peter'\n",
    "wet_df = read_zip_to_panda(ZIP_PATH,WEATHER_FILE)\n",
    "wet_df = fix_date_type(wet_df)\n",
    "stm_df = read_zip_to_panda(ZIP_PATH,STEAM_FILE)\n",
    "stm_df = fix_date_type(stm_df)\n",
    "site_specific_weather = wet_df.loc[wet_df['site_id'] == SITE]\n",
    "all_buildings = [x for x in stm_df.columns if x.startswith(SITE)]"
   ]
  },
  {
   "cell_type": "code",
   "execution_count": 18,
   "metadata": {
    "scrolled": false
   },
   "outputs": [
    {
     "name": "stdout",
     "output_type": "stream",
     "text": [
      "dew temp corr, dew temp mean, lin reg RMSE, RMSE/mean, BLDG\n",
      "-0.8131    2032.67     990.13  0.49   Eagle_education_Sherrill\n",
      "-0.8011    3149.69    1251.29  0.40   Eagle_education_Peter\n",
      "-0.7147     477.70     380.29  0.80   Eagle_health_Athena\n",
      "-0.6972    1197.84     587.77  0.49   Eagle_education_Roman\n",
      "-0.6928     712.07     405.44  0.57   Eagle_education_Norah\n",
      "-0.6191      57.05      34.35  0.60   Eagle_education_Petra\n",
      "-0.5975    1635.33    1290.19  0.79   Eagle_education_Brooke\n",
      "-0.5645     182.08     141.84  0.78   Eagle_public_Alvin\n",
      "-0.5301     148.51     126.38  0.85   Eagle_education_Teresa\n",
      "-0.5294      92.83      77.18  0.83   Eagle_lodging_Dawn\n",
      "-0.4636     121.95      82.94  0.68   Eagle_health_Vincenza\n",
      "-0.4516     336.36     128.25  0.38   Eagle_office_Francis\n",
      "-0.4243      91.28     103.39  1.13   Eagle_lodging_Trina\n",
      "-0.4210      81.97      71.13  0.87   Eagle_lodging_Edgardo\n",
      "-0.3226     226.25      94.14  0.42   Eagle_education_Will\n",
      " 0.4372       0.11       0.04  0.40   Eagle_education_Wesley\n"
     ]
    }
   ],
   "source": [
    "cors = []\n",
    "MAX_BAD = 500 # correlation is higher in buildings without so many NaN and 0\n",
    "for BLDG in all_buildings:\n",
    "    bldg_specific_steam = stm_df[[BLDG]]    \n",
    "    one_bldg_df = pd.concat([bldg_specific_steam,site_specific_weather],axis=1)\n",
    "    one_bldg_df = one_bldg_df.drop(['site_id'],axis=1)\n",
    "    one_bldg_df = one_bldg_df.rename(columns={BLDG : METER})\n",
    "    one_bldg_df = one_bldg_df.fillna(0)\n",
    "    bad = one_bldg_df[METER].isin([0]).sum()\n",
    "    if bad<=500:\n",
    "        mean = one_bldg_df[METER].mean()\n",
    "        cor = one_bldg_df.corr().iloc[0][3]\n",
    "        # Linear Regression\n",
    "        X = one_bldg_df.drop(METER,axis=1)\n",
    "        y = one_bldg_df[METER].fillna(0)\n",
    "        split = 900\n",
    "        X_train = X.iloc[0:split]\n",
    "        y_train = y.iloc[0:split]\n",
    "        linreg = LinearRegression()\n",
    "        linreg.fit(X_train,y_train)\n",
    "        X_test = X.iloc[split:]\n",
    "        y_test = y.iloc[split:]\n",
    "        y_pred = linreg.predict(X_test)\n",
    "        rmse = mean_squared_error(y_test,y_pred,squared=False)\n",
    "        cors.append([cor,mean,rmse,rmse/mean,BLDG])\n",
    "\n",
    "print(\"dew temp corr, dew temp mean, lin reg RMSE, RMSE/mean, BLDG\")\n",
    "for cor in sorted(cors):\n",
    "    print(\"%7.4f %10.2f %10.2f %5.2f   %s\"%(cor[0],cor[1],cor[2],cor[3],cor[4]))    "
   ]
  },
  {
   "cell_type": "code",
   "execution_count": null,
   "metadata": {},
   "outputs": [],
   "source": []
  }
 ],
 "metadata": {
  "kernelspec": {
   "display_name": "Python 3",
   "language": "python",
   "name": "python3"
  },
  "language_info": {
   "codemirror_mode": {
    "name": "ipython",
    "version": 3
   },
   "file_extension": ".py",
   "mimetype": "text/x-python",
   "name": "python",
   "nbconvert_exporter": "python",
   "pygments_lexer": "ipython3",
   "version": "3.8.3"
  }
 },
 "nbformat": 4,
 "nbformat_minor": 2
}
