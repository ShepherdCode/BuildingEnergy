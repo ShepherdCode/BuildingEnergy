{
 "cells": [
  {
   "cell_type": "markdown",
   "metadata": {},
   "source": [
    "# Solar Data\n",
    "Assume user downloaded archive.zip from Kaggle,\n",
    "renamed the file BuildingData.zip,\n",
    "and stored the file in the data subdirectory.\n",
    "Assume the zip file contains the solar_cleaned.csv file.  "
   ]
  },
  {
   "cell_type": "code",
   "execution_count": 1,
   "metadata": {},
   "outputs": [],
   "source": [
    "DATAPATH=''\n",
    "try:\n",
    "    # On Google Drive, set path to my drive / data directory.\n",
    "    from google.colab import drive\n",
    "    IN_COLAB = True\n",
    "    PATH='/content/drive/'\n",
    "    drive.mount(PATH)\n",
    "    DATAPATH=PATH+'My Drive/data/'  # must end in \"/\"\n",
    "except:\n",
    "    # On home computer, set path to local data directory.\n",
    "    IN_COLAB = False\n",
    "    DATAPATH='data/'  # must end in \"/\"\n",
    "\n",
    "ZIP_FILE='BuildingData.zip'\n",
    "ZIP_PATH = DATAPATH+ZIP_FILE\n",
    "SOL_FILE='solar_cleaned.csv'\n",
    "MODEL_FILE='Model'  # will be used later to save models"
   ]
  },
  {
   "cell_type": "code",
   "execution_count": 2,
   "metadata": {},
   "outputs": [],
   "source": [
    "from os import listdir\n",
    "import csv\n",
    "from zipfile import ZipFile\n",
    "import numpy as np\n",
    "import pandas as pd\n",
    "from sklearn.decomposition import PCA, KernelPCA\n",
    "from sklearn.preprocessing import StandardScaler\n",
    "import matplotlib.pyplot as plt\n",
    "from matplotlib import colors\n",
    "mycmap = colors.ListedColormap(['red','blue'])  # list color for label 0 then 1\n",
    "np.set_printoptions(precision=2)"
   ]
  },
  {
   "cell_type": "code",
   "execution_count": 3,
   "metadata": {},
   "outputs": [],
   "source": [
    "def read_csv_to_numpy(filename): # array of string, header=row[0]\n",
    "    with open(ELEC_PATH,'r') as handle:\n",
    "        data_iter = csv.reader(handle,delimiter = ',',quotechar = '\"')\n",
    "        data = [data for data in data_iter]\n",
    "        return np.asarray(data, dtype = None)\n",
    "# Pandas incorporates column headers, row numbers, timestamps, and NaN for missing values.\n",
    "def read_csv_to_panda(filename): # pandas data frame\n",
    "    return pd.read_csv(filename)\n",
    "def read_zip_to_panda(zip_filename,csv_filename):\n",
    "    zip_handle = ZipFile(zip_filename)\n",
    "    csv_handle = zip_handle.open(csv_filename)\n",
    "    panda = pd.read_csv(csv_handle)\n",
    "    return panda"
   ]
  },
  {
   "cell_type": "markdown",
   "metadata": {},
   "source": [
    "## Solar data\n",
    "We have 2 years of hourly solar meter readings for four buildings."
   ]
  },
  {
   "cell_type": "code",
   "execution_count": 4,
   "metadata": {},
   "outputs": [],
   "source": [
    "sol_df = read_zip_to_panda(ZIP_PATH,SOL_FILE)"
   ]
  },
  {
   "cell_type": "code",
   "execution_count": 5,
   "metadata": {},
   "outputs": [
    {
     "data": {
      "text/html": [
       "<div>\n",
       "<style scoped>\n",
       "    .dataframe tbody tr th:only-of-type {\n",
       "        vertical-align: middle;\n",
       "    }\n",
       "\n",
       "    .dataframe tbody tr th {\n",
       "        vertical-align: top;\n",
       "    }\n",
       "\n",
       "    .dataframe thead th {\n",
       "        text-align: right;\n",
       "    }\n",
       "</style>\n",
       "<table border=\"1\" class=\"dataframe\">\n",
       "  <thead>\n",
       "    <tr style=\"text-align: right;\">\n",
       "      <th></th>\n",
       "      <th>Bobcat_education_Dylan</th>\n",
       "      <th>Bobcat_education_Alissa</th>\n",
       "      <th>Bobcat_education_Coleman</th>\n",
       "      <th>Bobcat_other_Timothy</th>\n",
       "      <th>Bobcat_office_Justine</th>\n",
       "    </tr>\n",
       "  </thead>\n",
       "  <tbody>\n",
       "    <tr>\n",
       "      <th>count</th>\n",
       "      <td>17173.000000</td>\n",
       "      <td>17147.000000</td>\n",
       "      <td>17171.000000</td>\n",
       "      <td>17174.000000</td>\n",
       "      <td>0.0</td>\n",
       "    </tr>\n",
       "    <tr>\n",
       "      <th>mean</th>\n",
       "      <td>5.075233</td>\n",
       "      <td>69.989592</td>\n",
       "      <td>2.701757</td>\n",
       "      <td>3.027090</td>\n",
       "      <td>NaN</td>\n",
       "    </tr>\n",
       "    <tr>\n",
       "      <th>std</th>\n",
       "      <td>8.434212</td>\n",
       "      <td>89.544838</td>\n",
       "      <td>4.669615</td>\n",
       "      <td>4.906028</td>\n",
       "      <td>NaN</td>\n",
       "    </tr>\n",
       "    <tr>\n",
       "      <th>min</th>\n",
       "      <td>0.000000</td>\n",
       "      <td>0.000000</td>\n",
       "      <td>0.000000</td>\n",
       "      <td>0.000000</td>\n",
       "      <td>NaN</td>\n",
       "    </tr>\n",
       "    <tr>\n",
       "      <th>25%</th>\n",
       "      <td>0.000000</td>\n",
       "      <td>0.000000</td>\n",
       "      <td>0.000000</td>\n",
       "      <td>0.010000</td>\n",
       "      <td>NaN</td>\n",
       "    </tr>\n",
       "    <tr>\n",
       "      <th>50%</th>\n",
       "      <td>0.030000</td>\n",
       "      <td>0.000000</td>\n",
       "      <td>0.380000</td>\n",
       "      <td>0.020000</td>\n",
       "      <td>NaN</td>\n",
       "    </tr>\n",
       "    <tr>\n",
       "      <th>75%</th>\n",
       "      <td>7.280000</td>\n",
       "      <td>131.077000</td>\n",
       "      <td>2.505000</td>\n",
       "      <td>4.747500</td>\n",
       "      <td>NaN</td>\n",
       "    </tr>\n",
       "    <tr>\n",
       "      <th>max</th>\n",
       "      <td>27.790000</td>\n",
       "      <td>262.152900</td>\n",
       "      <td>16.200000</td>\n",
       "      <td>16.140000</td>\n",
       "      <td>NaN</td>\n",
       "    </tr>\n",
       "  </tbody>\n",
       "</table>\n",
       "</div>"
      ],
      "text/plain": [
       "       Bobcat_education_Dylan  Bobcat_education_Alissa  \\\n",
       "count            17173.000000             17147.000000   \n",
       "mean                 5.075233                69.989592   \n",
       "std                  8.434212                89.544838   \n",
       "min                  0.000000                 0.000000   \n",
       "25%                  0.000000                 0.000000   \n",
       "50%                  0.030000                 0.000000   \n",
       "75%                  7.280000               131.077000   \n",
       "max                 27.790000               262.152900   \n",
       "\n",
       "       Bobcat_education_Coleman  Bobcat_other_Timothy  Bobcat_office_Justine  \n",
       "count              17171.000000          17174.000000                    0.0  \n",
       "mean                   2.701757              3.027090                    NaN  \n",
       "std                    4.669615              4.906028                    NaN  \n",
       "min                    0.000000              0.000000                    NaN  \n",
       "25%                    0.000000              0.010000                    NaN  \n",
       "50%                    0.380000              0.020000                    NaN  \n",
       "75%                    2.505000              4.747500                    NaN  \n",
       "max                   16.200000             16.140000                    NaN  "
      ]
     },
     "execution_count": 5,
     "metadata": {},
     "output_type": "execute_result"
    }
   ],
   "source": [
    "# Pandas statistics per column. Counts excludes NaN columns and values.\n",
    "sol_df.describe()"
   ]
  },
  {
   "cell_type": "code",
   "execution_count": 6,
   "metadata": {},
   "outputs": [
    {
     "name": "stdout",
     "output_type": "stream",
     "text": [
      "Note the fifth building is a dud.\n"
     ]
    }
   ],
   "source": [
    "print(\"Note the fifth building is a dud.\")"
   ]
  },
  {
   "cell_type": "code",
   "execution_count": null,
   "metadata": {},
   "outputs": [],
   "source": []
  }
 ],
 "metadata": {
  "kernelspec": {
   "display_name": "Python 3",
   "language": "python",
   "name": "python3"
  },
  "language_info": {
   "codemirror_mode": {
    "name": "ipython",
    "version": 3
   },
   "file_extension": ".py",
   "mimetype": "text/x-python",
   "name": "python",
   "nbconvert_exporter": "python",
   "pygments_lexer": "ipython3",
   "version": "3.8.3"
  }
 },
 "nbformat": 4,
 "nbformat_minor": 2
}
