{
 "cells": [
  {
   "cell_type": "code",
   "execution_count": 1,
   "metadata": {
    "colab": {
     "base_uri": "https://localhost:8080/"
    },
    "id": "1zZs5EGSAfz9",
    "outputId": "aadc4028-2bf6-4913-c6c6-12f7b92dd467"
   },
   "outputs": [],
   "source": [
    "DATAPATH=''\n",
    "try:\n",
    "    # On Google Drive, set path to my drive / data directory.\n",
    "    from google.colab import drive\n",
    "    IN_COLAB = True\n",
    "    PATH='/content/drive/'\n",
    "    drive.mount(PATH)\n",
    "    DATAPATH=PATH+'My Drive/data/'  # must end in \"/\"\n",
    "except:\n",
    "    # On home computer, set path to local data directory.\n",
    "    IN_COLAB = False\n",
    "    DATAPATH='data/'  # must end in \"/\"\n",
    "\n",
    "ZIP_FILE='BuildingData.zip'\n",
    "ZIP_PATH = DATAPATH+ZIP_FILE\n",
    "ELEC_FILE='electricity.csv'\n",
    "MODEL_FILE='Model'  # will be used later to save models"
   ]
  },
  {
   "cell_type": "code",
   "execution_count": null,
   "metadata": {
    "id": "iVUas1p2Af0Q"
   },
   "outputs": [],
   "source": [
    "from os import listdir\n",
    "import csv\n",
    "from zipfile import ZipFile\n",
    "import numpy as np\n",
    "import pandas as pd\n",
    "from pandas.plotting import autocorrelation_plot\n",
    "\n",
    "from sklearn.decomposition import PCA, KernelPCA\n",
    "from sklearn.preprocessing import StandardScaler\n",
    "\n",
    "import statsmodels.api as sm\n",
    "#from statsmodels.tsa.arima.model import ARIMA\n",
    "#from pmdarima import auto_arima\n",
    "from sklearn.metrics import mean_squared_error\n",
    "from statsmodels.tsa.stattools import adfuller,acf,pacf\n",
    "from statsmodels.tsa.seasonal import seasonal_decompose\n",
    "from statsmodels.tools.eval_measures import rmse\n",
    "from math import sqrt\n",
    "\n",
    "import warnings\n",
    "warnings.filterwarnings('ignore')\n",
    "\n",
    "import matplotlib.pyplot as plt\n",
    "from matplotlib import colors\n",
    "mycmap = colors.ListedColormap(['red','blue'])  # list color for label 0 then 1\n",
    "np.set_printoptions(precision=2)"
   ]
  },
  {
   "cell_type": "code",
   "execution_count": null,
   "metadata": {
    "id": "QEUHY_MOAf0U"
   },
   "outputs": [],
   "source": [
    "def read_zip_to_panda(zip_filename,csv_filename):\n",
    "    zip_handle = ZipFile(zip_filename)\n",
    "    csv_handle = zip_handle.open(csv_filename)\n",
    "    panda = pd.read_csv(csv_handle)\n",
    "    return panda\n",
    "def fix_date_type(panda):\n",
    "    # Convert the given timestamp column to the pandas datetime data type.\n",
    "    panda['timestamp'] = pd.to_datetime(panda['timestamp'], infer_datetime_format = True)\n",
    "    indexed = panda.set_index(['timestamp'])\n",
    "    return indexed"
   ]
  },
  {
   "cell_type": "code",
   "execution_count": null,
   "metadata": {
    "colab": {
     "base_uri": "https://localhost:8080/"
    },
    "id": "WJ-gAebQAf0W",
    "outputId": "0970a4dc-fcb3-4c9a-8a09-437423d5e6d7"
   },
   "outputs": [],
   "source": [
    "elec_df = read_zip_to_panda(ZIP_PATH,ELEC_FILE)\n",
    "elec_df = fix_date_type(elec_df)\n",
    "elec_df.info()"
   ]
  },
  {
   "cell_type": "code",
   "execution_count": null,
   "metadata": {
    "colab": {
     "base_uri": "https://localhost:8080/"
    },
    "id": "4u_E_HyxAf0X",
    "outputId": "ac9e18c9-7a26-4cb2-a83d-8d83e1c866c5"
   },
   "outputs": [],
   "source": [
    "elec_df = elec_df['Eagle_assembly_Portia'] #['1-1-2016':'12-31-2016']\n",
    "building = elec_df\n",
    "building = building.replace( 0,  4)\n",
    "elec_df.describe()"
   ]
  },
  {
   "cell_type": "code",
   "execution_count": null,
   "metadata": {
    "colab": {
     "base_uri": "https://localhost:8080/",
     "height": 534
    },
    "id": "skWYgX6vAf0m",
    "outputId": "20077412-c705-40ec-b1a6-0b6c2c8ce6e4"
   },
   "outputs": [],
   "source": [
    "elec_df.plot(figsize=(20,10))"
   ]
  },
  {
   "cell_type": "code",
   "execution_count": null,
   "metadata": {
    "colab": {
     "base_uri": "https://localhost:8080/",
     "height": 336
    },
    "id": "NwXNWXdhAf0p",
    "outputId": "53849761-7e78-473b-81e4-ac102f64ee67"
   },
   "outputs": [],
   "source": [
    "smooth=building.rolling(window=24).mean()\n",
    "smooth.plot(figsize=(20,6))\n",
    "plt.show()\n"
   ]
  },
  {
   "cell_type": "markdown",
   "metadata": {
    "id": "s8CmUf-MAf0x"
   },
   "source": [
    "## Stationarity Check"
   ]
  },
  {
   "cell_type": "code",
   "execution_count": null,
   "metadata": {
    "colab": {
     "base_uri": "https://localhost:8080/"
    },
    "id": "bL8gke87Af0y",
    "outputId": "fa9cde82-a890-41e7-b3d2-42ce00d54e8f"
   },
   "outputs": [],
   "source": [
    "#Checking the Stationarity: series that has a constant mean\n",
    "\n",
    "#Perform Building Dickey-Fuller test:\n",
    "print ('Results of Dickey-Fuller Test: \\n the test statistic is less than critical value, reject the null hypothesis')\n",
    "dftest = adfuller(building, autolag = 'AIC') #AIC gives the information about time series \n",
    "\n",
    "dfoutput= pd.Series (dftest[0:4], index= ['Test Statistic','p-value: \\n p-value is smaller than 0.05','#lags used', 'Number of Observations Used'])\n",
    "for key, value in dftest [4].items ():\n",
    "    dfoutput ['Critical Value (%s)' %key] = value\n",
    "\n",
    "print (dfoutput)"
   ]
  },
  {
   "cell_type": "code",
   "execution_count": null,
   "metadata": {
    "colab": {
     "base_uri": "https://localhost:8080/",
     "height": 526
    },
    "id": "hbqn-bWzAf03",
    "outputId": "21b13b1e-29c3-4213-edc1-ba402cda93ec"
   },
   "outputs": [],
   "source": [
    "\n",
    "#Determine the rolling statistic\n",
    "rolmean = building.rolling(window = 24).mean()\n",
    "rolstd = building.rolling(window = 24).std()\n",
    "\n",
    "#Checking the Stationarity\n",
    "#Plot rolling statistics\n",
    "plt.figure(figsize=(20,10))\n",
    "orig = plt.plot (building, color = 'blue',label = 'Eagle_assembly_Portia')\n",
    "mean = plt.plot (rolmean, color = 'red',label = 'Rolling Mean')\n",
    "std = plt.plot (rolstd, color = 'black',label = 'Rolling std')\n",
    "plt.legend (loc ='best')\n",
    "plt.title ('Rolling Mean & Standard Deviation')\n",
    "#plt.show (block = False)\n"
   ]
  },
  {
   "cell_type": "code",
   "execution_count": null,
   "metadata": {
    "id": "AufRZFi1Af04"
   },
   "outputs": [],
   "source": [
    "#Log transformation\n",
    "building = building.replace( 0,  4)\n",
    "building_logscale = np.log(building)\n"
   ]
  },
  {
   "cell_type": "code",
   "execution_count": null,
   "metadata": {
    "colab": {
     "base_uri": "https://localhost:8080/",
     "height": 357
    },
    "id": "ivliGTPuAf08",
    "outputId": "34700317-f8bf-472a-dd98-99442251882c"
   },
   "outputs": [],
   "source": [
    "moving_avg =building_logscale.rolling(window = 24).mean()\n",
    "moving_avg.plot(figsize=(20,6))"
   ]
  },
  {
   "cell_type": "code",
   "execution_count": null,
   "metadata": {
    "colab": {
     "base_uri": "https://localhost:8080/",
     "height": 235
    },
    "id": "WEQqE7LjAf0-",
    "outputId": "8b2ef786-abdc-4a3c-bfe9-41837902f7e2"
   },
   "outputs": [],
   "source": [
    "#Automatic Time Series Decomposition\n",
    "\n",
    "decomposition = seasonal_decompose (building.values,period = 30, model = 'additive') \n",
    "\n",
    "trend = decomposition.trend\n",
    "seasonal = decomposition.seasonal\n",
    "residual = decomposition.resid\n",
    "\n",
    "plt.figure(figsize = (20,10))\n",
    "fig = plt.figure(1)\n",
    "\n",
    "\n",
    "plt.subplot (411)\n",
    "plt.plot (building, label = 'Building Electricity')\n",
    "plt.legend(loc ='best')\n",
    "\n",
    "plt.subplot (412)\n",
    "plt.plot (trend,label = 'Cyclical')\n",
    "plt.legend(loc ='best')\n",
    "\n",
    "plt.subplot (413)\n",
    "plt.plot (seasonal, label = 'Seasonality')\n",
    "plt.legend(loc ='best')\n",
    "\n",
    "plt.subplot (414)\n",
    "plt.plot (residual, label = 'Residual')\n",
    "plt.legend(loc ='best')\n",
    "\n",
    "plt.tight_layout()\n",
    "\n",
    "print('The result:')\n",
    "#print(decomposition.observed)\n",
    "#print(decomposition.trend)\n",
    "#print(decomposition.seasonal)\n",
    "#print(decomposition.resid)\n"
   ]
  },
  {
   "cell_type": "markdown",
   "metadata": {
    "id": "FMFTPtsbAf1A"
   },
   "source": [
    "## Determine the order of AR, I and MA component \n",
    "Using AFC autocorreclation plot and PACF partial autocorrelatioin plot"
   ]
  },
  {
   "cell_type": "code",
   "execution_count": null,
   "metadata": {
    "id": "ajVgJP3SAf1A"
   },
   "outputs": [],
   "source": [
    "fig = plt.figure(figsize = (20,6))\n",
    "building_acf = fig.add_subplot(211)\n",
    "acf_plot = sm.graphics.tsa.plot_acf (building.dropna(),lags = 40, ax = building_acf )\n",
    "building_pacf = fig.add_subplot(212)\n",
    "pacf_plot = sm.graphics.tsa.plot_pacf (building.dropna(),lags = 40, ax = building_pacf )"
   ]
  },
  {
   "cell_type": "markdown",
   "metadata": {
    "id": "fFQ7Ge4OAf1C"
   },
   "source": [
    "Using auto_arima function"
   ]
  },
  {
   "cell_type": "code",
   "execution_count": null,
   "metadata": {
    "id": "7AmBPHl2Af1C"
   },
   "outputs": [],
   "source": [
    "\n",
    "#pdq_order = auto_arima(building, trace = True)\n",
    "#pdq_order.summary()"
   ]
  },
  {
   "cell_type": "markdown",
   "metadata": {
    "id": "SaIyo_IxAf1E"
   },
   "source": [
    "## ARIMA"
   ]
  },
  {
   "cell_type": "markdown",
   "metadata": {
    "id": "Ycqa1JzKAf1E"
   },
   "source": [
    "\n",
    "AR = p = period for autoregressive model (regression the past lag value, PACF method),\n",
    "<br>\n",
    "Integrated = d = order of autoregression (differenced value from present and previous to eliminate the effects of seasonality; removing the trend and seasonality to make it stationary)\n",
    "<br>\n",
    "MA = q = periods in moving average (present value is not only depended on the past value but the error lag value as well, use the ACF method)"
   ]
  },
  {
   "cell_type": "code",
   "execution_count": null,
   "metadata": {
    "id": "y5o98Jy-Af1E"
   },
   "outputs": [],
   "source": [
    "#Build ARIMA model\n",
    "\n",
    "model = ARIMA(building, order = (3,1,5)) #number of order generates from the auto_arima \n",
    "results_ARIMA = model.fit()\n"
   ]
  },
  {
   "cell_type": "code",
   "execution_count": null,
   "metadata": {
    "id": "_5vZZwJ7Af1G"
   },
   "outputs": [],
   "source": [
    "pd.DataFrame (building)"
   ]
  },
  {
   "cell_type": "code",
   "execution_count": null,
   "metadata": {
    "id": "yVxFwGp1Af1a"
   },
   "outputs": [],
   "source": [
    "pred = results_ARIMA.predict(start = len (building), end = len(building)+24*7, typ = 'levels'). rename ('ARIMA predictions')\n",
    "pd.DataFrame(pred)\n"
   ]
  },
  {
   "cell_type": "code",
   "execution_count": null,
   "metadata": {
    "id": "2DlfyesqAf1b"
   },
   "outputs": [],
   "source": [
    "pred.plot(figsize = (20,6), legend = True)"
   ]
  },
  {
   "cell_type": "code",
   "execution_count": null,
   "metadata": {
    "id": "Yg8I_s0dAf1b"
   },
   "outputs": [],
   "source": [
    "building.plot(figsize = (20,6), label = 'Train',legend = True)\n",
    "\n",
    "pred.plot(figsize = (20,6), legend = True)\n"
   ]
  },
  {
   "cell_type": "markdown",
   "metadata": {
    "id": "WD1-yyrrAf1b"
   },
   "source": [
    "## Residuals"
   ]
  },
  {
   "cell_type": "code",
   "execution_count": null,
   "metadata": {
    "id": "jbph91DXAf1c"
   },
   "outputs": [],
   "source": [
    "# line plot of residuals\n",
    "residuals = pd.DataFrame(results_ARIMA.resid)\n",
    "residuals.plot(figsize = (15,6))\n",
    "plt.show()\n",
    "# density plot of residuals\n",
    "residuals.plot(kind='kde')\n",
    "plt.show()\n",
    "# summary stats of residuals\n",
    "print(residuals.describe())"
   ]
  },
  {
   "cell_type": "code",
   "execution_count": null,
   "metadata": {
    "id": "1DYapCPNAf1g"
   },
   "outputs": [],
   "source": [
    "print (residuals)\n",
    "#results = residuals.to_csv('residuals_result.csv')"
   ]
  },
  {
   "cell_type": "markdown",
   "metadata": {
    "id": "VSeUIs5jAf1h"
   },
   "source": [
    "## evaluate forecasts\n"
   ]
  },
  {
   "cell_type": "code",
   "execution_count": null,
   "metadata": {
    "id": "TNxcihWMAf1h"
   },
   "outputs": [],
   "source": [
    "#rmse = sqrt(mean_squared_error(building, pred))\n",
    "#print('Test RMSE: %.3f' % rmse)"
   ]
  },
  {
   "cell_type": "code",
   "execution_count": null,
   "metadata": {
    "id": "zZZ-xuQEAf1i"
   },
   "outputs": [],
   "source": [
    "#test.mean(),np.sqrt(test.var())"
   ]
  },
  {
   "cell_type": "code",
   "execution_count": null,
   "metadata": {
    "id": "5TKR7188Af1j"
   },
   "outputs": [],
   "source": [
    "plt.figure(figsize = (15,6))\n",
    "plt.plot (building)\n",
    "plt.plot(results_ARIMA.fittedvalues, color = 'red')"
   ]
  },
  {
   "cell_type": "code",
   "execution_count": null,
   "metadata": {
    "id": "fiJOoTVGAf1j"
   },
   "outputs": [],
   "source": [
    "print (results_ARIMA.summary())"
   ]
  },
  {
   "cell_type": "code",
   "execution_count": null,
   "metadata": {
    "id": "tkzRfSvOAf1j"
   },
   "outputs": [],
   "source": []
  }
 ],
 "metadata": {
  "colab": {
   "name": "Elect_ARIMA_103.ipynb",
   "provenance": []
  },
  "kernelspec": {
   "display_name": "Python 3",
   "language": "python",
   "name": "python3"
  },
  "language_info": {
   "codemirror_mode": {
    "name": "ipython",
    "version": 3
   },
   "file_extension": ".py",
   "mimetype": "text/x-python",
   "name": "python",
   "nbconvert_exporter": "python",
   "pygments_lexer": "ipython3",
   "version": "3.9.1"
  }
 },
 "nbformat": 4,
 "nbformat_minor": 1
}
