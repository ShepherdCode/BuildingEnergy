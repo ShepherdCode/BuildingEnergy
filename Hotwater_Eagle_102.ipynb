{
 "cells": [
  {
   "cell_type": "markdown",
   "id": "color-visiting",
   "metadata": {},
   "source": [
    "## Hotwater in Eagle 102"
   ]
  },
  {
   "cell_type": "code",
   "execution_count": 1,
   "id": "classical-alexander",
   "metadata": {},
   "outputs": [],
   "source": [
    "DATAPATH=''\n",
    "try:\n",
    "    # On Google Drive, set path to my drive / data directory.\n",
    "    from google.colab import drive\n",
    "    IN_COLAB = True\n",
    "    PATH='/content/drive/'\n",
    "    drive.mount(PATH)\n",
    "    DATAPATH=PATH+'My Drive/data/'  # must end in \"/\"\n",
    "except:\n",
    "    # On home computer, set path to local data directory.\n",
    "    IN_COLAB = False\n",
    "    DATAPATH='data:/'  # must end in \"/\"\n",
    "\n",
    "ZIP_FILE='BuildingData.zip'\n",
    "ZIP_PATH = DATAPATH+ZIP_FILE\n",
    "HOTWATER_FILE='hotwater.csv'\n",
    "WEATHER_FILE='weather.csv'\n",
    "MODEL_FILE='Model'  # will be used later to save models"
   ]
  },
  {
   "cell_type": "code",
   "execution_count": 2,
   "id": "vietnamese-simon",
   "metadata": {},
   "outputs": [],
   "source": [
    "from os import listdir\n",
    "import csv\n",
    "from zipfile import ZipFile\n",
    "import numpy as np\n",
    "import pandas as pd\n",
    "from pandas.plotting import autocorrelation_plot\n",
    "from scipy import stats  # mode\n",
    "\n",
    "from sklearn.preprocessing import StandardScaler\n",
    "from sklearn.linear_model import LinearRegression\n",
    "from sklearn.metrics import mean_squared_error\n",
    "\n",
    "import matplotlib.pyplot as plt\n",
    "from matplotlib import colors\n",
    "mycmap = colors.ListedColormap(['red','blue'])  # list color for label 0 then 1\n",
    "np.set_printoptions(precision=2)"
   ]
  },
  {
   "cell_type": "code",
   "execution_count": 6,
   "id": "express-orientation",
   "metadata": {},
   "outputs": [],
   "source": [
    "def read_zip_to_panda(zip_filename,csv_filename):\n",
    "    zip_handle = ZipFile(zip_filename)\n",
    "    csv_handle = zip_handle.open(csv_filename)\n",
    "    panda = pd.read_csv(csv_handle)\n",
    "    return panda\n",
    "def fix_date_type(panda):\n",
    "    # Convert the given timestamp column to the pandas datetime data type.\n",
    "    panda['timestamp'] = pd.to_datetime(panda['timestamp'], infer_datetime_format = True)\n",
    "    indexed = panda.set_index(['timestamp'])\n",
    "    return indexed\n",
    "def get_site_timeseries(panda,site):\n",
    "    # Assume the panda dataframe has a datetime column.\n",
    "    # (If not, call fix_date_type() before this.)\n",
    "    # Extract the timeseries for one site.\n",
    "    # Convert the datetime column to a DatetimeIndex.\n",
    "    site_df = panda[panda['site_id']==site]\n",
    "    temp_col = site_df['date']\n",
    "    temp_val = temp_col.values\n",
    "    temp_ndx = pd.DatetimeIndex(temp_val)\n",
    "    dropped = site_df.drop('date',axis=1)\n",
    "    panda = drop"
   ]
  },
  {
   "cell_type": "code",
   "execution_count": 7,
   "id": "certified-bulletin",
   "metadata": {},
   "outputs": [],
   "source": [
    "SITE = 'Eagle'\n",
    "METER = 'hotwater'\n",
    "BLDG = 'Eagle_education_Wesley'\n",
    "wet_df = read_zip_to_panda(ZIP_PATH,WEATHER_FILE)\n",
    "wet_df = fix_date_type(wet_df)\n",
    "htwter_df = read_zip_to_panda(ZIP_PATH,HOTWATER_FILE)\n",
    "htwter_df = fix_date_type(htwter_df)\n",
    "site_specific_weather = wet_df.loc[wet_df['site_id'] == SITE]\n",
    "bldg_specific_hotwater = htwter_df[[BLDG]]\n",
    "all_buildings = [x for x in htwter_df.columns if x.startswith(SITE)] "
   ]
  },
  {
   "cell_type": "code",
   "execution_count": 9,
   "id": "wrapped-involvement",
   "metadata": {},
   "outputs": [
    {
     "name": "stdout",
     "output_type": "stream",
     "text": [
      "dew temp corr, dew temp mean, lin reg RMSE, RMSE/mean, BLDG\n",
      "-0.7604  310588.96  276727.99  0.89   Eagle_assembly_Lacy\n",
      "-0.6905  370871.93  137585.39  0.37   Eagle_office_Sonya\n",
      "-0.6886  378036.02  266517.69  0.71   Eagle_education_Luther\n",
      "-0.5929  210435.87  170227.24  0.81   Eagle_education_Lino\n",
      "-0.5798   31299.84   30616.47  0.98   Eagle_office_Jackie\n",
      "-0.5661  205229.71   76287.91  0.37   Eagle_office_Demetra\n",
      "-0.4987  137483.17  248519.80  1.81   Eagle_education_Wesley\n",
      "-0.4184   64428.14   51813.53  0.80   Eagle_public_Missy\n",
      "-0.4113  124866.79   77523.41  0.62   Eagle_public_Minnie\n",
      "-0.3801   53966.58   43937.37  0.81   Eagle_office_Jeff\n",
      "-0.3754   52993.12   52710.44  0.99   Eagle_office_Isidro\n",
      "-0.3583  293712.64  197229.86  0.67   Eagle_assembly_Margret\n"
     ]
    }
   ],
   "source": [
    "cors = []\n",
    "MAX_BAD = 500 # correlation is higher in buildings without so many NaN and 0\n",
    "for BLDG in all_buildings:\n",
    "    bldg_specific_hotwater = htwter_df[[BLDG]]    \n",
    "    one_bldg_df = pd.concat([bldg_specific_hotwater,site_specific_weather],axis=1)\n",
    "    one_bldg_df = one_bldg_df.drop(['site_id'],axis=1)\n",
    "    one_bldg_df = one_bldg_df.rename(columns={BLDG : METER})\n",
    "    one_bldg_df = one_bldg_df.fillna(0)\n",
    "    bad = one_bldg_df[METER].isin([0]).sum()\n",
    "    if bad<=500:\n",
    "        mean = one_bldg_df[METER].mean()\n",
    "        cor = one_bldg_df.corr().iloc[0][3]\n",
    "        # Linear Regression\n",
    "        X = one_bldg_df.drop(METER,axis=1)\n",
    "        y = one_bldg_df[METER].fillna(0)\n",
    "        split = 900\n",
    "        X_train = X.iloc[0:split]\n",
    "        y_train = y.iloc[0:split]\n",
    "        linreg = LinearRegression()\n",
    "        linreg.fit(X_train,y_train)\n",
    "        X_test = X.iloc[split:]\n",
    "        y_test = y.iloc[split:]\n",
    "        y_pred = linreg.predict(X_test)\n",
    "        rmse = mean_squared_error(y_test,y_pred,squared=False)\n",
    "        cors.append([cor,mean,rmse,rmse/mean,BLDG])\n",
    "\n",
    "print(\"dew temp corr, dew temp mean, lin reg RMSE, RMSE/mean, BLDG\")\n",
    "for cor in sorted(cors):\n",
    "    print(\"%7.4f %10.2f %10.2f %5.2f   %s\"%(cor[0],cor[1],cor[2],cor[3],cor[4]))    "
   ]
  },
  {
   "cell_type": "code",
   "execution_count": null,
   "id": "potential-encounter",
   "metadata": {},
   "outputs": [],
   "source": []
  }
 ],
 "metadata": {
  "kernelspec": {
   "display_name": "Python 3",
   "language": "python",
   "name": "python3"
  },
  "language_info": {
   "codemirror_mode": {
    "name": "ipython",
    "version": 3
   },
   "file_extension": ".py",
   "mimetype": "text/x-python",
   "name": "python",
   "nbconvert_exporter": "python",
   "pygments_lexer": "ipython3",
   "version": "3.9.1"
  }
 },
 "nbformat": 4,
 "nbformat_minor": 5
}
