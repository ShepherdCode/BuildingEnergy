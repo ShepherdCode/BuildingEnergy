{
 "cells": [
  {
   "cell_type": "markdown",
   "metadata": {
    "id": "dFNRPftWw9pK"
   },
   "source": [
    "# RNN \n",
    "Try the same experiment on ARIMA electricity residuals. There was no learning using steam to predict steam (RNN 251). Try predicting steam from weather."
   ]
  },
  {
   "cell_type": "code",
   "execution_count": 1,
   "metadata": {
    "id": "5deM-us2w9pZ"
   },
   "outputs": [],
   "source": [
    "from os import listdir\n",
    "import csv\n",
    "from zipfile import ZipFile\n",
    "import numpy as np\n",
    "import pandas as pd\n",
    "from scipy import stats  # mode\n",
    "\n",
    "from sklearn.preprocessing import StandardScaler\n",
    "from sklearn.metrics import mean_squared_error\n",
    "\n",
    "from keras.models import Sequential\n",
    "from keras.layers import SimpleRNN\n",
    "from keras.layers import LSTM\n",
    "from keras.layers import GRU\n",
    "from keras.layers import TimeDistributed\n",
    "from keras.layers import Dense\n",
    "from keras.losses import MeanSquaredError\n",
    "\n",
    "import matplotlib.pyplot as plt\n",
    "from matplotlib import colors\n",
    "mycmap = colors.ListedColormap(['red','blue'])  # list color for label 0 then 1\n",
    "np.set_printoptions(precision=2)"
   ]
  },
  {
   "cell_type": "code",
   "execution_count": 2,
   "metadata": {
    "colab": {
     "base_uri": "https://localhost:8080/"
    },
    "id": "jZgkgsP6w9pg",
    "outputId": "4ef7df9a-c09f-4a7b-9c8b-6aad1950ef7e"
   },
   "outputs": [
    {
     "name": "stdout",
     "output_type": "stream",
     "text": [
      "PREDICTORS= 12 ['hour', 'month', 'doy', 'meter', 'cloudCoverage', 'airTemperature', 'dewTemperature', 'precipDepth1HR', 'precipDepth6HR', 'seaLvlPressure', 'windDirection', 'windSpeed']\n"
     ]
    }
   ],
   "source": [
    "# Constants\n",
    "EPOCHS=50  # use 5 for software testing, 50 for model testing\n",
    "SITE = 'Eagle'\n",
    "PREDICTORS = ['hour','month','doy','meter','cloudCoverage', 'airTemperature', 'dewTemperature', 'precipDepth1HR', 'precipDepth6HR', 'seaLvlPressure', 'windDirection', 'windSpeed']\n",
    "#PREDICTORS = ['meter'] \n",
    "NUM_PREDICTORS=len(PREDICTORS)\n",
    "print(\"PREDICTORS=\",NUM_PREDICTORS,PREDICTORS)\n",
    "PREDICTED_VARIABLE = 'meter'  \n",
    "STEPS_HISTORY = 24\n",
    "STEPS_FORWARD = 12 \n",
    "STEPS_FUTURE =  12 \n",
    "METER_FILE='electricity.csv'\n",
    "WEATHER_FILE='weather.csv'\n",
    "EXAMPLE='Eagle_assembly_Portia'\n",
    "SITE_BUILDINGS = None\n",
    "SMOOTHING_WINDOW=3"
   ]
  },
  {
   "cell_type": "code",
   "execution_count": 3,
   "metadata": {
    "colab": {
     "base_uri": "https://localhost:8080/"
    },
    "id": "mgeDotTmw9pX",
    "outputId": "bd4586d0-fba9-4763-8b86-5633b1af9a5b"
   },
   "outputs": [],
   "source": [
    "DATAPATH=''\n",
    "try:\n",
    "    # On Google Drive, set path to my drive / data directory.\n",
    "    from google.colab import drive\n",
    "    IN_COLAB = True\n",
    "    PATH='/content/drive/'\n",
    "    drive.mount(PATH)\n",
    "    DATAPATH=PATH+'My Drive/data/'  # must end in \"/\"\n",
    "except:\n",
    "    # On home computer, set path to local data directory.\n",
    "    IN_COLAB = False\n",
    "    DATAPATH='data/'  # must end in \"/\"\n",
    "\n",
    "ZIP_FILE='BuildingData.zip'\n",
    "ZIP_PATH = DATAPATH+ZIP_FILE\n",
    "MODEL_FILE='Model'  # will be used later to save models"
   ]
  },
  {
   "cell_type": "code",
   "execution_count": 4,
   "metadata": {
    "id": "ONdk510Cw9pc"
   },
   "outputs": [],
   "source": [
    "def read_zip_to_panda(zip_filename,csv_filename):\n",
    "    zip_handle = ZipFile(zip_filename)\n",
    "    csv_handle = zip_handle.open(csv_filename)\n",
    "    panda = pd.read_csv(csv_handle)\n",
    "    return panda\n",
    "def fix_date_type(panda):\n",
    "    # Convert the given timestamp column to the pandas datetime data type.\n",
    "    panda['timestamp'] = pd.to_datetime(panda['timestamp'], infer_datetime_format = True)\n",
    "    indexed = panda.set_index(['timestamp'])\n",
    "    return indexed\n",
    "def read_residuals():\n",
    "    panda = pd.read_csv('data/electricity_residuals.csv')\n",
    "    return panda"
   ]
  },
  {
   "cell_type": "code",
   "execution_count": 5,
   "metadata": {
    "colab": {
     "base_uri": "https://localhost:8080/",
     "height": 344
    },
    "id": "6YVYM_bqw9pi",
    "outputId": "752bc959-974b-43fd-9208-166762db18c9"
   },
   "outputs": [
    {
     "data": {
      "text/html": [
       "<div>\n",
       "<style scoped>\n",
       "    .dataframe tbody tr th:only-of-type {\n",
       "        vertical-align: middle;\n",
       "    }\n",
       "\n",
       "    .dataframe tbody tr th {\n",
       "        vertical-align: top;\n",
       "    }\n",
       "\n",
       "    .dataframe thead th {\n",
       "        text-align: right;\n",
       "    }\n",
       "</style>\n",
       "<table border=\"1\" class=\"dataframe\">\n",
       "  <thead>\n",
       "    <tr style=\"text-align: right;\">\n",
       "      <th></th>\n",
       "      <th>hour</th>\n",
       "      <th>month</th>\n",
       "      <th>doy</th>\n",
       "      <th>airTemperature</th>\n",
       "      <th>cloudCoverage</th>\n",
       "      <th>dewTemperature</th>\n",
       "      <th>precipDepth1HR</th>\n",
       "      <th>precipDepth6HR</th>\n",
       "      <th>seaLvlPressure</th>\n",
       "      <th>windDirection</th>\n",
       "      <th>windSpeed</th>\n",
       "    </tr>\n",
       "    <tr>\n",
       "      <th>timestamp</th>\n",
       "      <th></th>\n",
       "      <th></th>\n",
       "      <th></th>\n",
       "      <th></th>\n",
       "      <th></th>\n",
       "      <th></th>\n",
       "      <th></th>\n",
       "      <th></th>\n",
       "      <th></th>\n",
       "      <th></th>\n",
       "      <th></th>\n",
       "    </tr>\n",
       "  </thead>\n",
       "  <tbody>\n",
       "    <tr>\n",
       "      <th>2017-12-31 18:00:00</th>\n",
       "      <td>18</td>\n",
       "      <td>12</td>\n",
       "      <td>365</td>\n",
       "      <td>-11.1</td>\n",
       "      <td>0.0</td>\n",
       "      <td>-20.6</td>\n",
       "      <td>0.0</td>\n",
       "      <td>NaN</td>\n",
       "      <td>1026.2</td>\n",
       "      <td>330.0</td>\n",
       "      <td>2.6</td>\n",
       "    </tr>\n",
       "    <tr>\n",
       "      <th>2017-12-31 20:00:00</th>\n",
       "      <td>20</td>\n",
       "      <td>12</td>\n",
       "      <td>365</td>\n",
       "      <td>-12.2</td>\n",
       "      <td>0.0</td>\n",
       "      <td>-21.1</td>\n",
       "      <td>0.0</td>\n",
       "      <td>NaN</td>\n",
       "      <td>1027.0</td>\n",
       "      <td>320.0</td>\n",
       "      <td>1.5</td>\n",
       "    </tr>\n",
       "    <tr>\n",
       "      <th>2017-12-31 21:00:00</th>\n",
       "      <td>21</td>\n",
       "      <td>12</td>\n",
       "      <td>365</td>\n",
       "      <td>-12.8</td>\n",
       "      <td>0.0</td>\n",
       "      <td>-21.1</td>\n",
       "      <td>0.0</td>\n",
       "      <td>NaN</td>\n",
       "      <td>1027.2</td>\n",
       "      <td>310.0</td>\n",
       "      <td>2.6</td>\n",
       "    </tr>\n",
       "    <tr>\n",
       "      <th>2017-12-31 22:00:00</th>\n",
       "      <td>22</td>\n",
       "      <td>12</td>\n",
       "      <td>365</td>\n",
       "      <td>-12.8</td>\n",
       "      <td>0.0</td>\n",
       "      <td>-20.6</td>\n",
       "      <td>0.0</td>\n",
       "      <td>NaN</td>\n",
       "      <td>1027.4</td>\n",
       "      <td>330.0</td>\n",
       "      <td>3.1</td>\n",
       "    </tr>\n",
       "    <tr>\n",
       "      <th>2017-12-31 23:00:00</th>\n",
       "      <td>23</td>\n",
       "      <td>12</td>\n",
       "      <td>365</td>\n",
       "      <td>-12.8</td>\n",
       "      <td>0.0</td>\n",
       "      <td>-20.6</td>\n",
       "      <td>0.0</td>\n",
       "      <td>NaN</td>\n",
       "      <td>1027.4</td>\n",
       "      <td>320.0</td>\n",
       "      <td>4.6</td>\n",
       "    </tr>\n",
       "  </tbody>\n",
       "</table>\n",
       "</div>"
      ],
      "text/plain": [
       "                     hour  month  doy  airTemperature  cloudCoverage  \\\n",
       "timestamp                                                              \n",
       "2017-12-31 18:00:00    18     12  365           -11.1            0.0   \n",
       "2017-12-31 20:00:00    20     12  365           -12.2            0.0   \n",
       "2017-12-31 21:00:00    21     12  365           -12.8            0.0   \n",
       "2017-12-31 22:00:00    22     12  365           -12.8            0.0   \n",
       "2017-12-31 23:00:00    23     12  365           -12.8            0.0   \n",
       "\n",
       "                     dewTemperature  precipDepth1HR  precipDepth6HR  \\\n",
       "timestamp                                                             \n",
       "2017-12-31 18:00:00           -20.6             0.0             NaN   \n",
       "2017-12-31 20:00:00           -21.1             0.0             NaN   \n",
       "2017-12-31 21:00:00           -21.1             0.0             NaN   \n",
       "2017-12-31 22:00:00           -20.6             0.0             NaN   \n",
       "2017-12-31 23:00:00           -20.6             0.0             NaN   \n",
       "\n",
       "                     seaLvlPressure  windDirection  windSpeed  \n",
       "timestamp                                                      \n",
       "2017-12-31 18:00:00          1026.2          330.0        2.6  \n",
       "2017-12-31 20:00:00          1027.0          320.0        1.5  \n",
       "2017-12-31 21:00:00          1027.2          310.0        2.6  \n",
       "2017-12-31 22:00:00          1027.4          330.0        3.1  \n",
       "2017-12-31 23:00:00          1027.4          320.0        4.6  "
      ]
     },
     "execution_count": 5,
     "metadata": {},
     "output_type": "execute_result"
    }
   ],
   "source": [
    "def load_weather_for_site(site):\n",
    "    wet_df = read_zip_to_panda(ZIP_PATH,WEATHER_FILE)\n",
    "    wet_df = fix_date_type(wet_df)\n",
    "    site_df = wet_df.loc[wet_df['site_id'] == site]\n",
    "    # Drop the site, which is constant (we selected for one site).\n",
    "    site_df = site_df.drop(['site_id'],axis=1)\n",
    "    site_df.insert(0,'hour',0)\n",
    "    site_df.insert(1,'month',0)\n",
    "    site_df.insert(2,'doy',0)\n",
    "    L=len(site_df)\n",
    "    for i in range(0,L):\n",
    "        dt=site_df.index[i]\n",
    "        hour=dt.hour\n",
    "        month=dt.month\n",
    "        doy=dt.dayofyear\n",
    "        site_df.iat[i,0] = hour\n",
    "        site_df.iat[i,1] = month\n",
    "        site_df.iat[i,2] = doy\n",
    "    return site_df\n",
    "\n",
    "one_site_weather = load_weather_for_site(SITE)\n",
    "one_site_weather.tail()"
   ]
  },
  {
   "cell_type": "code",
   "execution_count": 6,
   "metadata": {
    "colab": {
     "base_uri": "https://localhost:8080/",
     "height": 255
    },
    "id": "s-EKuCBibz9d",
    "outputId": "3217d35e-2148-4f17-b657-3ea6dc65844f"
   },
   "outputs": [
    {
     "name": "stdout",
     "output_type": "stream",
     "text": [
      "<class 'pandas.core.frame.DataFrame'>\n"
     ]
    },
    {
     "data": {
      "text/html": [
       "<div>\n",
       "<style scoped>\n",
       "    .dataframe tbody tr th:only-of-type {\n",
       "        vertical-align: middle;\n",
       "    }\n",
       "\n",
       "    .dataframe tbody tr th {\n",
       "        vertical-align: top;\n",
       "    }\n",
       "\n",
       "    .dataframe thead th {\n",
       "        text-align: right;\n",
       "    }\n",
       "</style>\n",
       "<table border=\"1\" class=\"dataframe\">\n",
       "  <thead>\n",
       "    <tr style=\"text-align: right;\">\n",
       "      <th></th>\n",
       "      <th>meter</th>\n",
       "    </tr>\n",
       "    <tr>\n",
       "      <th>timestamp</th>\n",
       "      <th></th>\n",
       "    </tr>\n",
       "  </thead>\n",
       "  <tbody>\n",
       "    <tr>\n",
       "      <th>2017-12-31 19:00:00</th>\n",
       "      <td>-0.799442</td>\n",
       "    </tr>\n",
       "    <tr>\n",
       "      <th>2017-12-31 20:00:00</th>\n",
       "      <td>1.403732</td>\n",
       "    </tr>\n",
       "    <tr>\n",
       "      <th>2017-12-31 21:00:00</th>\n",
       "      <td>-2.083534</td>\n",
       "    </tr>\n",
       "    <tr>\n",
       "      <th>2017-12-31 22:00:00</th>\n",
       "      <td>0.576672</td>\n",
       "    </tr>\n",
       "    <tr>\n",
       "      <th>2017-12-31 23:00:00</th>\n",
       "      <td>-0.783770</td>\n",
       "    </tr>\n",
       "  </tbody>\n",
       "</table>\n",
       "</div>"
      ],
      "text/plain": [
       "                        meter\n",
       "timestamp                    \n",
       "2017-12-31 19:00:00 -0.799442\n",
       "2017-12-31 20:00:00  1.403732\n",
       "2017-12-31 21:00:00 -2.083534\n",
       "2017-12-31 22:00:00  0.576672\n",
       "2017-12-31 23:00:00 -0.783770"
      ]
     },
     "execution_count": 6,
     "metadata": {},
     "output_type": "execute_result"
    }
   ],
   "source": [
    "def load_meter_for_building(bldg,smooth=0):\n",
    "    #all_df = read_zip_to_panda(ZIP_PATH,METER_FILE)\n",
    "    all_df = read_residuals()\n",
    "    all_df = fix_date_type(all_df)\n",
    "    global SITE_BUILDINGS\n",
    "    SITE_BUILDINGS = [x for x in all_df.columns if x.startswith(SITE)]\n",
    "    site_series = all_df[bldg]\n",
    "    site_df = site_series.to_frame()\n",
    "    #site_df = all_df.loc[all_df['site_id'] == site]\n",
    "    # Change column name from building name to meter.\n",
    "    site_df = site_df.rename(columns={bldg : PREDICTED_VARIABLE})\n",
    "    if smooth>0:\n",
    "        site_df = site_df.rolling(smooth).mean()\n",
    "    return site_df\n",
    "\n",
    "one_bldg_meter = load_meter_for_building(EXAMPLE)\n",
    "print(type(one_bldg_meter))\n",
    "one_bldg_meter.tail()"
   ]
  },
  {
   "cell_type": "code",
   "execution_count": 7,
   "metadata": {
    "colab": {
     "base_uri": "https://localhost:8080/"
    },
    "id": "VynRgLt9w9pk",
    "outputId": "27cfa026-b6b0-444b-df66-a15aee4e8a18"
   },
   "outputs": [
    {
     "name": "stdout",
     "output_type": "stream",
     "text": [
      "X shape: (17508, 12, 12)\n",
      "y shape: (17508, 12)\n"
     ]
    }
   ],
   "source": [
    "# TO DO: add smoothing to X\n",
    "def prepare_for_learning(wdf,mdf):\n",
    "    # Concatenate weather and meter.\n",
    "    df = pd.concat([wdf,mdf],axis=1)\n",
    "    num_samples = len(df) - STEPS_FUTURE - STEPS_HISTORY\n",
    "    X_shape = (num_samples,STEPS_FUTURE,NUM_PREDICTORS)\n",
    "    Y_shape = (num_samples,STEPS_FUTURE)\n",
    "    X=np.zeros(X_shape)\n",
    "    y=np.zeros(Y_shape)\n",
    "    predictor_series = df[PREDICTORS].values  # selected features\n",
    "    predicted_series = df[PREDICTED_VARIABLE].values  # meter\n",
    "    # TO DO: can we take predicted from mdf instead?\n",
    "    for sam in range (0,num_samples): \n",
    "        prev_val = 0\n",
    "        one_sample = predictor_series[sam:sam+STEPS_FORWARD]\n",
    "        for time in range (0,STEPS_FORWARD): \n",
    "            one_period = one_sample[time]\n",
    "            for feat in range (0,NUM_PREDICTORS):\n",
    "                val = one_period[feat]\n",
    "                if np.isnan(val):\n",
    "                    val = prev_val\n",
    "                else:\n",
    "                    prev_val = val\n",
    "                X[sam,time,feat] = val\n",
    "        for time in range (0,STEPS_FUTURE):  \n",
    "            y[sam,time]=predicted_series[sam+STEPS_HISTORY+time]\n",
    "    return X,y \n",
    "X,y = prepare_for_learning(one_site_weather,one_bldg_meter)\n",
    "print(\"X shape:\",X.shape)\n",
    "print(\"y shape:\",y.shape)\n"
   ]
  },
  {
   "cell_type": "code",
   "execution_count": 8,
   "metadata": {
    "colab": {
     "base_uri": "https://localhost:8080/"
    },
    "id": "O1cK_1RMiVfC",
    "outputId": "c7c0dd25-5404-4999-e7b4-a77e641c8d66"
   },
   "outputs": [
    {
     "name": "stdout",
     "output_type": "stream",
     "text": [
      "X columns: ['hour', 'month', 'doy', 'meter', 'cloudCoverage', 'airTemperature', 'dewTemperature', 'precipDepth1HR', 'precipDepth6HR', 'seaLvlPressure', 'windDirection', 'windSpeed']\n",
      "X example:\n",
      " [[   4    1    5   -2    0  -12  -20    0    0 1031  360    6]\n",
      " [   5    1    5    6    0  -12  -20    0    0 1031  350    5]\n",
      " [   6    1    5    3    0  -12  -20    0    0 1032   10    5]\n",
      " [   7    1    5    3    0  -12  -20    0    0 1033  360    3]\n",
      " [   8    1    5    0    0  -12  -20    0    0 1034  350    4]\n",
      " [   9    1    5    6    0  -10  -20    0    0 1035  360    4]\n",
      " [  10    1    5    8    0   -8  -20    0    0 1036  340    3]\n",
      " [  11    1    5    0    0   -6  -20    0    0 1036  360    4]\n",
      " [  12    1    5  -19    0   -5  -20    0    0 1035  340    2]\n",
      " [  13    1    5   -1    0   -3  -19    0    0 1035  350    4]\n",
      " [  14    1    5   -5   -5   -1  -19    0    0 1035  350    3]\n",
      " [  15    1    5    5    0   -1  -20    0    0 1035  330    2]]\n",
      "y example:\n",
      " [-4  4  2  1  5  0 -2  0  0  0 -2  1]\n"
     ]
    }
   ],
   "source": [
    "print(\"X columns:\",PREDICTORS)\n",
    "print(\"X example:\\n\",X[100].astype(int))\n",
    "print(\"y example:\\n\",y[100].astype(int))"
   ]
  },
  {
   "cell_type": "code",
   "execution_count": 9,
   "metadata": {
    "id": "z_8rzumTw9p2"
   },
   "outputs": [],
   "source": [
    "def make_RNN():\n",
    "    # The GRU in Keras is optimized for speed on CoLab GPU.\n",
    "    rnn = Sequential([\n",
    "        GRU(16,return_sequences=True, \n",
    "                  input_shape=(STEPS_FORWARD,NUM_PREDICTORS)), \n",
    "        GRU(16,return_sequences=True),\n",
    "        GRU(16,return_sequences=False),\n",
    "        Dense(STEPS_FUTURE)\n",
    "    ])\n",
    "    rnn.compile(optimizer='adam',loss=MeanSquaredError())\n",
    "    return rnn"
   ]
  },
  {
   "cell_type": "code",
   "execution_count": null,
   "metadata": {
    "colab": {
     "base_uri": "https://localhost:8080/"
    },
    "id": "XypnRqq9w9p4",
    "outputId": "f1626b45-be48-429c-de35-4e5c33344fda",
    "scrolled": false
   },
   "outputs": [
    {
     "name": "stdout",
     "output_type": "stream",
     "text": [
      "Building 0 Eagle_assembly_Portia\n",
      " Count bad values before pseudofill: 2\n",
      " Count bad values after pseudofill: 0\n",
      "Model: \"sequential\"\n",
      "_________________________________________________________________\n",
      "Layer (type)                 Output Shape              Param #   \n",
      "=================================================================\n",
      "gru (GRU)                    (None, 12, 16)            1440      \n",
      "_________________________________________________________________\n",
      "gru_1 (GRU)                  (None, 12, 16)            1632      \n",
      "_________________________________________________________________\n",
      "gru_2 (GRU)                  (None, 16)                1632      \n",
      "_________________________________________________________________\n",
      "dense (Dense)                (None, 12)                204       \n",
      "=================================================================\n",
      "Total params: 4,908\n",
      "Trainable params: 4,908\n",
      "Non-trainable params: 0\n",
      "_________________________________________________________________\n",
      "None\n",
      "Example y train:\n",
      " [-1 -4 -7 -4 -1 -1  0 -2  3  4  9  2]\n",
      "Epoch 1/50\n",
      "274/274 [==============================] - 26s 54ms/step - loss: 186.1769\n",
      "Epoch 2/50\n",
      "274/274 [==============================] - 15s 55ms/step - loss: 183.9522\n",
      "Epoch 3/50\n",
      "274/274 [==============================] - 9s 33ms/step - loss: 184.7189\n",
      "Epoch 4/50\n",
      "274/274 [==============================] - 9s 34ms/step - loss: 180.2909\n",
      "Epoch 5/50\n",
      "274/274 [==============================] - 12s 45ms/step - loss: 171.4968\n",
      "Epoch 6/50\n",
      "274/274 [==============================] - 9s 33ms/step - loss: 172.7612\n",
      "Epoch 7/50\n",
      "274/274 [==============================] - 7s 27ms/step - loss: 169.0312\n",
      "Epoch 8/50\n",
      "274/274 [==============================] - 13s 47ms/step - loss: 174.2549\n",
      "Epoch 9/50\n",
      "274/274 [==============================] - 16s 60ms/step - loss: 172.6029\n",
      "Epoch 10/50\n",
      "274/274 [==============================] - 16s 60ms/step - loss: 157.6531\n",
      "Epoch 11/50\n",
      "274/274 [==============================] - 18s 64ms/step - loss: 168.0385\n",
      "Epoch 12/50\n",
      "274/274 [==============================] - 19s 70ms/step - loss: 161.5031\n",
      "Epoch 13/50\n",
      "274/274 [==============================] - 9s 33ms/step - loss: 161.1872\n",
      "Epoch 14/50\n",
      "274/274 [==============================] - 9s 35ms/step - loss: 163.2459\n",
      "Epoch 15/50\n",
      "274/274 [==============================] - 13s 47ms/step - loss: 163.1705\n",
      "Epoch 16/50\n",
      "274/274 [==============================] - 14s 52ms/step - loss: 171.5399\n",
      "Epoch 17/50\n",
      "274/274 [==============================] - 14s 50ms/step - loss: 160.7043\n",
      "Epoch 18/50\n",
      "274/274 [==============================] - 13s 46ms/step - loss: 164.4950\n",
      "Epoch 19/50\n",
      "274/274 [==============================] - 13s 46ms/step - loss: 163.2107\n",
      "Epoch 20/50\n",
      "274/274 [==============================] - 13s 47ms/step - loss: 164.2251\n",
      "Epoch 21/50\n",
      "274/274 [==============================] - 8s 30ms/step - loss: 166.5387\n",
      "Epoch 22/50\n",
      "274/274 [==============================] - 12s 42ms/step - loss: 166.2236\n",
      "Epoch 23/50\n",
      "274/274 [==============================] - 14s 50ms/step - loss: 159.6123\n",
      "Epoch 24/50\n",
      "274/274 [==============================] - 15s 54ms/step - loss: 159.4184\n",
      "Epoch 25/50\n",
      "274/274 [==============================] - 14s 52ms/step - loss: 160.8769\n",
      "Epoch 26/50\n",
      "274/274 [==============================] - 15s 53ms/step - loss: 160.2771\n",
      "Epoch 27/50\n",
      "274/274 [==============================] - 15s 54ms/step - loss: 167.9486\n",
      "Epoch 28/50\n",
      "274/274 [==============================] - 9s 34ms/step - loss: 158.2174\n",
      "Epoch 29/50\n",
      "274/274 [==============================] - 7s 25ms/step - loss: 161.2423\n",
      "Epoch 30/50\n",
      "274/274 [==============================] - 11s 41ms/step - loss: 165.3965\n",
      "Epoch 31/50\n",
      "274/274 [==============================] - 14s 51ms/step - loss: 160.0305\n",
      "Epoch 32/50\n",
      "274/274 [==============================] - 14s 50ms/step - loss: 157.8337\n",
      "Epoch 33/50\n",
      "274/274 [==============================] - 14s 52ms/step - loss: 157.2786\n",
      "Epoch 34/50\n",
      "274/274 [==============================] - 14s 51ms/step - loss: 154.5753\n",
      "Epoch 35/50\n",
      "189/274 [===================>..........] - ETA: 5s - loss: 155.5361"
     ]
    }
   ],
   "source": [
    "cors = []\n",
    "one_site_weather = load_weather_for_site(SITE)\n",
    "num_processed = 0\n",
    "for BLDG in SITE_BUILDINGS:\n",
    "    print(\"Building\",num_processed,BLDG)\n",
    "    num_processed += 1\n",
    "    one_bldg_meter = load_meter_for_building(BLDG,SMOOTHING_WINDOW)\n",
    "    count_bad = one_bldg_meter[PREDICTED_VARIABLE].isna().sum()\n",
    "    MAX_BAD = 500\n",
    "    if count_bad<=MAX_BAD:\n",
    "        # Must get rid of Nan labels, else loss hits NaN during training.\n",
    "        print(\" Count bad values before pseudofill:\",count_bad)\n",
    "        pseudovalue = one_bldg_meter[PREDICTED_VARIABLE].mean()\n",
    "        one_bldg_meter = one_bldg_meter.fillna(pseudovalue)\n",
    "        count_bad = one_bldg_meter[PREDICTED_VARIABLE].isna().sum()\n",
    "        print(\" Count bad values after pseudofill:\",count_bad)\n",
    "        # Smoothed\n",
    "        X,y = prepare_for_learning(one_site_weather,one_bldg_meter)\n",
    "        split = len(X)//2   # year 1 vs year 2\n",
    "        X_train = np.asarray(X[0:split])\n",
    "        y_train = np.asarray(y[0:split])\n",
    "        X_test = np.asarray(X[split:])\n",
    "        # Not smoothed\n",
    "        unsmoothed = load_meter_for_building(BLDG,0)\n",
    "        unsmoothed = unsmoothed.fillna(pseudovalue)\n",
    "        X_raw,y_raw = prepare_for_learning(one_site_weather,one_bldg_meter)\n",
    "        y_test = np.asarray(y_raw[split:])\n",
    "        #\n",
    "        model = make_RNN()\n",
    "        print(model.summary())\n",
    "        #print(\"Example X train:\\n\",X_train[example].astype(int))\n",
    "        example=411\n",
    "        print(\"Example y train:\\n\",y_train[example].astype(int))\n",
    "        model.fit(X_train,y_train,epochs=EPOCHS)\n",
    "        # Keep a table for reporting later.\n",
    "        y_pred = model.predict(X_test)\n",
    "        rmse = mean_squared_error(y_test,y_pred,squared=False)\n",
    "        mean = one_bldg_meter[PREDICTED_VARIABLE].mean()\n",
    "        cors.append([mean,rmse,rmse/mean,BLDG])\n",
    "        print(\"mean,rmse,rmse/mean,bldg:\",mean,rmse,rmse/mean,BLDG)\n",
    "        for hr in range(0,24,2):\n",
    "            print(\"Example prediction:\\n\",hr,y_pred[example+hr].astype(int))\n",
    "print()\n",
    "print(\"History\",STEPS_HISTORY,\"Future\",STEPS_FUTURE)\n",
    "print(\"Column 1: Mean usage.\")\n",
    "print(\"Column 2: RMSE of LinearRegression(X=Weather, y=Usage).\")\n",
    "print(\"Column 3: RMSE/mean normalized to help understand RMSE.\")\n",
    "print(\"Column 4: Building.\")\n",
    "for cor in sorted(cors):\n",
    "    print(\"%10.2f %10.2f %5.2f   %s\"%(cor[0],cor[1],cor[2],cor[3]))    "
   ]
  },
  {
   "cell_type": "code",
   "execution_count": null,
   "metadata": {
    "id": "Bm8eEJdHbz9v"
   },
   "outputs": [],
   "source": []
  },
  {
   "cell_type": "code",
   "execution_count": null,
   "metadata": {
    "id": "uY4snIvJbz9z"
   },
   "outputs": [],
   "source": []
  }
 ],
 "metadata": {
  "accelerator": "GPU",
  "colab": {
   "collapsed_sections": [],
   "name": "RNN_222.ipynb",
   "provenance": []
  },
  "kernelspec": {
   "display_name": "Python 3",
   "language": "python",
   "name": "python3"
  },
  "language_info": {
   "codemirror_mode": {
    "name": "ipython",
    "version": 3
   },
   "file_extension": ".py",
   "mimetype": "text/x-python",
   "name": "python",
   "nbconvert_exporter": "python",
   "pygments_lexer": "ipython3",
   "version": "3.8.3"
  }
 },
 "nbformat": 4,
 "nbformat_minor": 1
}
