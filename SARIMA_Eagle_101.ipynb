{
 "cells": [
  {
   "cell_type": "code",
   "execution_count": 1,
   "id": "4WJ9fv60-A6-",
   "metadata": {
    "colab": {
     "base_uri": "https://localhost:8080/"
    },
    "id": "4WJ9fv60-A6-",
    "outputId": "0ee0d30a-84e4-4539-a097-2b54b1533290"
   },
   "outputs": [],
   "source": [
    "DATAPATH=''\n",
    "try:\n",
    "    # On Google Drive, set path to my drive / data directory.\n",
    "    from google.colab import drive\n",
    "    IN_COLAB = True\n",
    "    PATH='/content/drive/'\n",
    "    drive.mount(PATH)\n",
    "    DATAPATH=PATH+'My Drive/data/'  # must end in \"/\"\n",
    "except:\n",
    "    # On home computer, set path to local data directory.\n",
    "    IN_COLAB = False\n",
    "    DATAPATH='data/'  # must end in \"/\"\n",
    "\n",
    "ZIP_FILE='BuildingData.zip'\n",
    "ZIP_PATH = DATAPATH+ZIP_FILE\n",
    "ELEC_FILE='electricity.csv'\n",
    "MODEL_FILE='Model'  # will be used later to save models"
   ]
  },
  {
   "cell_type": "code",
   "execution_count": null,
   "id": "Q_MXU8jl-A7L",
   "metadata": {
    "id": "Q_MXU8jl-A7L"
   },
   "outputs": [],
   "source": [
    "from os import listdir\n",
    "import csv\n",
    "from zipfile import ZipFile\n",
    "import numpy as np\n",
    "import pandas as pd\n",
    "from pandas.plotting import autocorrelation_plot\n",
    "\n",
    "from sklearn.decomposition import PCA, KernelPCA\n",
    "from sklearn.preprocessing import StandardScaler\n",
    "\n",
    "import statsmodels.api as sm\n",
    "#from statsmodels.tsa.arima.model import ARIMA\n",
    "#from pmdarima import auto_arima\n",
    "\n",
    "from statsmodels.tsa.statespace.sarimax import SARIMAX\n",
    "\n",
    "from sklearn.metrics import mean_squared_error\n",
    "from statsmodels.tsa.stattools import adfuller,acf,pacf\n",
    "from statsmodels.tsa.seasonal import seasonal_decompose\n",
    "from statsmodels.tools.eval_measures import rmse\n",
    "from math import sqrt\n",
    "\n",
    "import warnings\n",
    "warnings.filterwarnings('ignore')\n",
    "\n",
    "import matplotlib.pyplot as plt\n",
    "from matplotlib import colors\n",
    "mycmap = colors.ListedColormap(['red','blue'])  # list color for label 0 then 1\n",
    "np.set_printoptions(precision=2)"
   ]
  },
  {
   "cell_type": "code",
   "execution_count": null,
   "id": "S2NUtoH7-A7O",
   "metadata": {
    "id": "S2NUtoH7-A7O"
   },
   "outputs": [],
   "source": [
    "def read_zip_to_panda(zip_filename,csv_filename):\n",
    "    zip_handle = ZipFile(zip_filename)\n",
    "    csv_handle = zip_handle.open(csv_filename)\n",
    "    panda = pd.read_csv(csv_handle)\n",
    "    return panda\n",
    "def fix_date_type(panda):\n",
    "    # Convert the given timestamp column to the pandas datetime data type.\n",
    "    panda['timestamp'] = pd.to_datetime(panda['timestamp'], infer_datetime_format = True)\n",
    "    indexed = panda.set_index(['timestamp'])\n",
    "    return indexed"
   ]
  },
  {
   "cell_type": "code",
   "execution_count": null,
   "id": "1y7gG3ZA-A7P",
   "metadata": {
    "colab": {
     "base_uri": "https://localhost:8080/"
    },
    "id": "1y7gG3ZA-A7P",
    "outputId": "34e52a11-e064-4825-aba6-f4aeedb9f68c"
   },
   "outputs": [],
   "source": [
    "elec_df = read_zip_to_panda(ZIP_PATH,ELEC_FILE)\n",
    "elec_df = fix_date_type(elec_df)\n",
    "elec_df.info()"
   ]
  },
  {
   "cell_type": "code",
   "execution_count": null,
   "id": "oGWabalO-A7T",
   "metadata": {
    "colab": {
     "base_uri": "https://localhost:8080/"
    },
    "id": "oGWabalO-A7T",
    "outputId": "48d17355-52d2-47d7-f66f-7868e7e96ae8"
   },
   "outputs": [],
   "source": [
    "elec_df = elec_df['Eagle_assembly_Portia'] #['1-1-2016':'12-31-2016']\n",
    "building = elec_df\n",
    "building = building.replace( 0,  4)\n",
    "elec_df.describe()"
   ]
  },
  {
   "cell_type": "markdown",
   "id": "S_nFQeni-A7W",
   "metadata": {
    "id": "S_nFQeni-A7W"
   },
   "source": [
    "## Checking the Stationarity"
   ]
  },
  {
   "cell_type": "code",
   "execution_count": null,
   "id": "BHc3-fDp-A7X",
   "metadata": {
    "colab": {
     "base_uri": "https://localhost:8080/"
    },
    "id": "BHc3-fDp-A7X",
    "outputId": "0bfaf089-a0c7-41fe-85b6-9863d8c4a36f"
   },
   "outputs": [],
   "source": [
    "#Checking the Stationarity: series that has a constant mean\n",
    "\n",
    "#Perform Building Dickey-Fuller test:\n",
    "print ('Results of Dickey-Fuller Test: \\n the test statistic is less than critical value, reject the null hypothesis')\n",
    "dftest = adfuller(building, autolag = 'AIC') #AIC gives the information about time series \n",
    "\n",
    "dfoutput= pd.Series (dftest[0:4], index= ['Test Statistic','p-value: \\n p-value is smaller than 0.05','#lags used', 'Number of Observations Used'])\n",
    "for key, value in dftest [4].items ():\n",
    "    dfoutput ['Critical Value (%s)' %key] = value\n",
    "\n",
    "print (dfoutput)"
   ]
  },
  {
   "cell_type": "code",
   "execution_count": null,
   "id": "4vmz5eTp-A7Z",
   "metadata": {
    "colab": {
     "base_uri": "https://localhost:8080/",
     "height": 526
    },
    "id": "4vmz5eTp-A7Z",
    "outputId": "646196b7-b6c8-41eb-b5cc-e93e8434f297"
   },
   "outputs": [],
   "source": [
    "\n",
    "#Determine the rolling statistic\n",
    "rolmean = building.rolling(window = 24).mean()\n",
    "rolstd = building.rolling(window = 24).std()\n",
    "\n",
    "#Checking the Stationarity\n",
    "#Plot rolling statistics\n",
    "plt.figure(figsize=(20,10))\n",
    "orig = plt.plot (building, color = 'blue',label = 'Eagle_assembly_Portia')\n",
    "mean = plt.plot (rolmean, color = 'red',label = 'Rolling Mean')\n",
    "std = plt.plot (rolstd, color = 'black',label = 'Rolling std')\n",
    "plt.legend (loc ='best')\n",
    "plt.title ('Rolling Mean & Standard Deviation')\n",
    "#plt.show (block = False)\n"
   ]
  },
  {
   "cell_type": "code",
   "execution_count": null,
   "id": "vw46DN3Y-A7b",
   "metadata": {
    "id": "vw46DN3Y-A7b"
   },
   "outputs": [],
   "source": []
  },
  {
   "cell_type": "markdown",
   "id": "kQBxJTOI-A7d",
   "metadata": {
    "id": "kQBxJTOI-A7d"
   },
   "source": [
    "## Determine the order of AR, I and MA component \n",
    "Using AFC autocorreclation plot and PACF partial autocorrelatioin plot"
   ]
  },
  {
   "cell_type": "code",
   "execution_count": null,
   "id": "9VVHxqmN-A7d",
   "metadata": {
    "colab": {
     "base_uri": "https://localhost:8080/",
     "height": 326
    },
    "id": "9VVHxqmN-A7d",
    "outputId": "024795f5-c708-4e74-8294-dcc2fe6d3a74"
   },
   "outputs": [],
   "source": [
    "fig = plt.figure(figsize = (20,6))\n",
    "building_acf = fig.add_subplot(211)\n",
    "acf_plot = sm.graphics.tsa.plot_acf (building.dropna(),lags = 40, ax = building_acf )\n",
    "building_pacf = fig.add_subplot(212)\n",
    "pacf_plot = sm.graphics.tsa.plot_pacf (building.dropna(),lags = 40, ax = building_pacf )"
   ]
  },
  {
   "cell_type": "markdown",
   "id": "6Wyr8TLC-A7g",
   "metadata": {
    "id": "6Wyr8TLC-A7g"
   },
   "source": [
    "## ARIMA\n",
    "\n",
    "\n",
    "AR = p = period for autoregressive model (regression the past lag value, PACF method),\n",
    "<br>\n",
    "Integrated = d = order of autoregression (differenced value from present and previous to eliminate the effects of seasonality; removing the trend and seasonality to make it stationary)\n",
    "<br>\n",
    "MA = q = periods in moving average (present value is not only depended on the past value but the error lag value as well, use the ACF method)"
   ]
  },
  {
   "cell_type": "code",
   "execution_count": null,
   "id": "efHzr4Ll-A7h",
   "metadata": {
    "id": "efHzr4Ll-A7h"
   },
   "outputs": [],
   "source": []
  },
  {
   "cell_type": "code",
   "execution_count": null,
   "id": "lD9mKwnY-A7j",
   "metadata": {
    "colab": {
     "base_uri": "https://localhost:8080/",
     "height": 580
    },
    "id": "lD9mKwnY-A7j",
    "outputId": "411555f2-9aa9-41ad-cfa1-b485acfc9caa"
   },
   "outputs": [],
   "source": [
    "\n",
    "\n",
    "#Build SARIMA model\n",
    "\n",
    "model = SARIMAX(building, order=(3, 1, 5), seasonal_order=(1, 1, 0, 12)) #(1, 1, 0, 9))\n",
    "\n",
    "results_ARIMA = model.fit()\n",
    "\n",
    "results_ARIMA.summary()"
   ]
  },
  {
   "cell_type": "code",
   "execution_count": null,
   "id": "WVBhE1TJ-A7l",
   "metadata": {
    "colab": {
     "base_uri": "https://localhost:8080/",
     "height": 206
    },
    "id": "WVBhE1TJ-A7l",
    "outputId": "7d52504d-13e2-4157-ee4f-013fd59a2b33"
   },
   "outputs": [],
   "source": [
    "pred = results_ARIMA.predict(start = len (building), end = len(building)+24*7, typ = 'levels'). rename ('ARIMA predictions')\n",
    "pd.DataFrame(pred.head())\n"
   ]
  },
  {
   "cell_type": "code",
   "execution_count": null,
   "id": "PtcHW69G-A7n",
   "metadata": {
    "colab": {
     "base_uri": "https://localhost:8080/",
     "height": 197
    },
    "id": "PtcHW69G-A7n",
    "outputId": "5efa8934-2189-46e0-e70a-aed3517dc673"
   },
   "outputs": [],
   "source": [
    "pred.plot(figsize = (10,2), legend = True)"
   ]
  },
  {
   "cell_type": "markdown",
   "id": "4Wz04rdl-A7p",
   "metadata": {
    "id": "4Wz04rdl-A7p"
   },
   "source": [
    "## Residuals\n"
   ]
  },
  {
   "cell_type": "code",
   "execution_count": null,
   "id": "s2U0muUI-A7q",
   "metadata": {
    "colab": {
     "base_uri": "https://localhost:8080/",
     "height": 804
    },
    "id": "s2U0muUI-A7q",
    "outputId": "efadda79-cfd1-47f4-90fa-a5a115a7aca2"
   },
   "outputs": [],
   "source": [
    "# line plot of residuals\n",
    "residuals = pd.DataFrame(results_ARIMA.resid)\n",
    "residuals.plot(figsize = (15,6))\n",
    "plt.show()\n",
    "# density plot of residuals\n",
    "residuals.plot(kind='kde')\n",
    "plt.show()\n",
    "# summary stats of residuals\n",
    "print(residuals.describe())"
   ]
  },
  {
   "cell_type": "code",
   "execution_count": null,
   "id": "NKCxoJg_-A7r",
   "metadata": {
    "id": "NKCxoJg_-A7r"
   },
   "outputs": [],
   "source": []
  }
 ],
 "metadata": {
  "colab": {
   "name": "SARIMA_Eagle_101.ipynb",
   "provenance": []
  },
  "kernelspec": {
   "display_name": "Python 3",
   "language": "python",
   "name": "python3"
  },
  "language_info": {
   "codemirror_mode": {
    "name": "ipython",
    "version": 3
   },
   "file_extension": ".py",
   "mimetype": "text/x-python",
   "name": "python",
   "nbconvert_exporter": "python",
   "pygments_lexer": "ipython3",
   "version": "3.9.1"
  }
 },
 "nbformat": 4,
 "nbformat_minor": 5
}
