{
 "cells": [
  {
   "cell_type": "markdown",
   "id": "instrumental-orchestra",
   "metadata": {},
   "source": [
    "## PCA weather"
   ]
  },
  {
   "cell_type": "code",
   "execution_count": 1,
   "id": "color-handle",
   "metadata": {},
   "outputs": [],
   "source": [
    "DATAPATH=''\n",
    "try:\n",
    "    # On Google Drive, set path to my drive / data directory.\n",
    "    from google.colab import drive\n",
    "    IN_COLAB = True\n",
    "    PATH='/content/drive/'\n",
    "    drive.mount(PATH)\n",
    "    DATAPATH=PATH+'My Drive/data/'  # must end in \"/\"\n",
    "except:\n",
    "    # On home computer, set path to local data directory.\n",
    "    IN_COLAB = False\n",
    "    DATAPATH='C:/'  # must end in \"/\"\n",
    "\n",
    "ZIP_FILE='BuildingData.zip'\n",
    "ZIP_PATH = DATAPATH+ZIP_FILE\n",
    "WEATHER_FILE='weather.csv'\n",
    "MODEL_FILE='Model'  # will be used later to save models"
   ]
  },
  {
   "cell_type": "code",
   "execution_count": null,
   "id": "linear-wonder",
   "metadata": {},
   "outputs": [],
   "source": [
    "from os import listdir\n",
    "import csv\n",
    "from zipfile import ZipFile\n",
    "import numpy as np\n",
    "import pandas as pd\n",
    "from sklearn.decomposition import PCA, KernelPCA\n",
    "from sklearn.preprocessing import StandardScaler\n",
    "import matplotlib.pyplot as plt\n",
    "from matplotlib import colors\n",
    "mycmap = colors.ListedColormap(['red','blue'])  # list color for label 0 then 1\n",
    "np.set_printoptions(precision=2)"
   ]
  },
  {
   "cell_type": "code",
   "execution_count": null,
   "id": "rural-flower",
   "metadata": {},
   "outputs": [],
   "source": [
    "def read_zip_to_panda(zip_filename,csv_filename):\n",
    "    zip_handle = ZipFile(zip_filename)\n",
    "    csv_handle = zip_handle.open(csv_filename)\n",
    "    panda = pd.read_csv(csv_handle)\n",
    "    return panda\n",
    "def fix_date_type(panda):\n",
    "    # Convert the given timestamp column to the pandas datetime data type.\n",
    "    panda['timestamp'] = pd.to_datetime(panda['timestamp'], infer_datetime_format = True)\n",
    "    indexed = panda.set_index(['timestamp'])\n",
    "    return indexed\n",
    "def get_site_timeseries(panda,site):\n",
    "    # Assume the panda dataframe has a datetime column.\n",
    "    # (If not, call fix_date_type() before this.)\n",
    "    # Extract the timeseries for one site.\n",
    "    # Convert the datetime column to a DatetimeIndex.\n",
    "    site_df = panda[panda['site_id']==site]\n",
    "    temp_col = site_df['date']\n",
    "    temp_val = temp_col.values\n",
    "    temp_ndx = pd.DatetimeIndex(temp_val)\n",
    "    dropped = site_df.drop('date',axis=1)\n",
    "    panda = dropped.set_index(temp_ndx)\n",
    "    return panda"
   ]
  },
  {
   "cell_type": "code",
   "execution_count": null,
   "id": "verified-tragedy",
   "metadata": {},
   "outputs": [],
   "source": [
    "wet_df = read_zip_to_panda(ZIP_PATH,WEATHER_FILE)\n",
    "wet_df = fix_date_type(wet_df)"
   ]
  },
  {
   "cell_type": "code",
   "execution_count": null,
   "id": "marked-candle",
   "metadata": {},
   "outputs": [],
   "source": [
    "wet_df = wet_df.loc[:,'airTemperature': 'windSpeed'] #Create a new dataframe not including timestamp and site id"
   ]
  },
  {
   "cell_type": "code",
   "execution_count": null,
   "id": "heated-dance",
   "metadata": {},
   "outputs": [],
   "source": [
    "#Fit and transform in standard scaler \n",
    "scaler = StandardScaler ()\n",
    "scaler.fit(wet_df)\n",
    "wet_df_transform = scaler.transform (wet_df) #Apply transform "
   ]
  },
  {
   "cell_type": "code",
   "execution_count": null,
   "id": "stunning-emerald",
   "metadata": {},
   "outputs": [],
   "source": [
    "#Input contains NaN, infinity or a value too large for dtype('float64').\n",
    "pca_wet_df = pd.DataFrame(wet_df_transform) #create dataframe\n",
    "np.where(pca_wet_df .values >= np.finfo(np.float64).max) \n",
    "pca_wet_df.replace([np.inf, -np.inf], np.nan, inplace=True)\n",
    "pca_wet_df.fillna(0, inplace=True)\n",
    "pca_wet_df = pca_wet_df.to_numpy() #convert Dataframe back to array\n",
    "\n",
    "pca = PCA (0.98) #shows 98% of the data in PCA\n",
    "pca.fit (pca_wet_df)\n",
    "pca_wet_df = pca.transform (pca_wet_df)\n",
    "\n",
    "per_var = np.round(pca.explained_variance_ratio_*100,decimals = 1)\n",
    "labels = ['PC'+str(x) for x in range (1,len(per_var)+1)]\n",
    "\n",
    "plt.figure(figsize=(10,7))\n",
    "plt.bar(x=range(1,len(per_var)+1), height = per_var, tick_label =labels)\n",
    "plt.ylabel('Percentage of Variance',fontsize = 20)\n",
    "plt.xlabel('Principal component',fontsize = 20)\n",
    "plt.title('PCA Weather',fontsize = 25)\n",
    "plt.show()"
   ]
  },
  {
   "cell_type": "code",
   "execution_count": null,
   "id": "weighted-outline",
   "metadata": {},
   "outputs": [],
   "source": []
  },
  {
   "cell_type": "code",
   "execution_count": null,
   "id": "commercial-shade",
   "metadata": {},
   "outputs": [],
   "source": []
  }
 ],
 "metadata": {
  "kernelspec": {
   "display_name": "Python 3",
   "language": "python",
   "name": "python3"
  },
  "language_info": {
   "codemirror_mode": {
    "name": "ipython",
    "version": 3
   },
   "file_extension": ".py",
   "mimetype": "text/x-python",
   "name": "python",
   "nbconvert_exporter": "python",
   "pygments_lexer": "ipython3",
   "version": "3.9.1"
  }
 },
 "nbformat": 4,
 "nbformat_minor": 5
}
