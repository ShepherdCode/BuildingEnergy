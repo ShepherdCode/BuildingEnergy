{
 "cells": [
  {
   "cell_type": "markdown",
   "id": "front-consumer",
   "metadata": {},
   "source": [
    "## Electricty Usage in Site Eagle\n",
    "Try forecast electricy usage in one building in site Eagle\n"
   ]
  },
  {
   "cell_type": "code",
   "execution_count": 1,
   "id": "focal-assignment",
   "metadata": {},
   "outputs": [],
   "source": [
    "DATAPATH=''\n",
    "try:\n",
    "    # On Google Drive, set path to my drive / data directory.\n",
    "    from google.colab import drive\n",
    "    IN_COLAB = True\n",
    "    PATH='/content/drive/'\n",
    "    drive.mount(PATH)\n",
    "    DATAPATH=PATH+'My Drive/data/'  # must end in \"/\"\n",
    "except:\n",
    "    # On home computer, set path to local data directory.\n",
    "    IN_COLAB = False\n",
    "    DATAPATH='C:/'  # must end in \"/\"\n",
    "\n",
    "ZIP_FILE='BuildingData.zip'\n",
    "ZIP_PATH = DATAPATH+ZIP_FILE\n",
    "ELECT_FILE='electricity.csv'\n",
    "WEATHER_FILE='weather.csv'\n",
    "MODEL_FILE='Model'  # will be used later to save models"
   ]
  },
  {
   "cell_type": "code",
   "execution_count": 2,
   "id": "flush-eight",
   "metadata": {},
   "outputs": [],
   "source": [
    "from os import listdir\n",
    "import csv\n",
    "from zipfile import ZipFile\n",
    "import numpy as np\n",
    "import pandas as pd\n",
    "from pandas.plotting import autocorrelation_plot\n",
    "from scipy import stats  # mode\n",
    "\n",
    "from sklearn.preprocessing import StandardScaler\n",
    "from sklearn.linear_model import LinearRegression\n",
    "from sklearn.metrics import mean_squared_error\n",
    "\n",
    "import matplotlib.pyplot as plt\n",
    "from matplotlib import colors\n",
    "mycmap = colors.ListedColormap(['red','blue'])  # list color for label 0 then 1\n",
    "np.set_printoptions(precision=2)"
   ]
  },
  {
   "cell_type": "code",
   "execution_count": 3,
   "id": "painted-repository",
   "metadata": {},
   "outputs": [],
   "source": [
    "def read_zip_to_panda(zip_filename,csv_filename):\n",
    "    zip_handle = ZipFile(zip_filename)\n",
    "    csv_handle = zip_handle.open(csv_filename)\n",
    "    panda = pd.read_csv(csv_handle)\n",
    "    return panda\n",
    "def fix_date_type(panda):\n",
    "    # Convert the given timestamp column to the pandas datetime data type.\n",
    "    panda['timestamp'] = pd.to_datetime(panda['timestamp'], infer_datetime_format = True)\n",
    "    indexed = panda.set_index(['timestamp'])\n",
    "    return indexed\n",
    "def get_site_timeseries(panda,site):\n",
    "    # Assume the panda dataframe has a datetime column.\n",
    "    # (If not, call fix_date_type() before this.)\n",
    "    # Extract the timeseries for one site.\n",
    "    # Convert the datetime column to a DatetimeIndex.\n",
    "    site_df = panda[panda['site_id']==site]\n",
    "    temp_col = site_df['date']\n",
    "    temp_val = temp_col.values\n",
    "    temp_ndx = pd.DatetimeIndex(temp_val)\n",
    "    dropped = site_df.drop('date',axis=1)\n",
    "    panda = dropped.set_index(temp_ndx)\n",
    "    return panda"
   ]
  },
  {
   "cell_type": "code",
   "execution_count": 4,
   "id": "empty-subdivision",
   "metadata": {},
   "outputs": [],
   "source": [
    "SITE = 'Eagle'\n",
    "METER = 'Electricty'\n",
    "BLDG = 'Eagle_education_Peter'\n",
    "wet_df = read_zip_to_panda(ZIP_PATH,WEATHER_FILE)\n",
    "wet_df = fix_date_type(wet_df)\n",
    "elec_df = read_zip_to_panda(ZIP_PATH,ELECT_FILE)\n",
    "elec_df = fix_date_type(elec_df)\n",
    "site_specific_weather = wet_df.loc[wet_df['site_id'] == SITE]\n",
    "bldg_specific_elect = elec_df[[BLDG]]\n",
    "#print(site_specific_weather.info())\n",
    "#print(bldg_specific_electricity.info())  "
   ]
  },
  {
   "cell_type": "code",
   "execution_count": 5,
   "id": "willing-zoning",
   "metadata": {},
   "outputs": [
    {
     "name": "stdout",
     "output_type": "stream",
     "text": [
      "Note 17544 rows = two years hourly, including one leap day.\n",
      "Note every column contains some NaN:\n",
      "<class 'pandas.core.frame.DataFrame'>\n",
      "DatetimeIndex: 17544 entries, 2016-01-01 00:00:00 to 2017-12-31 23:00:00\n",
      "Freq: H\n",
      "Data columns (total 9 columns):\n",
      " #   Column          Non-Null Count  Dtype  \n",
      "---  ------          --------------  -----  \n",
      " 0   Electricty      17544 non-null  float64\n",
      " 1   airTemperature  17533 non-null  float64\n",
      " 2   cloudCoverage   10528 non-null  float64\n",
      " 3   dewTemperature  17533 non-null  float64\n",
      " 4   precipDepth1HR  17440 non-null  float64\n",
      " 5   precipDepth6HR  645 non-null    float64\n",
      " 6   seaLvlPressure  17329 non-null  float64\n",
      " 7   windDirection   17010 non-null  float64\n",
      " 8   windSpeed       17498 non-null  float64\n",
      "dtypes: float64(9)\n",
      "memory usage: 1.3 MB\n"
     ]
    }
   ],
   "source": [
    "one_bldg_df = pd.concat([bldg_specific_elect,site_specific_weather],axis=1)\n",
    "one_bldg_df = one_bldg_df.drop(['site_id'],axis=1)\n",
    "one_bldg_df = one_bldg_df.rename(columns={BLDG : METER})\n",
    "\n",
    "print(\"Note 17544 rows = two years hourly, including one leap day.\")\n",
    "print(\"Note every column contains some NaN:\")\n",
    "one_bldg_df.info()"
   ]
  },
  {
   "cell_type": "code",
   "execution_count": 6,
   "id": "threaded-operations",
   "metadata": {},
   "outputs": [
    {
     "data": {
      "text/html": [
       "<div>\n",
       "<style scoped>\n",
       "    .dataframe tbody tr th:only-of-type {\n",
       "        vertical-align: middle;\n",
       "    }\n",
       "\n",
       "    .dataframe tbody tr th {\n",
       "        vertical-align: top;\n",
       "    }\n",
       "\n",
       "    .dataframe thead th {\n",
       "        text-align: right;\n",
       "    }\n",
       "</style>\n",
       "<table border=\"1\" class=\"dataframe\">\n",
       "  <thead>\n",
       "    <tr style=\"text-align: right;\">\n",
       "      <th></th>\n",
       "      <th>Electricty</th>\n",
       "      <th>airTemperature</th>\n",
       "      <th>cloudCoverage</th>\n",
       "      <th>dewTemperature</th>\n",
       "      <th>precipDepth1HR</th>\n",
       "      <th>precipDepth6HR</th>\n",
       "      <th>seaLvlPressure</th>\n",
       "      <th>windDirection</th>\n",
       "      <th>windSpeed</th>\n",
       "    </tr>\n",
       "  </thead>\n",
       "  <tbody>\n",
       "    <tr>\n",
       "      <th>Electricty</th>\n",
       "      <td>1.000000</td>\n",
       "      <td>0.103883</td>\n",
       "      <td>-0.008615</td>\n",
       "      <td>0.004470</td>\n",
       "      <td>0.018163</td>\n",
       "      <td>0.071491</td>\n",
       "      <td>-0.064867</td>\n",
       "      <td>-0.015119</td>\n",
       "      <td>0.072154</td>\n",
       "    </tr>\n",
       "    <tr>\n",
       "      <th>airTemperature</th>\n",
       "      <td>0.103883</td>\n",
       "      <td>1.000000</td>\n",
       "      <td>0.043396</td>\n",
       "      <td>0.891414</td>\n",
       "      <td>0.017739</td>\n",
       "      <td>0.120503</td>\n",
       "      <td>-0.247301</td>\n",
       "      <td>-0.054579</td>\n",
       "      <td>-0.028391</td>\n",
       "    </tr>\n",
       "    <tr>\n",
       "      <th>cloudCoverage</th>\n",
       "      <td>-0.008615</td>\n",
       "      <td>0.043396</td>\n",
       "      <td>1.000000</td>\n",
       "      <td>0.115785</td>\n",
       "      <td>0.061365</td>\n",
       "      <td>0.030444</td>\n",
       "      <td>-0.203509</td>\n",
       "      <td>-0.066536</td>\n",
       "      <td>0.085135</td>\n",
       "    </tr>\n",
       "    <tr>\n",
       "      <th>dewTemperature</th>\n",
       "      <td>0.004470</td>\n",
       "      <td>0.891414</td>\n",
       "      <td>0.115785</td>\n",
       "      <td>1.000000</td>\n",
       "      <td>0.084074</td>\n",
       "      <td>0.215176</td>\n",
       "      <td>-0.308613</td>\n",
       "      <td>-0.184510</td>\n",
       "      <td>-0.152528</td>\n",
       "    </tr>\n",
       "    <tr>\n",
       "      <th>precipDepth1HR</th>\n",
       "      <td>0.018163</td>\n",
       "      <td>0.017739</td>\n",
       "      <td>0.061365</td>\n",
       "      <td>0.084074</td>\n",
       "      <td>1.000000</td>\n",
       "      <td>0.508912</td>\n",
       "      <td>-0.113506</td>\n",
       "      <td>-0.049742</td>\n",
       "      <td>0.053514</td>\n",
       "    </tr>\n",
       "    <tr>\n",
       "      <th>precipDepth6HR</th>\n",
       "      <td>0.071491</td>\n",
       "      <td>0.120503</td>\n",
       "      <td>0.030444</td>\n",
       "      <td>0.215176</td>\n",
       "      <td>0.508912</td>\n",
       "      <td>1.000000</td>\n",
       "      <td>-0.222913</td>\n",
       "      <td>-0.104992</td>\n",
       "      <td>0.009770</td>\n",
       "    </tr>\n",
       "    <tr>\n",
       "      <th>seaLvlPressure</th>\n",
       "      <td>-0.064867</td>\n",
       "      <td>-0.247301</td>\n",
       "      <td>-0.203509</td>\n",
       "      <td>-0.308613</td>\n",
       "      <td>-0.113506</td>\n",
       "      <td>-0.222913</td>\n",
       "      <td>1.000000</td>\n",
       "      <td>-0.074461</td>\n",
       "      <td>-0.228705</td>\n",
       "    </tr>\n",
       "    <tr>\n",
       "      <th>windDirection</th>\n",
       "      <td>-0.015119</td>\n",
       "      <td>-0.054579</td>\n",
       "      <td>-0.066536</td>\n",
       "      <td>-0.184510</td>\n",
       "      <td>-0.049742</td>\n",
       "      <td>-0.104992</td>\n",
       "      <td>-0.074461</td>\n",
       "      <td>1.000000</td>\n",
       "      <td>0.398483</td>\n",
       "    </tr>\n",
       "    <tr>\n",
       "      <th>windSpeed</th>\n",
       "      <td>0.072154</td>\n",
       "      <td>-0.028391</td>\n",
       "      <td>0.085135</td>\n",
       "      <td>-0.152528</td>\n",
       "      <td>0.053514</td>\n",
       "      <td>0.009770</td>\n",
       "      <td>-0.228705</td>\n",
       "      <td>0.398483</td>\n",
       "      <td>1.000000</td>\n",
       "    </tr>\n",
       "  </tbody>\n",
       "</table>\n",
       "</div>"
      ],
      "text/plain": [
       "                Electricty  airTemperature  cloudCoverage  dewTemperature  \\\n",
       "Electricty        1.000000        0.103883      -0.008615        0.004470   \n",
       "airTemperature    0.103883        1.000000       0.043396        0.891414   \n",
       "cloudCoverage    -0.008615        0.043396       1.000000        0.115785   \n",
       "dewTemperature    0.004470        0.891414       0.115785        1.000000   \n",
       "precipDepth1HR    0.018163        0.017739       0.061365        0.084074   \n",
       "precipDepth6HR    0.071491        0.120503       0.030444        0.215176   \n",
       "seaLvlPressure   -0.064867       -0.247301      -0.203509       -0.308613   \n",
       "windDirection    -0.015119       -0.054579      -0.066536       -0.184510   \n",
       "windSpeed         0.072154       -0.028391       0.085135       -0.152528   \n",
       "\n",
       "                precipDepth1HR  precipDepth6HR  seaLvlPressure  windDirection  \\\n",
       "Electricty            0.018163        0.071491       -0.064867      -0.015119   \n",
       "airTemperature        0.017739        0.120503       -0.247301      -0.054579   \n",
       "cloudCoverage         0.061365        0.030444       -0.203509      -0.066536   \n",
       "dewTemperature        0.084074        0.215176       -0.308613      -0.184510   \n",
       "precipDepth1HR        1.000000        0.508912       -0.113506      -0.049742   \n",
       "precipDepth6HR        0.508912        1.000000       -0.222913      -0.104992   \n",
       "seaLvlPressure       -0.113506       -0.222913        1.000000      -0.074461   \n",
       "windDirection        -0.049742       -0.104992       -0.074461       1.000000   \n",
       "windSpeed             0.053514        0.009770       -0.228705       0.398483   \n",
       "\n",
       "                windSpeed  \n",
       "Electricty       0.072154  \n",
       "airTemperature  -0.028391  \n",
       "cloudCoverage    0.085135  \n",
       "dewTemperature  -0.152528  \n",
       "precipDepth1HR   0.053514  \n",
       "precipDepth6HR   0.009770  \n",
       "seaLvlPressure  -0.228705  \n",
       "windDirection    0.398483  \n",
       "windSpeed        1.000000  "
      ]
     },
     "execution_count": 6,
     "metadata": {},
     "output_type": "execute_result"
    }
   ],
   "source": [
    "one_bldg_df.corr()"
   ]
  },
  {
   "cell_type": "code",
   "execution_count": 7,
   "id": "proper-landing",
   "metadata": {},
   "outputs": [
    {
     "data": {
      "image/png": "[encoded data removed]",
      "text/plain": [
       "<Figure size 288x288 with 1 Axes>"
      ]
     },
     "metadata": {
      "needs_background": "light"
     },
     "output_type": "display_data"
    }
   ],
   "source": [
    "plt.matshow(one_bldg_df.corr())\n",
    "plt.show()"
   ]
  },
  {
   "cell_type": "code",
   "execution_count": 8,
   "id": "weird-interest",
   "metadata": {},
   "outputs": [
    {
     "data": {
      "text/plain": [
       "LinearRegression()"
      ]
     },
     "execution_count": 8,
     "metadata": {},
     "output_type": "execute_result"
    }
   ],
   "source": [
    "# Linear Regression\n",
    "X = one_bldg_df.drop(METER,axis=1).fillna(0)\n",
    "y = one_bldg_df[METER].fillna(0)\n",
    "split = 900\n",
    "X_train = X.iloc[0:split]\n",
    "y_train = y.iloc[0:split]\n",
    "linreg = LinearRegression()\n",
    "linreg.fit(X_train,y_train)"
   ]
  },
  {
   "cell_type": "code",
   "execution_count": 9,
   "id": "chicken-sacrifice",
   "metadata": {},
   "outputs": [
    {
     "name": "stdout",
     "output_type": "stream",
     "text": [
      "RMSE = std dev of unexplained variation: 250.86155759208037\n"
     ]
    }
   ],
   "source": [
    "# Cross validation.\n",
    "# For now, just test an arbitrary group.\n",
    "X_test = X.iloc[split:]\n",
    "y_test = y.iloc[split:]\n",
    "y_pred = linreg.predict(X_test)\n",
    "rmse = mean_squared_error(y_test,y_pred,squared=False)\n",
    "print(\"RMSE = std dev of unexplained variation:\",rmse)"
   ]
  },
  {
   "cell_type": "code",
   "execution_count": 10,
   "id": "demonstrated-purpose",
   "metadata": {},
   "outputs": [
    {
     "name": "stdout",
     "output_type": "stream",
     "text": [
      "std dev of the response variable: 214.2763664822777\n"
     ]
    },
    {
     "data": {
      "text/plain": [
       "count    16644.000000\n",
       "mean      1539.121325\n",
       "std        214.276366\n",
       "min          0.000000\n",
       "25%       1437.507725\n",
       "50%       1511.177400\n",
       "75%       1654.528700\n",
       "max       1989.069500\n",
       "Name: Electricty, dtype: float64"
      ]
     },
     "execution_count": 10,
     "metadata": {},
     "output_type": "execute_result"
    }
   ],
   "source": [
    "print(\"std dev of the response variable:\",y_test.std())\n",
    "y_test.describe()"
   ]
  },
  {
   "cell_type": "code",
   "execution_count": null,
   "id": "expressed-williams",
   "metadata": {},
   "outputs": [],
   "source": []
  }
 ],
 "metadata": {
  "kernelspec": {
   "display_name": "Python 3",
   "language": "python",
   "name": "python3"
  },
  "language_info": {
   "codemirror_mode": {
    "name": "ipython",
    "version": 3
   },
   "file_extension": ".py",
   "mimetype": "text/x-python",
   "name": "python",
   "nbconvert_exporter": "python",
   "pygments_lexer": "ipython3",
   "version": "3.9.1"
  }
 },
 "nbformat": 4,
 "nbformat_minor": 5
}
