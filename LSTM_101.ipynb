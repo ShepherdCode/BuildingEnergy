{
 "cells": [
  {
   "cell_type": "markdown",
   "metadata": {},
   "source": [
    "# LSTM 101\n",
    "Forecasting with LSTM.\n",
    "Forecast steam usage based on weather."
   ]
  },
  {
   "cell_type": "code",
   "execution_count": 1,
   "metadata": {},
   "outputs": [],
   "source": [
    "DATAPATH=''\n",
    "try:\n",
    "    # On Google Drive, set path to my drive / data directory.\n",
    "    from google.colab import drive\n",
    "    IN_COLAB = True\n",
    "    PATH='/content/drive/'\n",
    "    drive.mount(PATH)\n",
    "    DATAPATH=PATH+'My Drive/data/'  # must end in \"/\"\n",
    "except:\n",
    "    # On home computer, set path to local data directory.\n",
    "    IN_COLAB = False\n",
    "    DATAPATH='data/'  # must end in \"/\"\n",
    "\n",
    "ZIP_FILE='BuildingData.zip'\n",
    "ZIP_PATH = DATAPATH+ZIP_FILE\n",
    "STEAM_FILE='steam.csv'\n",
    "WEATHER_FILE='weather.csv'\n",
    "MODEL_FILE='Model'  # will be used later to save models"
   ]
  },
  {
   "cell_type": "code",
   "execution_count": 2,
   "metadata": {},
   "outputs": [],
   "source": [
    "from os import listdir\n",
    "import csv\n",
    "from zipfile import ZipFile\n",
    "import numpy as np\n",
    "import pandas as pd\n",
    "from scipy import stats  # mode\n",
    "\n",
    "from sklearn.decomposition import PCA, KernelPCA\n",
    "from sklearn.preprocessing import StandardScaler\n",
    "from sklearn.metrics import mean_squared_error\n",
    "from sklearn.linear_model import LinearRegression\n",
    "\n",
    "import matplotlib.pyplot as plt\n",
    "from matplotlib import colors\n",
    "mycmap = colors.ListedColormap(['red','blue'])  # list color for label 0 then 1\n",
    "np.set_printoptions(precision=2)"
   ]
  },
  {
   "cell_type": "code",
   "execution_count": 3,
   "metadata": {},
   "outputs": [],
   "source": [
    "def read_zip_to_panda(zip_filename,csv_filename):\n",
    "    zip_handle = ZipFile(zip_filename)\n",
    "    csv_handle = zip_handle.open(csv_filename)\n",
    "    panda = pd.read_csv(csv_handle)\n",
    "    return panda\n",
    "def fix_date_type(panda):\n",
    "    # Convert the given timestamp column to the pandas datetime data type.\n",
    "    panda['timestamp'] = pd.to_datetime(panda['timestamp'], infer_datetime_format = True)\n",
    "    indexed = panda.set_index(['timestamp'])\n",
    "    return indexed\n",
    "def get_site_timeseries(panda,site):\n",
    "    # Assume the panda dataframe has a datetime column.\n",
    "    # (If not, call fix_date_type() before this.)\n",
    "    # Extract the timeseries for one site.\n",
    "    # Convert the datetime column to a DatetimeIndex.\n",
    "    site_df = panda[panda['site_id']==site]\n",
    "    temp_col = site_df['date']\n",
    "    temp_val = temp_col.values\n",
    "    temp_ndx = pd.DatetimeIndex(temp_val)\n",
    "    dropped = site_df.drop('date',axis=1)\n",
    "    panda = dropped.set_index(temp_ndx)\n",
    "    return panda"
   ]
  },
  {
   "cell_type": "code",
   "execution_count": 4,
   "metadata": {},
   "outputs": [],
   "source": [
    "SITE = 'Eagle'\n",
    "METER = 'steam'\n",
    "BLDG = 'Eagle_education_Peter'   # one example\n",
    "STEPS_HISTORY = 24*14  # 14 days\n",
    "STEPS_FUTURE = 24*1    # 1 day\n",
    "PREDICTOR_VARIABLE = 'airTemperature'  # for starters\n",
    "PREDICTED_VARIABLE = 'airTemperature'  # for starters"
   ]
  },
  {
   "cell_type": "code",
   "execution_count": 5,
   "metadata": {},
   "outputs": [],
   "source": [
    "wet_df = read_zip_to_panda(ZIP_PATH,WEATHER_FILE)\n",
    "wet_df = fix_date_type(wet_df)\n",
    "stm_df = read_zip_to_panda(ZIP_PATH,STEAM_FILE)\n",
    "stm_df = fix_date_type(stm_df)\n",
    "site_specific_weather = wet_df.loc[wet_df['site_id'] == SITE]\n",
    "all_buildings = [x for x in stm_df.columns if x.startswith(SITE)]"
   ]
  },
  {
   "cell_type": "code",
   "execution_count": 6,
   "metadata": {},
   "outputs": [],
   "source": [
    "DOWNSAMPLE = True\n",
    "def smooth(df):\n",
    "    # For smoothing the 24 hour cycle, we do not want exponential smoothing.\n",
    "    smoothed = None\n",
    "    if DOWNSAMPLE:\n",
    "        # This alternate method samples down to 1/24 time steps.\n",
    "        smoothed = df.resample(\"24H\").mean() \n",
    "    else:\n",
    "        # This method does not reduce the number of time steps.\n",
    "        # Note the first 23 measurements get set to Nan.\n",
    "        smoothed=df.rolling(window=24).mean()\n",
    "        smoothed=smoothed[24:]\n",
    "    return smoothed\n",
    "\n",
    "# Correlation is low when buildings have many NaN and 0 meter readings.\n",
    "# We will ignore buildings that have >max bad meter readings.\n",
    "def is_usable_column(df,column_name):\n",
    "    MAX_BAD = 500 \n",
    "    bad = df[column_name].isin([0]).sum()\n",
    "    return bad<=MAX_BAD\n",
    "\n",
    "def prepare_for_learning(df):\n",
    "    # This is very slow. Is there a faster way? See...\n",
    "    # https://stackoverflow.com/questions/27852343/split-python-sequence-time-series-array-into-subsequences-with-overlap\n",
    "    # X = df.drop(METER,axis=1) # this would use all predictors, just drop the predicted\n",
    "    X=[]\n",
    "    y=[]\n",
    "    predictor_series = df[PREDICTOR_VARIABLE]\n",
    "    predicted_series = df[PREDICTED_VARIABLE]\n",
    "    for i in range(STEPS_HISTORY,len(df)-STEPS_FUTURE):\n",
    "        one_predictor = predictor_series[i-STEPS_HISTORY:i]\n",
    "        one_predicted = predicted_series[i:i+STEPS_FUTURE]\n",
    "        X.append(one_predictor.to_frame())\n",
    "        y.append(one_predicted.to_frame())\n",
    "    return X,y  # both are list of dataframe\n"
   ]
  },
  {
   "cell_type": "code",
   "execution_count": 10,
   "metadata": {},
   "outputs": [
    {
     "name": "stdout",
     "output_type": "stream",
     "text": [
      "Column 1: Correlation of steam usage to dew temp.\n",
      "          Using dew temp as leading weather correlate.\n",
      "Column 2: Mean steam usage.\n",
      "          Using mean to help understand the RMSE.\n",
      "Column 3: RMSE of LinearRegression(X=Weather, y=SteamUsage).\n",
      "Column 4: RMSE/mean normalized to help understand RMSE.\n",
      "Column 5: Building.\n",
      "-0.8895    2032.67     391.56  0.19   Eagle_education_Sherrill\n",
      "-0.8563    1635.33     648.89  0.40   Eagle_education_Brooke\n",
      "-0.8526    3149.69     732.47  0.23   Eagle_education_Peter\n",
      "-0.8412     477.70     154.61  0.32   Eagle_health_Athena\n",
      "-0.8203    1197.84     242.79  0.20   Eagle_education_Roman\n",
      "-0.8004     121.95      22.71  0.19   Eagle_health_Vincenza\n",
      "-0.7994      57.05      18.51  0.32   Eagle_education_Petra\n",
      "-0.7740     712.07     219.02  0.31   Eagle_education_Norah\n",
      "-0.7628     182.08      69.50  0.38   Eagle_public_Alvin\n",
      "-0.7222      81.97      29.40  0.36   Eagle_lodging_Edgardo\n",
      "-0.7132      92.83      41.04  0.44   Eagle_lodging_Dawn\n",
      "-0.6798     148.51      46.58  0.31   Eagle_education_Teresa\n",
      "-0.6778      91.28      35.14  0.38   Eagle_lodging_Trina\n",
      "-0.5591     336.36     118.94  0.35   Eagle_office_Francis\n",
      "-0.3639     226.25      84.59  0.37   Eagle_education_Will\n",
      " 0.7265       0.11       0.02  0.20   Eagle_education_Wesley\n"
     ]
    }
   ],
   "source": [
    "cors = []\n",
    "# Test on only Peter just during code development\n",
    "for BLDG in all_buildings:\n",
    "    # Get steam usage for one building.\n",
    "    bldg_specific_steam = stm_df[[BLDG]]\n",
    "    # Concatenate steam usage with weather.\n",
    "    one_bldg_df = pd.concat([bldg_specific_steam,site_specific_weather],axis=1)\n",
    "    # Drop the site, which is constant (we selected for one site).\n",
    "    one_bldg_df = one_bldg_df.drop(['site_id'],axis=1)\n",
    "    # The original steam table used column name = building name.\n",
    "    # We are processing one building, so rename to the column 'steam'.\n",
    "    one_bldg_df = one_bldg_df.rename(columns={BLDG : METER})\n",
    "    # In order to filter bad buildings, count sum of NaN + zero.\n",
    "    one_bldg_df = one_bldg_df.fillna(0)\n",
    "    \n",
    "    if is_usable_column(one_bldg_df,METER):\n",
    "        one_bldg_df = smooth(one_bldg_df) # moving average: 24hr\n",
    "        X,y = prepare_for_learning(one_bldg_df)\n",
    "        if True:\n",
    "            X = one_bldg_df.drop(METER,axis=1)\n",
    "            y = one_bldg_df[METER]\n",
    "            # Ideally, split Year1 = train, Year2 = test.\n",
    "            # Some data is incomplete, so split 1st half and 2nd half.\n",
    "            split = len(X)//2 \n",
    "            X_train = X.iloc[0:split]\n",
    "            y_train = y.iloc[0:split]\n",
    "            X_test = X.iloc[split:]\n",
    "            y_test = y.iloc[split:]\n",
    "            linreg = LinearRegression()\n",
    "            linreg.fit(X_train,y_train)\n",
    "            y_pred = linreg.predict(X_test)\n",
    "            # Keep a table for reporting later.\n",
    "            rmse = mean_squared_error(y_test,y_pred,squared=False)\n",
    "            mean = one_bldg_df[METER].mean()\n",
    "            cor = one_bldg_df.corr().iloc[0][3] # corr(steam,dew_temp)\n",
    "            cors.append([cor,mean,rmse,rmse/mean,BLDG])\n",
    "if True:\n",
    "    print(\"Column 1: Correlation of steam usage to dew temp.\")\n",
    "    print(\"          Using dew temp as leading weather correlate.\")\n",
    "    print(\"Column 2: Mean steam usage.\")\n",
    "    print(\"          Using mean to help understand the RMSE.\")\n",
    "    print(\"Column 3: RMSE of LinearRegression(X=Weather, y=SteamUsage).\")\n",
    "    print(\"Column 4: RMSE/mean normalized to help understand RMSE.\")\n",
    "    print(\"Column 5: Building.\")\n",
    "    for cor in sorted(cors):\n",
    "        print(\"%7.4f %10.2f %10.2f %5.2f   %s\"%(cor[0],cor[1],cor[2],cor[3],cor[4]))    "
   ]
  },
  {
   "cell_type": "markdown",
   "metadata": {},
   "source": [
    "## Useful Links\n",
    "\n",
    "Jason Brownlee  \n",
    "https://machinelearningmastery.com/how-to-develop-lstm-models-for-time-series-forecasting/\n",
    "https://machinelearningmastery.com/multivariate-time-series-forecasting-lstms-keras/\n"
   ]
  },
  {
   "cell_type": "code",
   "execution_count": null,
   "metadata": {},
   "outputs": [],
   "source": []
  }
 ],
 "metadata": {
  "kernelspec": {
   "display_name": "Python 3",
   "language": "python",
   "name": "python3"
  },
  "language_info": {
   "codemirror_mode": {
    "name": "ipython",
    "version": 3
   },
   "file_extension": ".py",
   "mimetype": "text/x-python",
   "name": "python",
   "nbconvert_exporter": "python",
   "pygments_lexer": "ipython3",
   "version": "3.8.3"
  }
 },
 "nbformat": 4,
 "nbformat_minor": 2
}
