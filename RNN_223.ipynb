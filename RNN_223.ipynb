{
 "cells": [
  {
   "cell_type": "markdown",
   "metadata": {
    "id": "dFNRPftWw9pK"
   },
   "source": [
    "# RNN \n",
    "Use non-consecutive predictors. Same hour of each day: 7 daily predictors to predict next 3. Smoothing window size 3. Predict steam given steam and day of year."
   ]
  },
  {
   "cell_type": "code",
   "execution_count": 1,
   "metadata": {
    "id": "5deM-us2w9pZ"
   },
   "outputs": [],
   "source": [
    "from os import listdir\n",
    "import csv\n",
    "from zipfile import ZipFile\n",
    "import numpy as np\n",
    "import pandas as pd\n",
    "from scipy import stats  # mode\n",
    "\n",
    "from sklearn.preprocessing import StandardScaler\n",
    "from sklearn.metrics import mean_squared_error\n",
    "\n",
    "from keras.models import Sequential\n",
    "from keras.layers import SimpleRNN\n",
    "from keras.layers import LSTM\n",
    "from keras.layers import GRU\n",
    "from keras.layers import TimeDistributed\n",
    "from keras.layers import Dense\n",
    "from keras.losses import MeanSquaredError\n",
    "\n",
    "import matplotlib.pyplot as plt\n",
    "from matplotlib import colors\n",
    "mycmap = colors.ListedColormap(['red','blue'])  # list color for label 0 then 1\n",
    "np.set_printoptions(precision=2)"
   ]
  },
  {
   "cell_type": "code",
   "execution_count": 2,
   "metadata": {
    "colab": {
     "base_uri": "https://localhost:8080/"
    },
    "id": "jZgkgsP6w9pg",
    "outputId": "ee1636d2-aba2-4124-bf01-21c5a01afb3f"
   },
   "outputs": [
    {
     "name": "stdout",
     "output_type": "stream",
     "text": [
      "PREDICTORS= 2 ['doy', 'meter']\n"
     ]
    }
   ],
   "source": [
    "# Constants\n",
    "EPOCHS=5  # use 5 for software testing, 50 for model testing\n",
    "SITE = 'Eagle'\n",
    "PREDICTORS = ['hour','month','doy','meter','cloudCoverage', 'airTemperature', 'dewTemperature', 'precipDepth1HR', 'precipDepth6HR', 'seaLvlPressure', 'windDirection', 'windSpeed']\n",
    "PREDICTORS = ['doy','meter'] # short list for testing\n",
    "NUM_PREDICTORS=len(PREDICTORS)\n",
    "print(\"PREDICTORS=\",NUM_PREDICTORS,PREDICTORS)\n",
    "PREDICTED_VARIABLE = 'meter'  \n",
    "STEPS_SKIP = 24\n",
    "STEPS_FORWARD = 7 \n",
    "STEPS_FUTURE =  3 \n",
    "METER_FILE='steam.csv'\n",
    "WEATHER_FILE='weather.csv'\n",
    "EXAMPLE='Eagle_lodging_Edgardo'\n",
    "SITE_BUILDINGS = None\n",
    "SMOOTHING_WINDOW=3"
   ]
  },
  {
   "cell_type": "code",
   "execution_count": 3,
   "metadata": {
    "colab": {
     "base_uri": "https://localhost:8080/"
    },
    "id": "mgeDotTmw9pX",
    "outputId": "20919074-3320-4cfc-e51a-039bf2554a4a"
   },
   "outputs": [],
   "source": [
    "DATAPATH=''\n",
    "try:\n",
    "    # On Google Drive, set path to my drive / data directory.\n",
    "    from google.colab import drive\n",
    "    IN_COLAB = True\n",
    "    PATH='/content/drive/'\n",
    "    drive.mount(PATH)\n",
    "    DATAPATH=PATH+'My Drive/data/'  # must end in \"/\"\n",
    "except:\n",
    "    # On home computer, set path to local data directory.\n",
    "    IN_COLAB = False\n",
    "    DATAPATH='data/'  # must end in \"/\"\n",
    "\n",
    "ZIP_FILE='BuildingData.zip'\n",
    "ZIP_PATH = DATAPATH+ZIP_FILE\n",
    "MODEL_FILE='Model'  # will be used later to save models"
   ]
  },
  {
   "cell_type": "code",
   "execution_count": 4,
   "metadata": {
    "id": "ONdk510Cw9pc"
   },
   "outputs": [],
   "source": [
    "def read_zip_to_panda(zip_filename,csv_filename):\n",
    "    zip_handle = ZipFile(zip_filename)\n",
    "    csv_handle = zip_handle.open(csv_filename)\n",
    "    panda = pd.read_csv(csv_handle)\n",
    "    return panda\n",
    "def fix_date_type(panda):\n",
    "    # Convert the given timestamp column to the pandas datetime data type.\n",
    "    panda['timestamp'] = pd.to_datetime(panda['timestamp'], infer_datetime_format = True)\n",
    "    indexed = panda.set_index(['timestamp'])\n",
    "    return indexed\n"
   ]
  },
  {
   "cell_type": "code",
   "execution_count": 5,
   "metadata": {
    "colab": {
     "base_uri": "https://localhost:8080/",
     "height": 344
    },
    "id": "6YVYM_bqw9pi",
    "outputId": "1e90f62a-0cc0-41ec-a13e-6fc13a22c629"
   },
   "outputs": [
    {
     "data": {
      "text/html": [
       "<div>\n",
       "<style scoped>\n",
       "    .dataframe tbody tr th:only-of-type {\n",
       "        vertical-align: middle;\n",
       "    }\n",
       "\n",
       "    .dataframe tbody tr th {\n",
       "        vertical-align: top;\n",
       "    }\n",
       "\n",
       "    .dataframe thead th {\n",
       "        text-align: right;\n",
       "    }\n",
       "</style>\n",
       "<table border=\"1\" class=\"dataframe\">\n",
       "  <thead>\n",
       "    <tr style=\"text-align: right;\">\n",
       "      <th></th>\n",
       "      <th>hour</th>\n",
       "      <th>month</th>\n",
       "      <th>doy</th>\n",
       "      <th>airTemperature</th>\n",
       "      <th>cloudCoverage</th>\n",
       "      <th>dewTemperature</th>\n",
       "      <th>precipDepth1HR</th>\n",
       "      <th>precipDepth6HR</th>\n",
       "      <th>seaLvlPressure</th>\n",
       "      <th>windDirection</th>\n",
       "      <th>windSpeed</th>\n",
       "    </tr>\n",
       "    <tr>\n",
       "      <th>timestamp</th>\n",
       "      <th></th>\n",
       "      <th></th>\n",
       "      <th></th>\n",
       "      <th></th>\n",
       "      <th></th>\n",
       "      <th></th>\n",
       "      <th></th>\n",
       "      <th></th>\n",
       "      <th></th>\n",
       "      <th></th>\n",
       "      <th></th>\n",
       "    </tr>\n",
       "  </thead>\n",
       "  <tbody>\n",
       "    <tr>\n",
       "      <th>2017-12-31 18:00:00</th>\n",
       "      <td>18</td>\n",
       "      <td>12</td>\n",
       "      <td>365</td>\n",
       "      <td>-11.1</td>\n",
       "      <td>0.0</td>\n",
       "      <td>-20.6</td>\n",
       "      <td>0.0</td>\n",
       "      <td>NaN</td>\n",
       "      <td>1026.2</td>\n",
       "      <td>330.0</td>\n",
       "      <td>2.6</td>\n",
       "    </tr>\n",
       "    <tr>\n",
       "      <th>2017-12-31 20:00:00</th>\n",
       "      <td>20</td>\n",
       "      <td>12</td>\n",
       "      <td>365</td>\n",
       "      <td>-12.2</td>\n",
       "      <td>0.0</td>\n",
       "      <td>-21.1</td>\n",
       "      <td>0.0</td>\n",
       "      <td>NaN</td>\n",
       "      <td>1027.0</td>\n",
       "      <td>320.0</td>\n",
       "      <td>1.5</td>\n",
       "    </tr>\n",
       "    <tr>\n",
       "      <th>2017-12-31 21:00:00</th>\n",
       "      <td>21</td>\n",
       "      <td>12</td>\n",
       "      <td>365</td>\n",
       "      <td>-12.8</td>\n",
       "      <td>0.0</td>\n",
       "      <td>-21.1</td>\n",
       "      <td>0.0</td>\n",
       "      <td>NaN</td>\n",
       "      <td>1027.2</td>\n",
       "      <td>310.0</td>\n",
       "      <td>2.6</td>\n",
       "    </tr>\n",
       "    <tr>\n",
       "      <th>2017-12-31 22:00:00</th>\n",
       "      <td>22</td>\n",
       "      <td>12</td>\n",
       "      <td>365</td>\n",
       "      <td>-12.8</td>\n",
       "      <td>0.0</td>\n",
       "      <td>-20.6</td>\n",
       "      <td>0.0</td>\n",
       "      <td>NaN</td>\n",
       "      <td>1027.4</td>\n",
       "      <td>330.0</td>\n",
       "      <td>3.1</td>\n",
       "    </tr>\n",
       "    <tr>\n",
       "      <th>2017-12-31 23:00:00</th>\n",
       "      <td>23</td>\n",
       "      <td>12</td>\n",
       "      <td>365</td>\n",
       "      <td>-12.8</td>\n",
       "      <td>0.0</td>\n",
       "      <td>-20.6</td>\n",
       "      <td>0.0</td>\n",
       "      <td>NaN</td>\n",
       "      <td>1027.4</td>\n",
       "      <td>320.0</td>\n",
       "      <td>4.6</td>\n",
       "    </tr>\n",
       "  </tbody>\n",
       "</table>\n",
       "</div>"
      ],
      "text/plain": [
       "                     hour  month  doy  airTemperature  cloudCoverage  \\\n",
       "timestamp                                                              \n",
       "2017-12-31 18:00:00    18     12  365           -11.1            0.0   \n",
       "2017-12-31 20:00:00    20     12  365           -12.2            0.0   \n",
       "2017-12-31 21:00:00    21     12  365           -12.8            0.0   \n",
       "2017-12-31 22:00:00    22     12  365           -12.8            0.0   \n",
       "2017-12-31 23:00:00    23     12  365           -12.8            0.0   \n",
       "\n",
       "                     dewTemperature  precipDepth1HR  precipDepth6HR  \\\n",
       "timestamp                                                             \n",
       "2017-12-31 18:00:00           -20.6             0.0             NaN   \n",
       "2017-12-31 20:00:00           -21.1             0.0             NaN   \n",
       "2017-12-31 21:00:00           -21.1             0.0             NaN   \n",
       "2017-12-31 22:00:00           -20.6             0.0             NaN   \n",
       "2017-12-31 23:00:00           -20.6             0.0             NaN   \n",
       "\n",
       "                     seaLvlPressure  windDirection  windSpeed  \n",
       "timestamp                                                      \n",
       "2017-12-31 18:00:00          1026.2          330.0        2.6  \n",
       "2017-12-31 20:00:00          1027.0          320.0        1.5  \n",
       "2017-12-31 21:00:00          1027.2          310.0        2.6  \n",
       "2017-12-31 22:00:00          1027.4          330.0        3.1  \n",
       "2017-12-31 23:00:00          1027.4          320.0        4.6  "
      ]
     },
     "execution_count": 5,
     "metadata": {},
     "output_type": "execute_result"
    }
   ],
   "source": [
    "def load_weather_for_site(site):\n",
    "    wet_df = read_zip_to_panda(ZIP_PATH,WEATHER_FILE)\n",
    "    wet_df = fix_date_type(wet_df)\n",
    "    site_df = wet_df.loc[wet_df['site_id'] == site]\n",
    "    # Drop the site, which is constant (we selected for one site).\n",
    "    site_df = site_df.drop(['site_id'],axis=1)\n",
    "    site_df.insert(0,'hour',0)\n",
    "    site_df.insert(1,'month',0)\n",
    "    site_df.insert(2,'doy',0)\n",
    "    L=len(site_df)\n",
    "    for i in range(0,L):\n",
    "        dt=site_df.index[i]\n",
    "        hour=dt.hour\n",
    "        month=dt.month\n",
    "        doy=dt.dayofyear\n",
    "        site_df.iat[i,0] = hour\n",
    "        site_df.iat[i,1] = month\n",
    "        site_df.iat[i,2] = doy\n",
    "    return site_df\n",
    "\n",
    "one_site_weather = load_weather_for_site(SITE)\n",
    "one_site_weather.tail()"
   ]
  },
  {
   "cell_type": "code",
   "execution_count": 6,
   "metadata": {
    "colab": {
     "base_uri": "https://localhost:8080/",
     "height": 255
    },
    "id": "s-EKuCBibz9d",
    "outputId": "529c7d03-3895-4813-d4e8-d193f0f44a2d"
   },
   "outputs": [
    {
     "name": "stdout",
     "output_type": "stream",
     "text": [
      "<class 'pandas.core.frame.DataFrame'>\n"
     ]
    },
    {
     "data": {
      "text/html": [
       "<div>\n",
       "<style scoped>\n",
       "    .dataframe tbody tr th:only-of-type {\n",
       "        vertical-align: middle;\n",
       "    }\n",
       "\n",
       "    .dataframe tbody tr th {\n",
       "        vertical-align: top;\n",
       "    }\n",
       "\n",
       "    .dataframe thead th {\n",
       "        text-align: right;\n",
       "    }\n",
       "</style>\n",
       "<table border=\"1\" class=\"dataframe\">\n",
       "  <thead>\n",
       "    <tr style=\"text-align: right;\">\n",
       "      <th></th>\n",
       "      <th>meter</th>\n",
       "    </tr>\n",
       "    <tr>\n",
       "      <th>timestamp</th>\n",
       "      <th></th>\n",
       "    </tr>\n",
       "  </thead>\n",
       "  <tbody>\n",
       "    <tr>\n",
       "      <th>2017-12-31 19:00:00</th>\n",
       "      <td>92.2957</td>\n",
       "    </tr>\n",
       "    <tr>\n",
       "      <th>2017-12-31 20:00:00</th>\n",
       "      <td>277.5584</td>\n",
       "    </tr>\n",
       "    <tr>\n",
       "      <th>2017-12-31 21:00:00</th>\n",
       "      <td>280.5331</td>\n",
       "    </tr>\n",
       "    <tr>\n",
       "      <th>2017-12-31 22:00:00</th>\n",
       "      <td>289.3302</td>\n",
       "    </tr>\n",
       "    <tr>\n",
       "      <th>2017-12-31 23:00:00</th>\n",
       "      <td>164.3474</td>\n",
       "    </tr>\n",
       "  </tbody>\n",
       "</table>\n",
       "</div>"
      ],
      "text/plain": [
       "                        meter\n",
       "timestamp                    \n",
       "2017-12-31 19:00:00   92.2957\n",
       "2017-12-31 20:00:00  277.5584\n",
       "2017-12-31 21:00:00  280.5331\n",
       "2017-12-31 22:00:00  289.3302\n",
       "2017-12-31 23:00:00  164.3474"
      ]
     },
     "execution_count": 6,
     "metadata": {},
     "output_type": "execute_result"
    }
   ],
   "source": [
    "def load_meter_for_building(bldg,smooth=0):\n",
    "    all_df = read_zip_to_panda(ZIP_PATH,METER_FILE)\n",
    "    all_df = fix_date_type(all_df)\n",
    "    global SITE_BUILDINGS\n",
    "    SITE_BUILDINGS = [x for x in all_df.columns if x.startswith(SITE)]\n",
    "    site_series = all_df[bldg]\n",
    "    site_df = site_series.to_frame()\n",
    "    #site_df = all_df.loc[all_df['site_id'] == site]\n",
    "    # Change column name from building name to meter.\n",
    "    site_df = site_df.rename(columns={bldg : PREDICTED_VARIABLE})\n",
    "    if smooth>0:\n",
    "        site_df = site_df.rolling(smooth).mean()\n",
    "    return site_df\n",
    "\n",
    "one_bldg_meter = load_meter_for_building(EXAMPLE)\n",
    "print(type(one_bldg_meter))\n",
    "one_bldg_meter.tail()"
   ]
  },
  {
   "cell_type": "code",
   "execution_count": 7,
   "metadata": {
    "colab": {
     "base_uri": "https://localhost:8080/"
    },
    "id": "VynRgLt9w9pk",
    "outputId": "b1c0344e-c7c8-4927-a94b-db6222474e60"
   },
   "outputs": [
    {
     "name": "stdout",
     "output_type": "stream",
     "text": [
      "X shape: (17304, 7, 2)\n",
      "y shape: (17304, 3)\n"
     ]
    }
   ],
   "source": [
    "# This is the first version that uses STEPS_SKIP.\n",
    "# To retrofit this to older notebooks, set STEPS_SKIP=0.\n",
    "def prepare_for_learning(wdf,mdf):\n",
    "    df = pd.concat([wdf,mdf],axis=1)\n",
    "    num_samples = len(df) - STEPS_FORWARD*STEPS_SKIP - STEPS_FUTURE*STEPS_SKIP\n",
    "    X_shape = (num_samples,STEPS_FORWARD,NUM_PREDICTORS)\n",
    "    Y_shape = (num_samples,STEPS_FUTURE)\n",
    "    X=np.zeros(X_shape)\n",
    "    y=np.zeros(Y_shape)\n",
    "    predictor_series = df[PREDICTORS].values  # selected features\n",
    "    predicted_series = df[PREDICTED_VARIABLE].values  # meter\n",
    "    # TO DO: can we take predicted from mdf instead?\n",
    "    for sam in range (0,num_samples): \n",
    "        prev_val = 0\n",
    "        for time in range (0,STEPS_FORWARD): \n",
    "            one_period = predictor_series[sam+time*STEPS_SKIP]\n",
    "            for feat in range (0,NUM_PREDICTORS):\n",
    "                val = one_period[feat]\n",
    "                if np.isnan(val):\n",
    "                    val = prev_val\n",
    "                else:\n",
    "                    prev_val = val\n",
    "                X[sam,time,feat] = val\n",
    "        for time1 in range (STEPS_FORWARD,STEPS_FORWARD+STEPS_FUTURE): \n",
    "            time0 = time1 - STEPS_FORWARD\n",
    "            y[sam,time0]=predicted_series[sam+time1*STEPS_SKIP]\n",
    "    return X,y \n",
    "X,y = prepare_for_learning(one_site_weather,one_bldg_meter)\n",
    "print(\"X shape:\",X.shape)\n",
    "print(\"y shape:\",y.shape)\n"
   ]
  },
  {
   "cell_type": "code",
   "execution_count": 8,
   "metadata": {
    "colab": {
     "base_uri": "https://localhost:8080/"
    },
    "id": "mObWmpMDVuNQ",
    "outputId": "661be54f-8495-4f4e-9033-4b8cd34c332f"
   },
   "outputs": [
    {
     "name": "stdout",
     "output_type": "stream",
     "text": [
      "X columns: ['doy', 'meter']\n",
      "X example:\n",
      " [[  5 232]\n",
      " [  6  43]\n",
      " [  7 166]\n",
      " [  8 173]\n",
      " [  9 133]\n",
      " [ 10 125]\n",
      " [ 11 154]]\n",
      "y example:\n",
      " [225 139 182]\n"
     ]
    }
   ],
   "source": [
    "print(\"X columns:\",PREDICTORS)\n",
    "print(\"X example:\\n\",X[100].astype(int))\n",
    "print(\"y example:\\n\",y[100].astype(int))"
   ]
  },
  {
   "cell_type": "code",
   "execution_count": 9,
   "metadata": {
    "id": "z_8rzumTw9p2"
   },
   "outputs": [],
   "source": [
    "def make_RNN():\n",
    "    # The GRU in Keras is optimized for speed on CoLab GPU.\n",
    "    rnn = Sequential([\n",
    "        GRU(16,return_sequences=True, \n",
    "                  input_shape=(STEPS_FORWARD,NUM_PREDICTORS)), \n",
    "        GRU(16,return_sequences=True),\n",
    "        GRU(16,return_sequences=False),\n",
    "        Dense(STEPS_FUTURE)\n",
    "    ])\n",
    "    rnn.compile(optimizer='adam',loss=MeanSquaredError())\n",
    "    return rnn"
   ]
  },
  {
   "cell_type": "code",
   "execution_count": 10,
   "metadata": {
    "colab": {
     "base_uri": "https://localhost:8080/"
    },
    "id": "XypnRqq9w9p4",
    "outputId": "584f91e4-3f1d-45ca-b432-3632efae46c8",
    "scrolled": false
   },
   "outputs": [
    {
     "name": "stdout",
     "output_type": "stream",
     "text": [
      "Building Eagle_lodging_Edgardo\n",
      " Count bad values before pseudofill: 2\n",
      " Count bad values after pseudofill: 0\n",
      "Model: \"sequential\"\n",
      "_________________________________________________________________\n",
      "Layer (type)                 Output Shape              Param #   \n",
      "=================================================================\n",
      "gru (GRU)                    (None, 7, 16)             960       \n",
      "_________________________________________________________________\n",
      "gru_1 (GRU)                  (None, 7, 16)             1632      \n",
      "_________________________________________________________________\n",
      "gru_2 (GRU)                  (None, 16)                1632      \n",
      "_________________________________________________________________\n",
      "dense (Dense)                (None, 3)                 51        \n",
      "=================================================================\n",
      "Total params: 4,275\n",
      "Trainable params: 4,275\n",
      "Non-trainable params: 0\n",
      "_________________________________________________________________\n",
      "None\n",
      "Example y train:\n",
      " [152 213  95]\n",
      "Epoch 1/5\n",
      "271/271 [==============================] - 9s 12ms/step - loss: 9410.9799\n",
      "Epoch 2/5\n",
      "271/271 [==============================] - 5s 18ms/step - loss: 8430.8121\n",
      "Epoch 3/5\n",
      "271/271 [==============================] - 5s 19ms/step - loss: 8026.8416\n",
      "Epoch 4/5\n",
      "271/271 [==============================] - 6s 22ms/step - loss: 7252.4119\n",
      "Epoch 5/5\n",
      "271/271 [==============================] - 4s 14ms/step - loss: 6732.4209\n",
      "mean,rmse,rmse/mean,bldg: 81.963665653859 78.25513507204077 0.9547539686977919 Eagle_lodging_Edgardo\n",
      "Example prediction:\n",
      " 0 [24 26 24]\n",
      "Example prediction:\n",
      " 2 [24 26 24]\n",
      "Example prediction:\n",
      " 4 [24 26 24]\n",
      "Example prediction:\n",
      " 6 [24 26 24]\n",
      "Example prediction:\n",
      " 8 [24 26 24]\n",
      "Example prediction:\n",
      " 10 [24 26 24]\n",
      "Example prediction:\n",
      " 12 [24 26 24]\n",
      "Example prediction:\n",
      " 14 [24 26 24]\n",
      "Example prediction:\n",
      " 16 [24 26 24]\n",
      "Example prediction:\n",
      " 18 [24 26 24]\n",
      "Example prediction:\n",
      " 20 [24 26 24]\n",
      "Example prediction:\n",
      " 22 [24 26 24]\n",
      "\n",
      "History 7 Future 3\n",
      "Column 1: Mean usage.\n",
      "Column 2: RMSE of LinearRegression(X=Weather, y=Usage).\n",
      "Column 3: RMSE/mean normalized to help understand RMSE.\n",
      "Column 4: Building.\n",
      "     81.96      78.26  0.95   Eagle_lodging_Edgardo\n"
     ]
    }
   ],
   "source": [
    "cors = []\n",
    "one_site_weather = load_weather_for_site(SITE)\n",
    "for BLDG in [EXAMPLE]: # SITE_BUILDINGS:\n",
    "    print(\"Building\",BLDG)\n",
    "    one_bldg_meter = load_meter_for_building(BLDG,SMOOTHING_WINDOW)\n",
    "    count_bad = one_bldg_meter[PREDICTED_VARIABLE].isna().sum()\n",
    "    MAX_BAD = 500\n",
    "    if count_bad<=MAX_BAD:\n",
    "        # Must get rid of Nan labels, else loss hits NaN during training.\n",
    "        print(\" Count bad values before pseudofill:\",count_bad)\n",
    "        pseudovalue = one_bldg_meter[PREDICTED_VARIABLE].mean()\n",
    "        one_bldg_meter = one_bldg_meter.fillna(pseudovalue)\n",
    "        count_bad = one_bldg_meter[PREDICTED_VARIABLE].isna().sum()\n",
    "        print(\" Count bad values after pseudofill:\",count_bad)\n",
    "        # \n",
    "        X,y = prepare_for_learning(one_site_weather,one_bldg_meter)\n",
    "        split = len(X)//2   # year 1 vs year 2\n",
    "        X_train = np.asarray(X[0:split])\n",
    "        y_train = np.asarray(y[0:split])\n",
    "        X_test = np.asarray(X[split:])\n",
    "        y_test = np.asarray(y[split:])\n",
    "        model = make_RNN()\n",
    "        print(model.summary())\n",
    "        #print(\"Example X train:\\n\",X_train[example].astype(int))\n",
    "        example=411\n",
    "        print(\"Example y train:\\n\",y_train[example].astype(int))\n",
    "        model.fit(X_train,y_train,epochs=EPOCHS)\n",
    "        # Keep a table for reporting later.\n",
    "        y_pred = model.predict(X_test)\n",
    "        rmse = mean_squared_error(y_test,y_pred,squared=False)\n",
    "        mean = one_bldg_meter[PREDICTED_VARIABLE].mean()\n",
    "        cors.append([mean,rmse,rmse/mean,BLDG])\n",
    "        print(\"mean,rmse,rmse/mean,bldg:\",mean,rmse,rmse/mean,BLDG)\n",
    "        for hr in range(0,24,2):\n",
    "            print(\"Example prediction:\\n\",hr,y_pred[example+hr].astype(int))\n",
    "print()\n",
    "print(\"History\",STEPS_FORWARD,\"Future\",STEPS_FUTURE)\n",
    "print(\"Column 1: Mean usage.\")\n",
    "print(\"Column 2: RMSE of LinearRegression(X=Weather, y=Usage).\")\n",
    "print(\"Column 3: RMSE/mean normalized to help understand RMSE.\")\n",
    "print(\"Column 4: Building.\")\n",
    "for cor in sorted(cors):\n",
    "    print(\"%10.2f %10.2f %5.2f   %s\"%(cor[0],cor[1],cor[2],cor[3]))    "
   ]
  },
  {
   "cell_type": "code",
   "execution_count": null,
   "metadata": {
    "id": "Bm8eEJdHbz9v"
   },
   "outputs": [],
   "source": []
  },
  {
   "cell_type": "code",
   "execution_count": null,
   "metadata": {
    "id": "uY4snIvJbz9z"
   },
   "outputs": [],
   "source": []
  }
 ],
 "metadata": {
  "accelerator": "GPU",
  "colab": {
   "collapsed_sections": [],
   "name": "RNN_220.ipynb",
   "provenance": []
  },
  "kernelspec": {
   "display_name": "Python 3",
   "language": "python",
   "name": "python3"
  },
  "language_info": {
   "codemirror_mode": {
    "name": "ipython",
    "version": 3
   },
   "file_extension": ".py",
   "mimetype": "text/x-python",
   "name": "python",
   "nbconvert_exporter": "python",
   "pygments_lexer": "ipython3",
   "version": "3.8.3"
  }
 },
 "nbformat": 4,
 "nbformat_minor": 1
}
