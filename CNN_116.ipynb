{
 "cells": [
  {
   "cell_type": "markdown",
   "metadata": {
    "id": "dFNRPftWw9pK"
   },
   "source": [
    "# CNN  CoLab\n",
    "One building only. Check the MSE calculation. It checks out. Predictions don't get worse over time. That could be a result of stationarity."
   ]
  },
  {
   "cell_type": "code",
   "execution_count": 1,
   "metadata": {
    "colab": {
     "base_uri": "https://localhost:8080/"
    },
    "id": "mgeDotTmw9pX",
    "outputId": "1a107923-9ace-4328-eb7c-d3029a130a94"
   },
   "outputs": [],
   "source": [
    "DATAPATH=''\n",
    "try:\n",
    "    # On Google Drive, set path to my drive / data directory.\n",
    "    from google.colab import drive\n",
    "    IN_COLAB = True\n",
    "    PATH='/content/drive/'\n",
    "    drive.mount(PATH)\n",
    "    DATAPATH=PATH+'My Drive/data/'  # must end in \"/\"\n",
    "except:\n",
    "    # On home computer, set path to local data directory.\n",
    "    IN_COLAB = False\n",
    "    DATAPATH='data/'  # must end in \"/\"\n",
    "\n",
    "ZIP_FILE='BuildingData.zip'\n",
    "ZIP_PATH = DATAPATH+ZIP_FILE\n",
    "STEAM_FILE='steam.csv'\n",
    "WEATHER_FILE='weather.csv'\n",
    "MODEL_FILE='Model'  # will be used later to save models"
   ]
  },
  {
   "cell_type": "code",
   "execution_count": 2,
   "metadata": {
    "id": "5deM-us2w9pZ"
   },
   "outputs": [],
   "source": [
    "from os import listdir\n",
    "import csv\n",
    "from zipfile import ZipFile\n",
    "import numpy as np\n",
    "import pandas as pd\n",
    "from scipy import stats  # mode\n",
    "\n",
    "from sklearn.preprocessing import StandardScaler\n",
    "from sklearn.metrics import mean_squared_error\n",
    "\n",
    "from keras.models import Sequential\n",
    "from keras.layers import SimpleRNN\n",
    "from keras.layers import LSTM\n",
    "from keras.layers import TimeDistributed\n",
    "from keras.layers import Dense\n",
    "from keras.losses import MeanSquaredError\n",
    "from keras.layers import Conv2D\n",
    "from keras.layers import Flatten\n",
    "\n",
    "import matplotlib.pyplot as plt\n",
    "from matplotlib import colors\n",
    "mycmap = colors.ListedColormap(['red','blue'])  # list color for label 0 then 1\n",
    "np.set_printoptions(precision=2)"
   ]
  },
  {
   "cell_type": "code",
   "execution_count": 3,
   "metadata": {
    "id": "ONdk510Cw9pc"
   },
   "outputs": [],
   "source": [
    "def read_zip_to_panda(zip_filename,csv_filename):\n",
    "    zip_handle = ZipFile(zip_filename)\n",
    "    csv_handle = zip_handle.open(csv_filename)\n",
    "    panda = pd.read_csv(csv_handle)\n",
    "    return panda\n",
    "def fix_date_type(panda):\n",
    "    # Convert the given timestamp column to the pandas datetime data type.\n",
    "    panda['timestamp'] = pd.to_datetime(panda['timestamp'], infer_datetime_format = True)\n",
    "    indexed = panda.set_index(['timestamp'])\n",
    "    return indexed\n",
    "def get_site_timeseries(panda,site):\n",
    "    # Assume the panda dataframe has a datetime column.\n",
    "    # (If not, call fix_date_type() before this.)\n",
    "    # Extract the timeseries for one site.\n",
    "    # Convert the datetime column to a DatetimeIndex.\n",
    "    site_df = panda[panda['site_id']==site]\n",
    "    temp_col = site_df['date']\n",
    "    temp_val = temp_col.values\n",
    "    temp_ndx = pd.DatetimeIndex(temp_val)\n",
    "    dropped = site_df.drop('date',axis=1)\n",
    "    panda = dropped.set_index(temp_ndx)\n",
    "    return panda"
   ]
  },
  {
   "cell_type": "markdown",
   "metadata": {
    "id": "zvStzL9CjDv0"
   },
   "source": [
    "## CNN setup"
   ]
  },
  {
   "cell_type": "code",
   "execution_count": 4,
   "metadata": {
    "colab": {
     "base_uri": "https://localhost:8080/"
    },
    "id": "jZgkgsP6w9pg",
    "outputId": "00b0da87-1173-4056-8ccd-cbb76d8b25ab"
   },
   "outputs": [
    {
     "name": "stdout",
     "output_type": "stream",
     "text": [
      "PREDICTORS= 8 ['cloudCoverage', 'airTemperature', 'dewTemperature', 'precipDepth1HR', 'precipDepth6HR', 'seaLvlPressure', 'windDirection', 'windSpeed']\n"
     ]
    }
   ],
   "source": [
    "# Before analyzing the entire dataset, we look at this subset.\n",
    "SITE = 'Eagle'\n",
    "METER = 'steam'\n",
    "\n",
    "# Arrange \"picture\" of weather with temperatures toward the middle\n",
    "PREDICTED_VARIABLE = 'steam' \n",
    "PREDICTORS = ['cloudCoverage', 'airTemperature', 'dewTemperature', 'precipDepth1HR', 'precipDepth6HR', 'seaLvlPressure', 'windDirection', 'windSpeed']\n",
    "print(\"PREDICTORS=\",len(PREDICTORS),PREDICTORS)\n",
    "\n",
    "# Downsample True means collapse 365*24 measures to 365 daily averages\n",
    "# Downsample False means replace 365*24 measures with 365*24 window averages\n",
    "DOWNSAMPLE = False   \n",
    "\n",
    "STEPS_HISTORY = 24   # length of the predictor sequence\n",
    "STEPS_FUTURE =  12   # length of the predicted sequence\n",
    "\n",
    "## CNN parameters\n",
    "EPOCHS=10\n",
    "FILTERS = 8\n",
    "WIDTH = 3\n",
    "STRIDE = (1,1)\n",
    "INPUT_SHAPE = (STEPS_HISTORY,len(PREDICTORS),1) "
   ]
  },
  {
   "cell_type": "code",
   "execution_count": 5,
   "metadata": {
    "id": "6YVYM_bqw9pi"
   },
   "outputs": [],
   "source": [
    "wet_df = read_zip_to_panda(ZIP_PATH,WEATHER_FILE)\n",
    "wet_df = fix_date_type(wet_df)\n",
    "stm_df = read_zip_to_panda(ZIP_PATH,STEAM_FILE)\n",
    "stm_df = fix_date_type(stm_df)\n",
    "site_specific_weather = wet_df.loc[wet_df['site_id'] == SITE]\n",
    "all_buildings = [x for x in stm_df.columns if x.startswith(SITE)]"
   ]
  },
  {
   "cell_type": "code",
   "execution_count": 6,
   "metadata": {
    "id": "VynRgLt9w9pk"
   },
   "outputs": [],
   "source": [
    "def smooth(df):\n",
    "    # For smoothing the 24 hour cycle, we do not want exponential smoothing.\n",
    "    smoothed = None\n",
    "    if DOWNSAMPLE:\n",
    "        # This alternate method samples down to 1/24 time steps.\n",
    "        smoothed = df.resample(\"24H\").mean() \n",
    "    else:\n",
    "        # This method does not reduce the number of time steps.\n",
    "        # Note the first 23 measurements get set to Nan.\n",
    "        smoothed=df.rolling(window=24).mean()\n",
    "        smoothed=smoothed[24:]\n",
    "    return smoothed\n",
    "\n",
    "# Correlation is low when buildings have many NaN and 0 meter readings.\n",
    "# We will ignore buildings that have >max bad meter readings.\n",
    "def is_usable_column(df,column_name):\n",
    "    MAX_BAD = 500 \n",
    "    bad = df[column_name].isin([0]).sum()\n",
    "    return bad<=MAX_BAD\n",
    "\n",
    "def prepare_for_learning(df):\n",
    "    num_samples = len(df) - STEPS_FUTURE - STEPS_HISTORY\n",
    "    num_predictors = len(PREDICTORS)\n",
    "    X_shape = (num_samples,STEPS_HISTORY,num_predictors,1)\n",
    "    X=np.zeros(X_shape)\n",
    "    Y_shape = (num_samples,STEPS_FUTURE)\n",
    "    y=np.zeros(Y_shape)\n",
    "    predictor_series = df[PREDICTORS].values  # e.g. all weather values\n",
    "    predicted_series = df[PREDICTED_VARIABLE].values  # e.g. all meter readings\n",
    "    \n",
    "    for x0 in range (0,num_samples): # Loop over all 1000 samples\n",
    "        # Weather [0:24], steam [24:25]\n",
    "        one_sample = predictor_series[x0:x0+STEPS_HISTORY]\n",
    "        one_label =  predicted_series[x0+STEPS_HISTORY:x0+STEPS_FUTURE]\n",
    "        # Loop over all 24 time periods\n",
    "        for x1 in range (0,STEPS_HISTORY): # In 1 sample, loop over 24 time periods\n",
    "            one_period = one_sample[x1]\n",
    "            for x2 in range (0,num_predictors): # In 1 time period, loop over 8 weather metrics\n",
    "                one_predictor = one_period[x2]\n",
    "                # for x3 in range (0,X_shape[3]): # In 1 metric, loop over vector dimensions\n",
    "                # In our data, each weather metric is a scalar.\n",
    "                x3 = 0\n",
    "                X[x0,x1,x2,x3] = one_predictor\n",
    "        y[x0]=predicted_series[x0:x0+STEPS_FUTURE]\n",
    "    return X,y \n"
   ]
  },
  {
   "cell_type": "code",
   "execution_count": 7,
   "metadata": {
    "id": "VMFEH7uNjDwB"
   },
   "outputs": [],
   "source": [
    "def make_CNN():\n",
    "    print(\"make_CNN\")\n",
    "    print(\"input shape:\",INPUT_SHAPE)\n",
    "    cnn = Sequential()\n",
    "    cnn.add(\n",
    "        Conv2D( input_shape=INPUT_SHAPE,\n",
    "            filters=FILTERS,kernel_size=WIDTH,strides=STRIDE,\n",
    "            activation=None, padding=\"valid\"))\n",
    "    cnn.add(Flatten())\n",
    "    cnn.add(Dense(STEPS_FUTURE))   \n",
    "    cnn.compile(optimizer='adam',loss=MeanSquaredError())\n",
    "    return cnn"
   ]
  },
  {
   "cell_type": "markdown",
   "metadata": {
    "id": "m_GzFEhKjDwC"
   },
   "source": [
    "## Process all buildings"
   ]
  },
  {
   "cell_type": "code",
   "execution_count": 12,
   "metadata": {
    "colab": {
     "base_uri": "https://localhost:8080/"
    },
    "id": "XypnRqq9w9p4",
    "outputId": "638e0f23-b5d7-42fb-c9f0-a787bc65ecf8",
    "scrolled": false
   },
   "outputs": [
    {
     "name": "stdout",
     "output_type": "stream",
     "text": [
      "Building Eagle_office_Lamont\n",
      "Building Eagle_health_Athena\n",
      "Building Eagle_assembly_Herbert\n",
      "Building Eagle_public_Alvin\n",
      "Building Eagle_education_Raul\n",
      "Building Eagle_education_Roman\n",
      "Building Eagle_office_Mandi\n",
      "Building Eagle_education_Jewell\n",
      "Building Eagle_office_Henriette\n",
      "Building Eagle_health_Reba\n",
      "Building Eagle_lodging_Edgardo\n",
      "make_CNN\n",
      "input shape: (24, 8, 1)\n",
      "X_train.shape: (8754, 24, 8, 1)\n",
      "y_pred.shape: (8754, 12)\n",
      "my rmse\n",
      " [681.68 459.51 235.1  123.82 200.26 242.39 200.92  97.8  214.88 226.97\n",
      "  93.56 105.66]\n",
      "rmse\n",
      " 290.52244205188083\n",
      "mse\n",
      " 84403.28933578845\n",
      "my mse\n",
      " [ 73973.05  73537.43  79382.49 ... 147750.02 154890.7  126824.35]\n",
      "avg\n",
      " 84403.28933578848\n",
      "my rmse\n",
      " [271.98 271.18 281.75 ... 384.38 393.56 356.12]\n",
      "avg\n",
      " 288.85824816938117\n",
      "cor,mean,rmse,rmse/mean,bldg: -0.420958250828966 81.96779195736434 [271.98 271.18 281.75 ... 384.38 393.56 356.12] [3.32 3.31 3.44 ... 4.69 4.8  4.34] Eagle_lodging_Edgardo\n",
      "Building Eagle_education_Cassie\n",
      "Building Eagle_education_Peter\n",
      "Building Eagle_health_Gregoria\n",
      "Building Eagle_lodging_Dawn\n",
      "Building Eagle_office_Nereida\n",
      "Building Eagle_lodging_Tressa\n",
      "Building Eagle_education_Eileen\n",
      "Building Eagle_education_Wesley\n",
      "Building Eagle_health_Vincenza\n",
      "Building Eagle_office_Dallas\n",
      "Building Eagle_education_Shante\n",
      "Building Eagle_office_Chauncey\n",
      "Building Eagle_office_Phyllis\n",
      "Building Eagle_office_Freida\n",
      "Building Eagle_office_Francis\n",
      "Building Eagle_office_Sheree\n",
      "Building Eagle_education_Sherrill\n",
      "Building Eagle_education_Brooke\n",
      "Building Eagle_education_Alberto\n",
      "Building Eagle_food_Kay\n",
      "Building Eagle_health_Jodi\n",
      "Building Eagle_education_Norah\n",
      "Building Eagle_education_Will\n",
      "Building Eagle_lodging_Blake\n",
      "Building Eagle_education_Petra\n",
      "Building Eagle_lodging_Trina\n",
      "Building Eagle_health_Reuben\n",
      "Building Eagle_education_Teresa\n",
      "Building Eagle_office_Norbert\n",
      "Building Eagle_lodging_Casey\n",
      "Building Eagle_office_Tia\n",
      "Building Eagle_office_Remedios\n",
      "Building Eagle_office_Patrice\n",
      "Building Eagle_education_Shana\n",
      "\n",
      "History 24 Future 12\n",
      "Column 1: Correlation of steam and dewTemperature\n",
      "          Using one weather feature as leading correlate.\n",
      "Column 2: Mean usage.\n",
      "          Using mean to help understand the RMSE.\n",
      "Column 3: RMSE of LinearRegression(X=Weather, y=Usage).\n",
      "Column 4: RMSE/mean normalized to help understand RMSE.\n",
      "Column 5: Building.\n"
     ]
    },
    {
     "ename": "TypeError",
     "evalue": "only size-1 arrays can be converted to Python scalars",
     "output_type": "error",
     "traceback": [
      "\u001b[0;31m---------------------------------------------------------------------------\u001b[0m",
      "\u001b[0;31mTypeError\u001b[0m                                 Traceback (most recent call last)",
      "\u001b[0;32m<ipython-input-12-0e513e08130d>\u001b[0m in \u001b[0;36m<module>\u001b[0;34m\u001b[0m\n\u001b[1;32m     85\u001b[0m \u001b[0mprint\u001b[0m\u001b[0;34m(\u001b[0m\u001b[0;34m\"Column 5: Building.\"\u001b[0m\u001b[0;34m)\u001b[0m\u001b[0;34m\u001b[0m\u001b[0;34m\u001b[0m\u001b[0m\n\u001b[1;32m     86\u001b[0m \u001b[0;32mfor\u001b[0m \u001b[0mcor\u001b[0m \u001b[0;32min\u001b[0m \u001b[0msorted\u001b[0m\u001b[0;34m(\u001b[0m\u001b[0mcors\u001b[0m\u001b[0;34m)\u001b[0m\u001b[0;34m:\u001b[0m\u001b[0;34m\u001b[0m\u001b[0;34m\u001b[0m\u001b[0m\n\u001b[0;32m---> 87\u001b[0;31m     \u001b[0mprint\u001b[0m\u001b[0;34m(\u001b[0m\u001b[0;34m\"%7.4f %10.2f %10.2f %5.2f   %s\"\u001b[0m\u001b[0;34m%\u001b[0m\u001b[0;34m(\u001b[0m\u001b[0mcor\u001b[0m\u001b[0;34m[\u001b[0m\u001b[0;36m0\u001b[0m\u001b[0;34m]\u001b[0m\u001b[0;34m,\u001b[0m\u001b[0mcor\u001b[0m\u001b[0;34m[\u001b[0m\u001b[0;36m1\u001b[0m\u001b[0;34m]\u001b[0m\u001b[0;34m,\u001b[0m\u001b[0mcor\u001b[0m\u001b[0;34m[\u001b[0m\u001b[0;36m2\u001b[0m\u001b[0;34m]\u001b[0m\u001b[0;34m,\u001b[0m\u001b[0mcor\u001b[0m\u001b[0;34m[\u001b[0m\u001b[0;36m3\u001b[0m\u001b[0;34m]\u001b[0m\u001b[0;34m,\u001b[0m\u001b[0mcor\u001b[0m\u001b[0;34m[\u001b[0m\u001b[0;36m4\u001b[0m\u001b[0;34m]\u001b[0m\u001b[0;34m)\u001b[0m\u001b[0;34m)\u001b[0m\u001b[0;34m\u001b[0m\u001b[0;34m\u001b[0m\u001b[0m\n\u001b[0m",
      "\u001b[0;31mTypeError\u001b[0m: only size-1 arrays can be converted to Python scalars"
     ]
    }
   ],
   "source": [
    "cors = []\n",
    "ONE_PREDICTOR = 'dewTemperature'  ## illustrate difficulty by showing best correlate\n",
    "for BLDG in all_buildings:\n",
    "    print(\"Building\",BLDG)\n",
    "    # Get steam usage for one building.\n",
    "    bldg_specific_steam = stm_df[[BLDG]]\n",
    "    # Concatenate steam usage with weather.\n",
    "    one_bldg_df = pd.concat([bldg_specific_steam,site_specific_weather],axis=1)\n",
    "    # Drop the site, which is constant (we selected for one site).\n",
    "    one_bldg_df = one_bldg_df.drop(['site_id'],axis=1)\n",
    "    # The original steam table used column name = building name.\n",
    "    # We are processing one building, so rename to the column 'steam'.\n",
    "    one_bldg_df = one_bldg_df.rename(columns={BLDG : METER})\n",
    "    # In order to filter bad buildings, count sum of NaN + zero.\n",
    "    one_bldg_df = one_bldg_df.fillna(0)\n",
    "    \n",
    "    # JUST FOR QUICK TESTING\n",
    "    #if is_usable_column(one_bldg_df,METER):\n",
    "    if BLDG == \"Eagle_lodging_Edgardo\":\n",
    "        #one_bldg_df = smooth(one_bldg_df) \n",
    "        X,y = prepare_for_learning(one_bldg_df)\n",
    "        # Ideally, split Year1 = train, Year2 = test.\n",
    "        # Some data is incomplete, so split 1st half and 2nd half.\n",
    "        split = len(X)//2 \n",
    "        X_train = np.asarray(X[0:split])\n",
    "        y_train = np.asarray(y[0:split])\n",
    "        X_test = np.asarray(X[split:])\n",
    "        y_test = np.asarray(y[split:])\n",
    "\n",
    "        model = make_CNN()\n",
    "        ####print(model.summary())\n",
    "        print(\"X_train.shape:\",X_train.shape)\n",
    "        ####model.fit(X_train,y_train,epochs=EPOCHS)\n",
    "        y_pred = model.predict(X_test)\n",
    "        print(\"y_pred.shape:\",y_pred.shape)\n",
    "        #print(\"y_test\\n\",y_test)\n",
    "        #print(\"y_pred\\n\",y_pred)\n",
    "        ss = np.zeros(STEPS_FUTURE)\n",
    "        for sample in range (0,len(y_test)):\n",
    "            for day in range(0,STEPS_FUTURE):\n",
    "                err = y_test[sample][day] - y_pred[sample][day]\n",
    "                sqerr = err ** 2\n",
    "                ss[day] += sqerr\n",
    "        mse = ss/len(y_test)\n",
    "        rmse = np.sqrt(mse)\n",
    "        print(\"my rmse\\n\",rmse)\n",
    "        \n",
    "        rmse = mean_squared_error(y_test,y_pred,squared=False)\n",
    "        print(\"rmse\\n\",rmse)\n",
    "        mse = mean_squared_error(y_test,y_pred,squared=True)\n",
    "        print(\"mse\\n\",mse)\n",
    "\n",
    "        \n",
    "        mses = ((y_test-y_pred)**2).mean(axis=1)\n",
    "        print(\"my mse\\n\",mses)\n",
    "        avg = np.mean(mses)\n",
    "        print(\"avg\\n\",avg)\n",
    "\n",
    "        if False:\n",
    "            ss = 0\n",
    "            for i in range(0,len(y_test)):\n",
    "                e = y_test[i] - y_pred[i]\n",
    "                s = e.dot(e)\n",
    "                ss += s\n",
    "            mse = ss / len(y_test)\n",
    "        rmse = np.sqrt(mses)\n",
    "        print(\"my rmse\\n\",rmse)\n",
    "        avg = np.mean(rmse)\n",
    "        print(\"avg\\n\",avg)\n",
    "        \n",
    "        # Keep a table for reporting later.\n",
    "        mean = one_bldg_df[METER].mean()\n",
    "        cor = one_bldg_df.corr().loc[PREDICTED_VARIABLE][ONE_PREDICTOR] \n",
    "        cors.append([cor,mean,rmse,rmse/mean,BLDG])\n",
    "        print(\"cor,mean,rmse,rmse/mean,bldg:\",cor,mean,rmse,rmse/mean,BLDG)\n",
    "        \n",
    "print()\n",
    "print(\"History\",STEPS_HISTORY,\"Future\",STEPS_FUTURE)\n",
    "print(\"Column 1: Correlation of\",PREDICTED_VARIABLE,\"and\",ONE_PREDICTOR)\n",
    "print(\"          Using one weather feature as leading correlate.\")\n",
    "print(\"Column 2: Mean usage.\")\n",
    "print(\"          Using mean to help understand the RMSE.\")\n",
    "print(\"Column 3: RMSE of LinearRegression(X=Weather, y=Usage).\")\n",
    "print(\"Column 4: RMSE/mean normalized to help understand RMSE.\")\n",
    "print(\"Column 5: Building.\")\n",
    "for cor in sorted(cors):\n",
    "    print(\"%7.4f %10.2f %10.2f %5.2f   %s\"%(cor[0],cor[1],cor[2],cor[3],cor[4]))    "
   ]
  },
  {
   "cell_type": "markdown",
   "metadata": {
    "id": "FK5SokSXjDwK"
   },
   "source": [
    "### Report 2\n",
    "\n",
    "-0.4210      81.97      70.91  0.87   Eagle_lodging_Edgardo\n",
    "\n",
    "Summary results.\n",
    "\n",
    "* 1.03 mean RMSE\n",
    "* 1.98 stddev\n",
    "\n",
    "Here are the results omitting outlier building Wesley.\n",
    "\n",
    "* 0.54 mean RMSE\n",
    "* 0.18 stddev\n"
   ]
  },
  {
   "cell_type": "code",
   "execution_count": null,
   "metadata": {
    "id": "caWh3gRxjDwL"
   },
   "outputs": [],
   "source": []
  }
 ],
 "metadata": {
  "colab": {
   "collapsed_sections": [],
   "name": "CNN_114.ipynb",
   "provenance": []
  },
  "kernelspec": {
   "display_name": "Python 3",
   "language": "python",
   "name": "python3"
  },
  "language_info": {
   "codemirror_mode": {
    "name": "ipython",
    "version": 3
   },
   "file_extension": ".py",
   "mimetype": "text/x-python",
   "name": "python",
   "nbconvert_exporter": "python",
   "pygments_lexer": "ipython3",
   "version": "3.8.3"
  }
 },
 "nbformat": 4,
 "nbformat_minor": 1
}
