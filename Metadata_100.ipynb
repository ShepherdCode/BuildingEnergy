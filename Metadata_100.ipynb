{
 "cells": [
  {
   "cell_type": "markdown",
   "metadata": {},
   "source": [
    "# Meta Data\n",
    "Assume user downloaded archive.zip from Kaggle,\n",
    "renamed the file BuildingData.zip,\n",
    "and stored the file in the data subdirectory.\n",
    "Assume the zip file contains the metadata.csv file.  "
   ]
  },
  {
   "cell_type": "code",
   "execution_count": 1,
   "metadata": {},
   "outputs": [],
   "source": [
    "DATAPATH=''\n",
    "try:\n",
    "    # On Google Drive, set path to my drive / data directory.\n",
    "    from google.colab import drive\n",
    "    IN_COLAB = True\n",
    "    PATH='/content/drive/'\n",
    "    drive.mount(PATH)\n",
    "    DATAPATH=PATH+'My Drive/data/'  # must end in \"/\"\n",
    "except:\n",
    "    # On home computer, set path to local data directory.\n",
    "    IN_COLAB = False\n",
    "    DATAPATH='data/'  # must end in \"/\"\n",
    "\n",
    "ZIP_FILE='BuildingData.zip'\n",
    "ZIP_PATH = DATAPATH+ZIP_FILE\n",
    "META_FILE='metadata.csv'\n",
    "MODEL_FILE='Model'  # will be used later to save models"
   ]
  },
  {
   "cell_type": "code",
   "execution_count": 2,
   "metadata": {},
   "outputs": [],
   "source": [
    "from os import listdir\n",
    "import csv\n",
    "from zipfile import ZipFile\n",
    "import numpy as np\n",
    "import pandas as pd\n",
    "from sklearn.decomposition import PCA, KernelPCA\n",
    "from sklearn.preprocessing import StandardScaler\n",
    "import matplotlib.pyplot as plt\n",
    "from matplotlib import colors\n",
    "mycmap = colors.ListedColormap(['red','blue'])  # list color for label 0 then 1\n",
    "np.set_printoptions(precision=2)"
   ]
  },
  {
   "cell_type": "code",
   "execution_count": 3,
   "metadata": {},
   "outputs": [],
   "source": [
    "def read_csv_to_numpy(filename): # array of string, header=row[0]\n",
    "    with open(ELEC_PATH,'r') as handle:\n",
    "        data_iter = csv.reader(handle,delimiter = ',',quotechar = '\"')\n",
    "        data = [data for data in data_iter]\n",
    "        return np.asarray(data, dtype = None)\n",
    "# Pandas incorporates column headers, row numbers, timestamps, and NaN for missing values.\n",
    "def read_csv_to_panda(filename): # pandas data frame\n",
    "    return pd.read_csv(filename)\n",
    "def read_zip_to_panda(zip_filename,csv_filename):\n",
    "    zip_handle = ZipFile(zip_filename)\n",
    "    csv_handle = zip_handle.open(csv_filename)\n",
    "    panda = pd.read_csv(csv_handle)\n",
    "    return panda"
   ]
  },
  {
   "cell_type": "code",
   "execution_count": 4,
   "metadata": {},
   "outputs": [
    {
     "data": {
      "text/html": [
       "<div>\n",
       "<style scoped>\n",
       "    .dataframe tbody tr th:only-of-type {\n",
       "        vertical-align: middle;\n",
       "    }\n",
       "\n",
       "    .dataframe tbody tr th {\n",
       "        vertical-align: top;\n",
       "    }\n",
       "\n",
       "    .dataframe thead th {\n",
       "        text-align: right;\n",
       "    }\n",
       "</style>\n",
       "<table border=\"1\" class=\"dataframe\">\n",
       "  <thead>\n",
       "    <tr style=\"text-align: right;\">\n",
       "      <th></th>\n",
       "      <th>building_id</th>\n",
       "      <th>site_id</th>\n",
       "      <th>building_id_kaggle</th>\n",
       "      <th>site_id_kaggle</th>\n",
       "      <th>primaryspaceusage</th>\n",
       "      <th>sub_primaryspaceusage</th>\n",
       "      <th>sqm</th>\n",
       "      <th>sqft</th>\n",
       "      <th>lat</th>\n",
       "      <th>lng</th>\n",
       "      <th>...</th>\n",
       "      <th>yearbuilt</th>\n",
       "      <th>date_opened</th>\n",
       "      <th>numberoffloors</th>\n",
       "      <th>occupants</th>\n",
       "      <th>energystarscore</th>\n",
       "      <th>eui</th>\n",
       "      <th>site_eui</th>\n",
       "      <th>source_eui</th>\n",
       "      <th>leed_level</th>\n",
       "      <th>rating</th>\n",
       "    </tr>\n",
       "  </thead>\n",
       "  <tbody>\n",
       "    <tr>\n",
       "      <th>0</th>\n",
       "      <td>Panther_lodging_Dean</td>\n",
       "      <td>Panther</td>\n",
       "      <td>NaN</td>\n",
       "      <td>0.0</td>\n",
       "      <td>Lodging/residential</td>\n",
       "      <td>Residence Hall</td>\n",
       "      <td>508.8</td>\n",
       "      <td>5477.0</td>\n",
       "      <td>28.517689</td>\n",
       "      <td>-81.379039</td>\n",
       "      <td>...</td>\n",
       "      <td>1989.0</td>\n",
       "      <td>NaN</td>\n",
       "      <td>NaN</td>\n",
       "      <td>NaN</td>\n",
       "      <td>NaN</td>\n",
       "      <td>271</td>\n",
       "      <td>NaN</td>\n",
       "      <td>NaN</td>\n",
       "      <td>None</td>\n",
       "      <td>NaN</td>\n",
       "    </tr>\n",
       "    <tr>\n",
       "      <th>1</th>\n",
       "      <td>Panther_lodging_Shelia</td>\n",
       "      <td>Panther</td>\n",
       "      <td>NaN</td>\n",
       "      <td>0.0</td>\n",
       "      <td>Lodging/residential</td>\n",
       "      <td>Residence Hall</td>\n",
       "      <td>929.0</td>\n",
       "      <td>10000.0</td>\n",
       "      <td>28.517689</td>\n",
       "      <td>-81.379039</td>\n",
       "      <td>...</td>\n",
       "      <td>1992.0</td>\n",
       "      <td>NaN</td>\n",
       "      <td>NaN</td>\n",
       "      <td>NaN</td>\n",
       "      <td>NaN</td>\n",
       "      <td>62</td>\n",
       "      <td>NaN</td>\n",
       "      <td>NaN</td>\n",
       "      <td>None</td>\n",
       "      <td>NaN</td>\n",
       "    </tr>\n",
       "    <tr>\n",
       "      <th>2</th>\n",
       "      <td>Panther_lodging_Ricky</td>\n",
       "      <td>Panther</td>\n",
       "      <td>NaN</td>\n",
       "      <td>0.0</td>\n",
       "      <td>Lodging/residential</td>\n",
       "      <td>Residence Hall</td>\n",
       "      <td>483.1</td>\n",
       "      <td>5200.0</td>\n",
       "      <td>28.517689</td>\n",
       "      <td>-81.379039</td>\n",
       "      <td>...</td>\n",
       "      <td>2016.0</td>\n",
       "      <td>NaN</td>\n",
       "      <td>NaN</td>\n",
       "      <td>NaN</td>\n",
       "      <td>NaN</td>\n",
       "      <td>534</td>\n",
       "      <td>NaN</td>\n",
       "      <td>NaN</td>\n",
       "      <td>None</td>\n",
       "      <td>NaN</td>\n",
       "    </tr>\n",
       "    <tr>\n",
       "      <th>3</th>\n",
       "      <td>Panther_education_Rosalie</td>\n",
       "      <td>Panther</td>\n",
       "      <td>0.0</td>\n",
       "      <td>0.0</td>\n",
       "      <td>Education</td>\n",
       "      <td>Research</td>\n",
       "      <td>690.5</td>\n",
       "      <td>7432.0</td>\n",
       "      <td>28.517689</td>\n",
       "      <td>-81.379039</td>\n",
       "      <td>...</td>\n",
       "      <td>2008.0</td>\n",
       "      <td>NaN</td>\n",
       "      <td>NaN</td>\n",
       "      <td>NaN</td>\n",
       "      <td>NaN</td>\n",
       "      <td>276</td>\n",
       "      <td>NaN</td>\n",
       "      <td>NaN</td>\n",
       "      <td>None</td>\n",
       "      <td>NaN</td>\n",
       "    </tr>\n",
       "    <tr>\n",
       "      <th>4</th>\n",
       "      <td>Panther_education_Misty</td>\n",
       "      <td>Panther</td>\n",
       "      <td>1.0</td>\n",
       "      <td>0.0</td>\n",
       "      <td>Education</td>\n",
       "      <td>Research</td>\n",
       "      <td>252.7</td>\n",
       "      <td>2720.0</td>\n",
       "      <td>28.517689</td>\n",
       "      <td>-81.379039</td>\n",
       "      <td>...</td>\n",
       "      <td>2004.0</td>\n",
       "      <td>NaN</td>\n",
       "      <td>NaN</td>\n",
       "      <td>NaN</td>\n",
       "      <td>NaN</td>\n",
       "      <td>375</td>\n",
       "      <td>NaN</td>\n",
       "      <td>NaN</td>\n",
       "      <td>None</td>\n",
       "      <td>NaN</td>\n",
       "    </tr>\n",
       "    <tr>\n",
       "      <th>...</th>\n",
       "      <td>...</td>\n",
       "      <td>...</td>\n",
       "      <td>...</td>\n",
       "      <td>...</td>\n",
       "      <td>...</td>\n",
       "      <td>...</td>\n",
       "      <td>...</td>\n",
       "      <td>...</td>\n",
       "      <td>...</td>\n",
       "      <td>...</td>\n",
       "      <td>...</td>\n",
       "      <td>...</td>\n",
       "      <td>...</td>\n",
       "      <td>...</td>\n",
       "      <td>...</td>\n",
       "      <td>...</td>\n",
       "      <td>...</td>\n",
       "      <td>...</td>\n",
       "      <td>...</td>\n",
       "      <td>...</td>\n",
       "      <td>...</td>\n",
       "    </tr>\n",
       "    <tr>\n",
       "      <th>1631</th>\n",
       "      <td>Mouse_health_Estela</td>\n",
       "      <td>Mouse</td>\n",
       "      <td>NaN</td>\n",
       "      <td>NaN</td>\n",
       "      <td>Healthcare</td>\n",
       "      <td>Hospital</td>\n",
       "      <td>17193.0</td>\n",
       "      <td>185064.0</td>\n",
       "      <td>51.521939</td>\n",
       "      <td>-0.120069</td>\n",
       "      <td>...</td>\n",
       "      <td>1936.0</td>\n",
       "      <td>NaN</td>\n",
       "      <td>10.0</td>\n",
       "      <td>NaN</td>\n",
       "      <td>NaN</td>\n",
       "      <td>NaN</td>\n",
       "      <td>NaN</td>\n",
       "      <td>NaN</td>\n",
       "      <td>NaN</td>\n",
       "      <td>F</td>\n",
       "    </tr>\n",
       "    <tr>\n",
       "      <th>1632</th>\n",
       "      <td>Mouse_health_Ileana</td>\n",
       "      <td>Mouse</td>\n",
       "      <td>NaN</td>\n",
       "      <td>NaN</td>\n",
       "      <td>Healthcare</td>\n",
       "      <td>Hospital</td>\n",
       "      <td>5399.0</td>\n",
       "      <td>58114.0</td>\n",
       "      <td>51.521939</td>\n",
       "      <td>-0.120069</td>\n",
       "      <td>...</td>\n",
       "      <td>1954.0</td>\n",
       "      <td>NaN</td>\n",
       "      <td>6.0</td>\n",
       "      <td>NaN</td>\n",
       "      <td>NaN</td>\n",
       "      <td>NaN</td>\n",
       "      <td>NaN</td>\n",
       "      <td>NaN</td>\n",
       "      <td>NaN</td>\n",
       "      <td>F</td>\n",
       "    </tr>\n",
       "    <tr>\n",
       "      <th>1633</th>\n",
       "      <td>Mouse_health_Buddy</td>\n",
       "      <td>Mouse</td>\n",
       "      <td>NaN</td>\n",
       "      <td>NaN</td>\n",
       "      <td>Healthcare</td>\n",
       "      <td>Hospital</td>\n",
       "      <td>1749.0</td>\n",
       "      <td>18826.0</td>\n",
       "      <td>51.521939</td>\n",
       "      <td>-0.120069</td>\n",
       "      <td>...</td>\n",
       "      <td>NaN</td>\n",
       "      <td>NaN</td>\n",
       "      <td>8.0</td>\n",
       "      <td>NaN</td>\n",
       "      <td>NaN</td>\n",
       "      <td>NaN</td>\n",
       "      <td>NaN</td>\n",
       "      <td>NaN</td>\n",
       "      <td>NaN</td>\n",
       "      <td>F</td>\n",
       "    </tr>\n",
       "    <tr>\n",
       "      <th>1634</th>\n",
       "      <td>Mouse_lodging_Vicente</td>\n",
       "      <td>Mouse</td>\n",
       "      <td>NaN</td>\n",
       "      <td>NaN</td>\n",
       "      <td>Lodging/residential</td>\n",
       "      <td>Hotel</td>\n",
       "      <td>3489.0</td>\n",
       "      <td>37555.0</td>\n",
       "      <td>51.521939</td>\n",
       "      <td>-0.120069</td>\n",
       "      <td>...</td>\n",
       "      <td>2006.0</td>\n",
       "      <td>NaN</td>\n",
       "      <td>7.0</td>\n",
       "      <td>NaN</td>\n",
       "      <td>NaN</td>\n",
       "      <td>NaN</td>\n",
       "      <td>NaN</td>\n",
       "      <td>NaN</td>\n",
       "      <td>NaN</td>\n",
       "      <td>F</td>\n",
       "    </tr>\n",
       "    <tr>\n",
       "      <th>1635</th>\n",
       "      <td>Mouse_science_Micheal</td>\n",
       "      <td>Mouse</td>\n",
       "      <td>NaN</td>\n",
       "      <td>NaN</td>\n",
       "      <td>Technology/science</td>\n",
       "      <td>Laboratory</td>\n",
       "      <td>5931.0</td>\n",
       "      <td>63841.0</td>\n",
       "      <td>51.521939</td>\n",
       "      <td>-0.120069</td>\n",
       "      <td>...</td>\n",
       "      <td>1996.0</td>\n",
       "      <td>NaN</td>\n",
       "      <td>7.0</td>\n",
       "      <td>NaN</td>\n",
       "      <td>NaN</td>\n",
       "      <td>NaN</td>\n",
       "      <td>NaN</td>\n",
       "      <td>NaN</td>\n",
       "      <td>NaN</td>\n",
       "      <td>F</td>\n",
       "    </tr>\n",
       "  </tbody>\n",
       "</table>\n",
       "<p>1636 rows × 32 columns</p>\n",
       "</div>"
      ],
      "text/plain": [
       "                    building_id  site_id  building_id_kaggle  site_id_kaggle  \\\n",
       "0          Panther_lodging_Dean  Panther                 NaN             0.0   \n",
       "1        Panther_lodging_Shelia  Panther                 NaN             0.0   \n",
       "2         Panther_lodging_Ricky  Panther                 NaN             0.0   \n",
       "3     Panther_education_Rosalie  Panther                 0.0             0.0   \n",
       "4       Panther_education_Misty  Panther                 1.0             0.0   \n",
       "...                         ...      ...                 ...             ...   \n",
       "1631        Mouse_health_Estela    Mouse                 NaN             NaN   \n",
       "1632        Mouse_health_Ileana    Mouse                 NaN             NaN   \n",
       "1633         Mouse_health_Buddy    Mouse                 NaN             NaN   \n",
       "1634      Mouse_lodging_Vicente    Mouse                 NaN             NaN   \n",
       "1635      Mouse_science_Micheal    Mouse                 NaN             NaN   \n",
       "\n",
       "        primaryspaceusage sub_primaryspaceusage      sqm      sqft        lat  \\\n",
       "0     Lodging/residential        Residence Hall    508.8    5477.0  28.517689   \n",
       "1     Lodging/residential        Residence Hall    929.0   10000.0  28.517689   \n",
       "2     Lodging/residential        Residence Hall    483.1    5200.0  28.517689   \n",
       "3               Education              Research    690.5    7432.0  28.517689   \n",
       "4               Education              Research    252.7    2720.0  28.517689   \n",
       "...                   ...                   ...      ...       ...        ...   \n",
       "1631           Healthcare              Hospital  17193.0  185064.0  51.521939   \n",
       "1632           Healthcare              Hospital   5399.0   58114.0  51.521939   \n",
       "1633           Healthcare              Hospital   1749.0   18826.0  51.521939   \n",
       "1634  Lodging/residential                 Hotel   3489.0   37555.0  51.521939   \n",
       "1635   Technology/science            Laboratory   5931.0   63841.0  51.521939   \n",
       "\n",
       "            lng  ... yearbuilt date_opened numberoffloors occupants  \\\n",
       "0    -81.379039  ...    1989.0         NaN            NaN       NaN   \n",
       "1    -81.379039  ...    1992.0         NaN            NaN       NaN   \n",
       "2    -81.379039  ...    2016.0         NaN            NaN       NaN   \n",
       "3    -81.379039  ...    2008.0         NaN            NaN       NaN   \n",
       "4    -81.379039  ...    2004.0         NaN            NaN       NaN   \n",
       "...         ...  ...       ...         ...            ...       ...   \n",
       "1631  -0.120069  ...    1936.0         NaN           10.0       NaN   \n",
       "1632  -0.120069  ...    1954.0         NaN            6.0       NaN   \n",
       "1633  -0.120069  ...       NaN         NaN            8.0       NaN   \n",
       "1634  -0.120069  ...    2006.0         NaN            7.0       NaN   \n",
       "1635  -0.120069  ...    1996.0         NaN            7.0       NaN   \n",
       "\n",
       "     energystarscore  eui site_eui source_eui leed_level rating  \n",
       "0                NaN  271      NaN        NaN       None    NaN  \n",
       "1                NaN   62      NaN        NaN       None    NaN  \n",
       "2                NaN  534      NaN        NaN       None    NaN  \n",
       "3                NaN  276      NaN        NaN       None    NaN  \n",
       "4                NaN  375      NaN        NaN       None    NaN  \n",
       "...              ...  ...      ...        ...        ...    ...  \n",
       "1631             NaN  NaN      NaN        NaN        NaN      F  \n",
       "1632             NaN  NaN      NaN        NaN        NaN      F  \n",
       "1633             NaN  NaN      NaN        NaN        NaN      F  \n",
       "1634             NaN  NaN      NaN        NaN        NaN      F  \n",
       "1635             NaN  NaN      NaN        NaN        NaN      F  \n",
       "\n",
       "[1636 rows x 32 columns]"
      ]
     },
     "execution_count": 4,
     "metadata": {},
     "output_type": "execute_result"
    }
   ],
   "source": [
    "meta_df = read_zip_to_panda(ZIP_PATH,META_FILE)\n",
    "meta_df"
   ]
  },
  {
   "cell_type": "code",
   "execution_count": 5,
   "metadata": {},
   "outputs": [
    {
     "name": "stdout",
     "output_type": "stream",
     "text": [
      "Columns:\n",
      " Index(['building_id', 'site_id', 'building_id_kaggle', 'site_id_kaggle',\n",
      "       'primaryspaceusage', 'sub_primaryspaceusage', 'sqm', 'sqft', 'lat',\n",
      "       'lng', 'timezone', 'electricity', 'hotwater', 'chilledwater', 'steam',\n",
      "       'water', 'irrigation', 'solar', 'gas', 'industry', 'subindustry',\n",
      "       'heatingtype', 'yearbuilt', 'date_opened', 'numberoffloors',\n",
      "       'occupants', 'energystarscore', 'eui', 'site_eui', 'source_eui',\n",
      "       'leed_level', 'rating'],\n",
      "      dtype='object')\n",
      "Shape: (1636, 32)\n"
     ]
    }
   ],
   "source": [
    "print(\"Columns:\\n\",meta_df.columns)\n",
    "print(\"Shape:\",meta_df.shape)\n",
    "NUM_ROWS=meta_df.shape[0]\n",
    "NUM_COLS=meta_df.shape[1]"
   ]
  },
  {
   "cell_type": "code",
   "execution_count": 6,
   "metadata": {},
   "outputs": [
    {
     "data": {
      "text/html": [
       "<div>\n",
       "<style scoped>\n",
       "    .dataframe tbody tr th:only-of-type {\n",
       "        vertical-align: middle;\n",
       "    }\n",
       "\n",
       "    .dataframe tbody tr th {\n",
       "        vertical-align: top;\n",
       "    }\n",
       "\n",
       "    .dataframe thead th {\n",
       "        text-align: right;\n",
       "    }\n",
       "</style>\n",
       "<table border=\"1\" class=\"dataframe\">\n",
       "  <thead>\n",
       "    <tr style=\"text-align: right;\">\n",
       "      <th></th>\n",
       "      <th>building_id_kaggle</th>\n",
       "      <th>site_id_kaggle</th>\n",
       "      <th>sqm</th>\n",
       "      <th>sqft</th>\n",
       "      <th>lat</th>\n",
       "      <th>lng</th>\n",
       "      <th>yearbuilt</th>\n",
       "      <th>numberoffloors</th>\n",
       "      <th>occupants</th>\n",
       "    </tr>\n",
       "  </thead>\n",
       "  <tbody>\n",
       "    <tr>\n",
       "      <th>count</th>\n",
       "      <td>1449.000000</td>\n",
       "      <td>1599.000000</td>\n",
       "      <td>1636.000000</td>\n",
       "      <td>1636.000000</td>\n",
       "      <td>1399.000000</td>\n",
       "      <td>1399.000000</td>\n",
       "      <td>817.000000</td>\n",
       "      <td>441.000000</td>\n",
       "      <td>230.000000</td>\n",
       "    </tr>\n",
       "    <tr>\n",
       "      <th>mean</th>\n",
       "      <td>724.000000</td>\n",
       "      <td>6.722326</td>\n",
       "      <td>8224.033068</td>\n",
       "      <td>88522.795232</td>\n",
       "      <td>39.996887</td>\n",
       "      <td>-73.779899</td>\n",
       "      <td>1968.236230</td>\n",
       "      <td>3.614512</td>\n",
       "      <td>263.217391</td>\n",
       "    </tr>\n",
       "    <tr>\n",
       "      <th>std</th>\n",
       "      <td>418.434583</td>\n",
       "      <td>4.943530</td>\n",
       "      <td>10050.121946</td>\n",
       "      <td>108178.666361</td>\n",
       "      <td>7.403876</td>\n",
       "      <td>36.795109</td>\n",
       "      <td>30.935801</td>\n",
       "      <td>3.250338</td>\n",
       "      <td>401.643279</td>\n",
       "    </tr>\n",
       "    <tr>\n",
       "      <th>min</th>\n",
       "      <td>0.000000</td>\n",
       "      <td>0.000000</td>\n",
       "      <td>26.300000</td>\n",
       "      <td>283.000000</td>\n",
       "      <td>28.517689</td>\n",
       "      <td>-122.260729</td>\n",
       "      <td>1900.000000</td>\n",
       "      <td>1.000000</td>\n",
       "      <td>0.000000</td>\n",
       "    </tr>\n",
       "    <tr>\n",
       "      <th>25%</th>\n",
       "      <td>362.000000</td>\n",
       "      <td>3.000000</td>\n",
       "      <td>1936.925000</td>\n",
       "      <td>20849.000000</td>\n",
       "      <td>33.424425</td>\n",
       "      <td>-97.743100</td>\n",
       "      <td>1949.000000</td>\n",
       "      <td>1.000000</td>\n",
       "      <td>15.000000</td>\n",
       "    </tr>\n",
       "    <tr>\n",
       "      <th>50%</th>\n",
       "      <td>724.000000</td>\n",
       "      <td>5.000000</td>\n",
       "      <td>5074.400000</td>\n",
       "      <td>54620.500000</td>\n",
       "      <td>38.903504</td>\n",
       "      <td>-77.005349</td>\n",
       "      <td>1971.000000</td>\n",
       "      <td>2.000000</td>\n",
       "      <td>100.000000</td>\n",
       "    </tr>\n",
       "    <tr>\n",
       "      <th>75%</th>\n",
       "      <td>1086.000000</td>\n",
       "      <td>12.000000</td>\n",
       "      <td>10360.675000</td>\n",
       "      <td>111521.000000</td>\n",
       "      <td>44.978782</td>\n",
       "      <td>-76.485292</td>\n",
       "      <td>1994.000000</td>\n",
       "      <td>5.000000</td>\n",
       "      <td>314.500000</td>\n",
       "    </tr>\n",
       "    <tr>\n",
       "      <th>max</th>\n",
       "      <td>1448.000000</td>\n",
       "      <td>15.000000</td>\n",
       "      <td>81290.100000</td>\n",
       "      <td>875000.000000</td>\n",
       "      <td>53.349800</td>\n",
       "      <td>6.260300</td>\n",
       "      <td>2017.000000</td>\n",
       "      <td>26.000000</td>\n",
       "      <td>2380.000000</td>\n",
       "    </tr>\n",
       "  </tbody>\n",
       "</table>\n",
       "</div>"
      ],
      "text/plain": [
       "       building_id_kaggle  site_id_kaggle           sqm           sqft  \\\n",
       "count         1449.000000     1599.000000   1636.000000    1636.000000   \n",
       "mean           724.000000        6.722326   8224.033068   88522.795232   \n",
       "std            418.434583        4.943530  10050.121946  108178.666361   \n",
       "min              0.000000        0.000000     26.300000     283.000000   \n",
       "25%            362.000000        3.000000   1936.925000   20849.000000   \n",
       "50%            724.000000        5.000000   5074.400000   54620.500000   \n",
       "75%           1086.000000       12.000000  10360.675000  111521.000000   \n",
       "max           1448.000000       15.000000  81290.100000  875000.000000   \n",
       "\n",
       "               lat          lng    yearbuilt  numberoffloors    occupants  \n",
       "count  1399.000000  1399.000000   817.000000      441.000000   230.000000  \n",
       "mean     39.996887   -73.779899  1968.236230        3.614512   263.217391  \n",
       "std       7.403876    36.795109    30.935801        3.250338   401.643279  \n",
       "min      28.517689  -122.260729  1900.000000        1.000000     0.000000  \n",
       "25%      33.424425   -97.743100  1949.000000        1.000000    15.000000  \n",
       "50%      38.903504   -77.005349  1971.000000        2.000000   100.000000  \n",
       "75%      44.978782   -76.485292  1994.000000        5.000000   314.500000  \n",
       "max      53.349800     6.260300  2017.000000       26.000000  2380.000000  "
      ]
     },
     "execution_count": 6,
     "metadata": {},
     "output_type": "execute_result"
    }
   ],
   "source": [
    "# Pandas statistics per column. Counts excludes NaN columns and values.\n",
    "meta_df.describe()"
   ]
  },
  {
   "cell_type": "code",
   "execution_count": 7,
   "metadata": {},
   "outputs": [
    {
     "name": "stdout",
     "output_type": "stream",
     "text": [
      "For each column, number of rows in which column is not null:\n",
      "building_id              1636\n",
      "site_id                  1636\n",
      "building_id_kaggle       1449\n",
      "site_id_kaggle           1599\n",
      "primaryspaceusage        1615\n",
      "sub_primaryspaceusage    1615\n",
      "sqm                      1636\n",
      "sqft                     1636\n",
      "lat                      1399\n",
      "lng                      1399\n",
      "timezone                 1636\n",
      "electricity              1578\n",
      "hotwater                  185\n",
      "chilledwater              555\n",
      "steam                     370\n",
      "water                     146\n",
      "irrigation                 37\n",
      "solar                       5\n",
      "gas                       177\n",
      "industry                  579\n",
      "subindustry               579\n",
      "heatingtype               215\n",
      "yearbuilt                 817\n",
      "date_opened                21\n",
      "numberoffloors            441\n",
      "occupants                 230\n",
      "energystarscore           163\n",
      "eui                       299\n",
      "site_eui                  163\n",
      "source_eui                163\n",
      "leed_level                136\n",
      "rating                    184\n",
      "dtype: int64\n"
     ]
    }
   ],
   "source": [
    "print(\"For each column, number of rows in which column is not null:\")\n",
    "print(meta_df.count(axis=0))"
   ]
  },
  {
   "cell_type": "markdown",
   "metadata": {},
   "source": [
    "## Meter Type\n",
    "Meter types include solar, electric, hot water.  \n",
    "If a building says electricity=yes, then we have electric meter data for that building.  \n",
    "Some buildings have none, some have several.  "
   ]
  },
  {
   "cell_type": "code",
   "execution_count": 8,
   "metadata": {},
   "outputs": [
    {
     "name": "stdout",
     "output_type": "stream",
     "text": [
      "Building count for each meter type (some buildings have seeral):\n"
     ]
    },
    {
     "data": {
      "text/plain": [
       "electricity     1578\n",
       "hotwater         185\n",
       "chilledwater     555\n",
       "steam            370\n",
       "irrigation        37\n",
       "solar              5\n",
       "gas              177\n",
       "dtype: int64"
      ]
     },
     "execution_count": 8,
     "metadata": {},
     "output_type": "execute_result"
    }
   ],
   "source": [
    "print(\"Building count for each meter type (some buildings have seeral):\")\n",
    "energy_types=['electricity','hotwater','chilledwater','steam','irrigation','solar','gas']\n",
    "meta_df[energy_types].count()"
   ]
  },
  {
   "cell_type": "code",
   "execution_count": 9,
   "metadata": {},
   "outputs": [
    {
     "name": "stdout",
     "output_type": "stream",
     "text": [
      "All the solar buildings come from one data source (bobcat):\n",
      "Bobcat_education_Coleman Yes\n",
      "Bobcat_education_Alissa Yes\n",
      "Bobcat_office_Justine Yes\n",
      "Bobcat_other_Timothy Yes\n",
      "Bobcat_education_Dylan Yes\n"
     ]
    }
   ],
   "source": [
    "print(\"All the solar buildings come from one data source (bobcat):\")\n",
    "for i in range(0,NUM_ROWS):\n",
    "    row=meta_df.iloc[i]\n",
    "    bldg=row['building_id']\n",
    "    solar=row['solar']\n",
    "    if pd.notnull(solar):\n",
    "        print(bldg,solar)"
   ]
  },
  {
   "cell_type": "code",
   "execution_count": 10,
   "metadata": {},
   "outputs": [
    {
     "name": "stdout",
     "output_type": "stream",
     "text": [
      "Warning: meter type is not yes/no, it is yes/nan.\n",
      "Nan (not-a-number) must be handled specially e.g. the isna() method.\n",
      "electricity [nan 'Yes']\n",
      "hotwater [nan 'Yes']\n",
      "chilledwater [nan 'Yes']\n",
      "steam [nan 'Yes']\n",
      "irrigation ['Yes' nan]\n",
      "solar [nan 'Yes']\n",
      "gas ['Yes' nan]\n"
     ]
    }
   ],
   "source": [
    "print(\"Warning: meter type is not yes/no, it is yes/nan.\")\n",
    "print(\"Nan (not-a-number) must be handled specially e.g. the isna() method.\")\n",
    "for col in energy_types:\n",
    "    print(col,meta_df[col].unique())"
   ]
  },
  {
   "cell_type": "code",
   "execution_count": 11,
   "metadata": {},
   "outputs": [
    {
     "name": "stdout",
     "output_type": "stream",
     "text": [
      "Buildings can many energy meters. Example:\n",
      "Electricity and hot water meters: Robin_education_Della\n"
     ]
    }
   ],
   "source": [
    "print(\"Buildings can many energy meters. Example:\")\n",
    "for i in range(0,NUM_ROWS):\n",
    "    row=meta_df.iloc[i]\n",
    "    bldg=row['building_id']\n",
    "    cnt = 0\n",
    "    if row['electricity']=='Yes':\n",
    "        cnt += 1\n",
    "    if row['hotwater']=='Yes':\n",
    "        cnt += 1\n",
    "    if cnt>1:\n",
    "        print('Electricity and hot water meters:',bldg)\n",
    "        break\n",
    "        "
   ]
  },
  {
   "cell_type": "markdown",
   "metadata": {},
   "source": [
    "## Energy Ratings\n",
    "We had hoped to predict energy ratings from other features.  \n",
    "Unfortunately, the number of rated buildings is under 200."
   ]
  },
  {
   "cell_type": "code",
   "execution_count": 12,
   "metadata": {},
   "outputs": [
    {
     "name": "stdout",
     "output_type": "stream",
     "text": [
      "Energy rating columns contain these values\n",
      "energystarscore :\n",
      " [nan '96' '54' '48' '98' '-' '82' '77' '51' '27' '58' '79' '45' '83' '100'\n",
      " '73' '72' '67' '35' '1' '26' '15' '71' '44' '62' '84' '52' '9' '61' '36'\n",
      " '32' '85' '70' '92']\n",
      "leed_level :\n",
      " ['None' 'Gold' 'Silver' nan]\n",
      "rating :\n",
      " [nan 'G' 'F' 'E' 'B' 'D' 'C' 'A' 'C1' 'D1']\n"
     ]
    }
   ],
   "source": [
    "print(\"Energy rating columns contain these values\")\n",
    "energy_types=['energystarscore','leed_level','rating']\n",
    "for col in energy_types:\n",
    "    print(col,':\\n',meta_df[col].unique())"
   ]
  },
  {
   "cell_type": "code",
   "execution_count": 13,
   "metadata": {},
   "outputs": [
    {
     "data": {
      "text/plain": [
       "energystarscore    163\n",
       "leed_level         136\n",
       "rating             184\n",
       "dtype: int64"
      ]
     },
     "execution_count": 13,
     "metadata": {},
     "output_type": "execute_result"
    }
   ],
   "source": [
    "meta_df[energy_types].count()"
   ]
  },
  {
   "cell_type": "code",
   "execution_count": 14,
   "metadata": {},
   "outputs": [
    {
     "name": "stdout",
     "output_type": "stream",
     "text": [
      "Value counts:\n",
      "NaN    1452\n",
      "D        50\n",
      "C        46\n",
      "E        37\n",
      "F        24\n",
      "G        15\n",
      "B         6\n",
      "A         2\n",
      "D1        2\n",
      "C1        2\n",
      "Name: rating, dtype: int64\n"
     ]
    }
   ],
   "source": [
    "print(\"Value counts:\")\n",
    "print(meta_df.rating.value_counts(dropna=False))"
   ]
  },
  {
   "cell_type": "code",
   "execution_count": 15,
   "metadata": {},
   "outputs": [
    {
     "name": "stdout",
     "output_type": "stream",
     "text": [
      "Value counts:\n",
      "NaN       1500\n",
      "None       120\n",
      "Gold        13\n",
      "Silver       3\n",
      "Name: leed_level, dtype: int64\n"
     ]
    }
   ],
   "source": [
    "print(\"Value counts:\")\n",
    "print(meta_df.leed_level.value_counts(dropna=False))"
   ]
  },
  {
   "cell_type": "code",
   "execution_count": 16,
   "metadata": {},
   "outputs": [
    {
     "name": "stdout",
     "output_type": "stream",
     "text": [
      "Value counts:\n",
      "NaN    1473\n",
      "-       109\n",
      "1         5\n",
      "51        4\n",
      "77        3\n",
      "82        3\n",
      "100       3\n",
      "54        3\n",
      "48        2\n",
      "58        2\n",
      "72        2\n",
      "73        2\n",
      "67        2\n",
      "15        2\n",
      "71        2\n",
      "92        1\n",
      "26        1\n",
      "35        1\n",
      "98        1\n",
      "84        1\n",
      "70        1\n",
      "36        1\n",
      "32        1\n",
      "62        1\n",
      "85        1\n",
      "79        1\n",
      "9         1\n",
      "52        1\n",
      "83        1\n",
      "61        1\n",
      "44        1\n",
      "96        1\n",
      "45        1\n",
      "27        1\n",
      "Name: energystarscore, dtype: int64\n"
     ]
    }
   ],
   "source": [
    "print(\"Value counts:\")\n",
    "print(meta_df.energystarscore.value_counts(dropna=False))"
   ]
  },
  {
   "cell_type": "markdown",
   "metadata": {},
   "source": [
    "## EUI\n",
    "EUI is the miles-per-gallon for a building. Some entries are non-numeric.  \n",
    "We could calculate it from energy usage per square foot?  \n",
    "We have 300 buildings with given EUI.  \n",
    "Most values are nan. A few values are \"-\"."
   ]
  },
  {
   "cell_type": "code",
   "execution_count": 17,
   "metadata": {},
   "outputs": [
    {
     "name": "stdout",
     "output_type": "stream",
     "text": [
      "eui\n",
      " count nan: 1337  count -: 3\n",
      "site_eui\n",
      " count nan: 1473  count -: 3\n",
      "source_eui\n",
      " count nan: 1473  count -: 3\n"
     ]
    }
   ],
   "source": [
    "energy_types=['eui','site_eui','source_eui']\n",
    "for col in energy_types:\n",
    "    print(col)\n",
    "    print(\" count nan:\",meta_df[col].isna().sum(),\" count -:\",meta_df[meta_df[col]=='-'].shape[0])"
   ]
  },
  {
   "cell_type": "code",
   "execution_count": 18,
   "metadata": {},
   "outputs": [
    {
     "data": {
      "text/plain": [
       "eui           299\n",
       "site_eui      163\n",
       "source_eui    163\n",
       "dtype: int64"
      ]
     },
     "execution_count": 18,
     "metadata": {},
     "output_type": "execute_result"
    }
   ],
   "source": [
    "meta_df[['eui','site_eui','source_eui']].count()"
   ]
  },
  {
   "cell_type": "markdown",
   "metadata": {},
   "source": [
    "## Building age\n",
    "We could use age as a classification to be predicted.  \n",
    "Example: binary, pre-1950 vs post-1950.  \n",
    "Potential problem: old buildings might have been refurbished."
   ]
  },
  {
   "cell_type": "code",
   "execution_count": 19,
   "metadata": {},
   "outputs": [
    {
     "name": "stdout",
     "output_type": "stream",
     "text": [
      "Count buildings with known year built: 817\n"
     ]
    }
   ],
   "source": [
    "print(\"Count buildings with known year built:\", meta_df.yearbuilt.count())"
   ]
  },
  {
   "cell_type": "code",
   "execution_count": 20,
   "metadata": {},
   "outputs": [
    {
     "name": "stdout",
     "output_type": "stream",
     "text": [
      "Count buildings binned by year built:\n"
     ]
    },
    {
     "data": {
      "text/plain": [
       "(1958.5, 1970.2]      151\n",
       "(1970.2, 1981.9]      138\n",
       "(1993.6, 2005.3]      106\n",
       "(2005.3, 2017.0]      105\n",
       "(1911.7, 1923.4]       66\n",
       "(1981.9, 1993.6]       63\n",
       "(1946.8, 1958.5]       59\n",
       "(1923.4, 1935.1]       51\n",
       "(1899.882, 1911.7]     41\n",
       "(1935.1, 1946.8]       37\n",
       "Name: yearbuilt, dtype: int64"
      ]
     },
     "execution_count": 20,
     "metadata": {},
     "output_type": "execute_result"
    }
   ],
   "source": [
    "print(\"Count buildings binned by year built:\")\n",
    "meta_df.yearbuilt.value_counts(bins=10)"
   ]
  },
  {
   "cell_type": "code",
   "execution_count": 21,
   "metadata": {},
   "outputs": [
    {
     "data": {
      "text/plain": [
       "array([[<AxesSubplot:title={'center':'yearbuilt'}>]], dtype=object)"
      ]
     },
     "execution_count": 21,
     "metadata": {},
     "output_type": "execute_result"
    },
    {
     "data": {
      "image/png": "[encoded data removed]",
      "text/plain": [
       "<Figure size 432x288 with 1 Axes>"
      ]
     },
     "metadata": {
      "needs_background": "light"
     },
     "output_type": "display_data"
    }
   ],
   "source": [
    "meta_df.hist(['yearbuilt'])"
   ]
  },
  {
   "cell_type": "markdown",
   "metadata": {},
   "source": [
    "## Other fields"
   ]
  },
  {
   "cell_type": "code",
   "execution_count": 31,
   "metadata": {},
   "outputs": [
    {
     "name": "stdout",
     "output_type": "stream",
     "text": [
      "Heating Type (most are gas)\n",
      "[nan 'Steam' 'Heat network' 'Oil' 'Gas' 'Heat network and steam'\n",
      " 'Electric' 'Heat network but not ours' 'Electricity' 'Biomass'\n",
      " 'District Heating' 'Boiler fed central heating' 'Gas Boilers']\n"
     ]
    },
    {
     "data": {
      "text/plain": [
       "NaN                           1421\n",
       "Gas                            172\n",
       "Heat network                    24\n",
       "District Heating                 5\n",
       "Electricity                      3\n",
       "Electric                         2\n",
       "Steam                            2\n",
       "Oil                              2\n",
       "Heat network but not ours        1\n",
       "Heat network and steam           1\n",
       "Boiler fed central heating       1\n",
       "Biomass                          1\n",
       "Gas Boilers                      1\n",
       "Name: heatingtype, dtype: int64"
      ]
     },
     "execution_count": 31,
     "metadata": {},
     "output_type": "execute_result"
    }
   ],
   "source": [
    "print(\"Heating Type (most are gas)\")\n",
    "print(meta_df.heatingtype.unique())\n",
    "meta_df.heatingtype.value_counts(dropna=False)"
   ]
  },
  {
   "cell_type": "code",
   "execution_count": 32,
   "metadata": {},
   "outputs": [
    {
     "name": "stdout",
     "output_type": "stream",
     "text": [
      "Number of Floors (most are one or two)\n"
     ]
    },
    {
     "data": {
      "text/plain": [
       "NaN     1195\n",
       "1.0      135\n",
       "2.0      102\n",
       "3.0       39\n",
       "4.0       38\n",
       "6.0       27\n",
       "5.0       26\n",
       "8.0       21\n",
       "7.0       19\n",
       "10.0      10\n",
       "9.0        9\n",
       "11.0       6\n",
       "12.0       2\n",
       "13.0       2\n",
       "19.0       1\n",
       "26.0       1\n",
       "14.0       1\n",
       "21.0       1\n",
       "16.0       1\n",
       "Name: numberoffloors, dtype: int64"
      ]
     },
     "execution_count": 32,
     "metadata": {},
     "output_type": "execute_result"
    }
   ],
   "source": [
    "print(\"Number of Floors (most are one or two)\")\n",
    "meta_df.numberoffloors.value_counts(dropna=False)"
   ]
  },
  {
   "cell_type": "code",
   "execution_count": 34,
   "metadata": {},
   "outputs": [
    {
     "name": "stdout",
     "output_type": "stream",
     "text": [
      "Occupants (most are one or two)\n"
     ]
    },
    {
     "data": {
      "text/plain": [
       "230"
      ]
     },
     "execution_count": 34,
     "metadata": {},
     "output_type": "execute_result"
    }
   ],
   "source": [
    "print(\"Occupants (the mode is 100)\")\n",
    "meta_df.occupants.count()"
   ]
  },
  {
   "cell_type": "code",
   "execution_count": 36,
   "metadata": {},
   "outputs": [
    {
     "data": {
      "text/plain": [
       "<AxesSubplot:>"
      ]
     },
     "execution_count": 36,
     "metadata": {},
     "output_type": "execute_result"
    },
    {
     "data": {
      "image/png": "[encoded data removed]",
      "text/plain": [
       "<Figure size 432x288 with 1 Axes>"
      ]
     },
     "metadata": {
      "needs_background": "light"
     },
     "output_type": "display_data"
    }
   ],
   "source": [
    "meta_df.occupants.hist()"
   ]
  },
  {
   "cell_type": "code",
   "execution_count": 37,
   "metadata": {},
   "outputs": [
    {
     "name": "stdout",
     "output_type": "stream",
     "text": [
      "Industry\n"
     ]
    },
    {
     "data": {
      "text/plain": [
       "NaN            1057\n",
       "Education       491\n",
       "Government       80\n",
       "Healthcare        6\n",
       "Hospitality       2\n",
       "Name: industry, dtype: int64"
      ]
     },
     "execution_count": 37,
     "metadata": {},
     "output_type": "execute_result"
    }
   ],
   "source": [
    "print(\"Industry\")\n",
    "meta_df.industry.value_counts(dropna=False)"
   ]
  },
  {
   "cell_type": "code",
   "execution_count": 38,
   "metadata": {},
   "outputs": [
    {
     "name": "stdout",
     "output_type": "stream",
     "text": [
      "Time Zone\n"
     ]
    },
    {
     "data": {
      "text/plain": [
       "US/Eastern       812\n",
       "US/Central       287\n",
       "Europe/London    215\n",
       "US/Mountain      173\n",
       "US/Pacific       113\n",
       "Europe/Dublin     36\n",
       "Name: timezone, dtype: int64"
      ]
     },
     "execution_count": 38,
     "metadata": {},
     "output_type": "execute_result"
    }
   ],
   "source": [
    "print(\"Time Zone\")\n",
    "meta_df.timezone.value_counts(dropna=False)"
   ]
  },
  {
   "cell_type": "code",
   "execution_count": 39,
   "metadata": {},
   "outputs": [
    {
     "name": "stdout",
     "output_type": "stream",
     "text": [
      "Latitude\n"
     ]
    },
    {
     "data": {
      "text/plain": [
       "<AxesSubplot:>"
      ]
     },
     "execution_count": 39,
     "metadata": {},
     "output_type": "execute_result"
    },
    {
     "data": {
      "image/png": "[encoded data removed]",
      "text/plain": [
       "<Figure size 432x288 with 1 Axes>"
      ]
     },
     "metadata": {
      "needs_background": "light"
     },
     "output_type": "display_data"
    }
   ],
   "source": [
    "print(\"Latitude\")\n",
    "meta_df.lat.hist()"
   ]
  },
  {
   "cell_type": "code",
   "execution_count": 41,
   "metadata": {},
   "outputs": [
    {
     "name": "stdout",
     "output_type": "stream",
     "text": [
      "Square Meters\n"
     ]
    },
    {
     "data": {
      "text/plain": [
       "<AxesSubplot:>"
      ]
     },
     "execution_count": 41,
     "metadata": {},
     "output_type": "execute_result"
    },
    {
     "data": {
      "image/png": "[encoded data removed]",
      "text/plain": [
       "<Figure size 432x288 with 1 Axes>"
      ]
     },
     "metadata": {
      "needs_background": "light"
     },
     "output_type": "display_data"
    }
   ],
   "source": [
    "print(\"Square Meters\")\n",
    "meta_df.sqm.hist(log=True)"
   ]
  },
  {
   "cell_type": "code",
   "execution_count": null,
   "metadata": {},
   "outputs": [],
   "source": []
  }
 ],
 "metadata": {
  "kernelspec": {
   "display_name": "Python 3",
   "language": "python",
   "name": "python3"
  },
  "language_info": {
   "codemirror_mode": {
    "name": "ipython",
    "version": 3
   },
   "file_extension": ".py",
   "mimetype": "text/x-python",
   "name": "python",
   "nbconvert_exporter": "python",
   "pygments_lexer": "ipython3",
   "version": "3.8.3"
  }
 },
 "nbformat": 4,
 "nbformat_minor": 2
}
