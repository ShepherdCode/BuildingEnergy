{
 "cells": [
  {
   "cell_type": "markdown",
   "metadata": {},
   "source": [
    "# Electricity Dataset\n",
    "Assume user downloaded archive.zip from Kaggle,\n",
    "renamed the file BuildingData.zip,\n",
    "and stored the file in the data subdirectory.\n",
    "Assume the zip file contains the electricity_cleaned.csv file.  "
   ]
  },
  {
   "cell_type": "code",
   "execution_count": 1,
   "metadata": {},
   "outputs": [],
   "source": [
    "DATAPATH=''\n",
    "try:\n",
    "    # On Google Drive, set path to my drive / data directory.\n",
    "    from google.colab import drive\n",
    "    IN_COLAB = True\n",
    "    PATH='/content/drive/'\n",
    "    drive.mount(PATH)\n",
    "    DATAPATH=PATH+'My Drive/data/'  # must end in \"/\"\n",
    "except:\n",
    "    # On home computer, set path to local data directory.\n",
    "    IN_COLAB = False\n",
    "    DATAPATH='data/'  # must end in \"/\"\n",
    "\n",
    "ZIP_FILE='BuildingData.zip'\n",
    "ZIP_PATH = DATAPATH+ZIP_FILE\n",
    "ELEC_FILE='electricity_cleaned.csv'\n",
    "MODEL_FILE='Model'  # will be used later to save models"
   ]
  },
  {
   "cell_type": "code",
   "execution_count": 2,
   "metadata": {},
   "outputs": [],
   "source": [
    "from os import listdir\n",
    "import csv\n",
    "from zipfile import ZipFile\n",
    "import numpy as np\n",
    "import pandas as pd\n",
    "from sklearn.decomposition import PCA, KernelPCA\n",
    "from sklearn.preprocessing import StandardScaler\n",
    "import matplotlib.pyplot as plt\n",
    "from matplotlib import colors\n",
    "mycmap = colors.ListedColormap(['red','blue'])  # list color for label 0 then 1\n",
    "np.set_printoptions(precision=2)"
   ]
  },
  {
   "cell_type": "code",
   "execution_count": 3,
   "metadata": {},
   "outputs": [],
   "source": [
    "def read_csv_to_numpy(filename): # array of string, header=row[0]\n",
    "    with open(ELEC_PATH,'r') as handle:\n",
    "        data_iter = csv.reader(handle,delimiter = ',',quotechar = '\"')\n",
    "        data = [data for data in data_iter]\n",
    "        return np.asarray(data, dtype = None)\n",
    "# Pandas incorporates column headers, row numbers, timestamps, and NaN for missing values.\n",
    "def read_csv_to_panda(filename): # pandas data frame\n",
    "    return pd.read_csv(filename)\n",
    "def read_zip_to_panda(zip_filename,csv_filename):\n",
    "    zip_handle = ZipFile(zip_filename)\n",
    "    csv_handle = zip_handle.open(csv_filename)\n",
    "    panda = pd.read_csv(csv_handle)\n",
    "    return panda"
   ]
  },
  {
   "cell_type": "code",
   "execution_count": null,
   "metadata": {},
   "outputs": [],
   "source": [
    "elec_df = read_zip_to_panda(ZIP_PATH,ELEC_FILE)\n",
    "elec_df"
   ]
  },
  {
   "cell_type": "code",
   "execution_count": null,
   "metadata": {},
   "outputs": [],
   "source": [
    "def show_sample_panda(df):\n",
    "    print(\"The data is stored in this class:\",type(df))\n",
    "    print(\"Shape:\",df.shape)\n",
    "    data=df.iloc[0]\n",
    "    print(\"First two column names:\",df.columns[0],df.columns[1])\n",
    "    print(\"First two column types:\",df.dtypes[0],df.dtypes[1])\n",
    "    print(\"First data row:\",data[0],data[1],\"...\",data[-2],data[-1])\n",
    "    data=df.iloc[-1]\n",
    "    print(\"Last two column names:\",df.columns[-2],df.columns[-1])\n",
    "    print(\"Last two column types:\",df.dtypes[-2],df.dtypes[-1])\n",
    "    print(\"Last data row:\",data[0],data[1],\"...\",data[-2],data[-1])\n",
    "    df.describe()\n",
    "show_sample_panda(elec_df)"
   ]
  },
  {
   "cell_type": "code",
   "execution_count": null,
   "metadata": {},
   "outputs": [],
   "source": [
    "# Pandas statistics per column. Counts excludes NaN columns and values.\n",
    "elec_df.describe()"
   ]
  },
  {
   "cell_type": "code",
   "execution_count": null,
   "metadata": {},
   "outputs": [],
   "source": [
    "park_cols = [c for c in elec_df.columns if 'parking' in c]\n",
    "print(park_cols)"
   ]
  },
  {
   "cell_type": "code",
   "execution_count": null,
   "metadata": {},
   "outputs": [],
   "source": [
    "elec_df.boxplot(park_cols,rot=90)"
   ]
  },
  {
   "cell_type": "code",
   "execution_count": null,
   "metadata": {},
   "outputs": [],
   "source": [
    "def describe_columns(df,cols):\n",
    "    data_source = {}\n",
    "    usage_category = {}\n",
    "    building = {}\n",
    "    for c in df.columns:\n",
    "        if 'timestamp' not in c:\n",
    "            w1,w2,w3=c.split('_')        \n",
    "            data_source[w1] = data_source.get(w1,0)+1\n",
    "            usage_category[w2] = usage_category.get(w2,0)+1\n",
    "            building[w3] = building.get(w3,0)+1\n",
    "    print(\"Data sources are given animal code names like Bear.\")\n",
    "    print(\"Data sources are single locations e.g. a college campus.\")\n",
    "    print(\"We have one stream of weather data from each data source.\")\n",
    "    print(\"Number of data sources:\",len(data_source))\n",
    "    print(\"Number of buildings with data per data source:\\n\",data_source)\n",
    "    print()\n",
    "    print(\"Buildings are categorized by primary space usage like Parking.\")\n",
    "    print(\"Number of data categories:\",len(usage_category))\n",
    "    print(\"Number of buildings with data per category:\\n\",usage_category)\n",
    "    print()\n",
    "    print(\"Each building is given a person name like Lula.\")\n",
    "    print(\"Number of distinct building names:\",len(building))\n",
    "    print()\n",
    "    print(\"Note that Robin is an animal, not a building name.\")\n",
    "    \n",
    "describe_columns(elec_df,elec_df.columns)"
   ]
  },
  {
   "cell_type": "code",
   "execution_count": null,
   "metadata": {},
   "outputs": [],
   "source": []
  },
  {
   "cell_type": "code",
   "execution_count": null,
   "metadata": {},
   "outputs": [],
   "source": []
  }
 ],
 "metadata": {
  "kernelspec": {
   "display_name": "Python 3",
   "language": "python",
   "name": "python3"
  },
  "language_info": {
   "codemirror_mode": {
    "name": "ipython",
    "version": 3
   },
   "file_extension": ".py",
   "mimetype": "text/x-python",
   "name": "python",
   "nbconvert_exporter": "python",
   "pygments_lexer": "ipython3",
   "version": "3.8.5"
  }
 },
 "nbformat": 4,
 "nbformat_minor": 2
}
